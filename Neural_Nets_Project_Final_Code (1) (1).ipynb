{
 "cells": [
  {
   "cell_type": "markdown",
   "metadata": {},
   "source": [
    "# Gesture Recognition\n",
    "In this group project, you are going to build a 3D Conv model that will be able to predict the 5 gestures correctly. Please import the following libraries to get started."
   ]
  },
  {
   "cell_type": "code",
   "execution_count": 2,
   "metadata": {},
   "outputs": [
    {
     "name": "stdout",
     "output_type": "stream",
     "text": [
      "2.7.0\n"
     ]
    }
   ],
   "source": [
    "import numpy as np\n",
    "import os\n",
    "#from scipy.misc import  imresize\n",
    "#from scipy.misc.pilutil import imread, \n",
    "from skimage.transform import resize, rescale\n",
    "from matplotlib.pyplot import imread\n",
    "import datetime\n",
    "import os\n",
    "import tensorflow as tf\n",
    "print(tf.__version__)\n",
    "import pathlib"
   ]
  },
  {
   "cell_type": "markdown",
   "metadata": {},
   "source": [
    "We set the random seed so that the results don't vary drastically."
   ]
  },
  {
   "cell_type": "code",
   "execution_count": 3,
   "metadata": {},
   "outputs": [],
   "source": [
    "np.random.seed(30)\n",
    "import random as rn\n",
    "rn.seed(30)\n",
    "from keras import backend as K\n",
    "tf.random.set_seed(30)"
   ]
  },
  {
   "cell_type": "markdown",
   "metadata": {},
   "source": [
    "In this block, you read the folder names for training and validation. You also set the `batch_size` here. Note that you set the batch size in such a way that you are able to use the GPU in full capacity. You keep increasing the batch size until the machine throws an error."
   ]
  },
  {
   "cell_type": "code",
   "execution_count": 4,
   "metadata": {},
   "outputs": [],
   "source": [
    "data_dir_train = pathlib.Path(\"datasets/Project_data/train\")\n",
    "data_dir_val = pathlib.Path(\"datasets/Project_data/val\")"
   ]
  },
  {
   "cell_type": "code",
   "execution_count": 5,
   "metadata": {},
   "outputs": [
    {
     "name": "stdout",
     "output_type": "stream",
     "text": [
      "19890\n",
      "3000\n"
     ]
    }
   ],
   "source": [
    "image_count_train = len(list(data_dir_train.glob('*/*.png')))\n",
    "print(image_count_train)\n",
    "image_count_val = len(list(data_dir_val.glob('*/*.png')))\n",
    "print(image_count_val)"
   ]
  },
  {
   "cell_type": "code",
   "execution_count": 6,
   "metadata": {},
   "outputs": [],
   "source": [
    "train_doc = np.random.permutation(open('datasets/Project_data/train.csv').readlines())\n",
    "val_doc = np.random.permutation(open('datasets/Project_data/val.csv').readlines())"
   ]
  },
  {
   "cell_type": "code",
   "execution_count": 12,
   "metadata": {},
   "outputs": [],
   "source": [
    "def sequence (num_ephos, batch_size):\n",
    "        curr_dt_time = datetime.datetime.now()\n",
    "        train_path = 'datasets/Project_data/train'\n",
    "        val_path = 'datasets/Project_data/val'\n",
    "        num_train_sequences = len(train_doc)\n",
    "        print('# training sequences =', num_train_sequences)\n",
    "        num_val_sequences = len(val_doc)\n",
    "        print('# validation sequences =', num_val_sequences)\n",
    "        num_epochs = num_ephos\n",
    "        print ('# epochs =', num_epochs)\n",
    "        print('#batch size', batch_size)\n",
    "        if (num_train_sequences%batch_size) == 0:\n",
    "            steps_per_epoch = int(num_train_sequences/batch_size)\n",
    "        else:\n",
    "            steps_per_epoch = (num_train_sequences//batch_size) + 1\n",
    "\n",
    "        if (num_val_sequences%batch_size) == 0:\n",
    "            validation_steps = int(num_val_sequences/batch_size)\n",
    "        else:\n",
    "            validation_steps = (num_val_sequences//batch_size) + 1\n",
    "        \n",
    "        return steps_per_epoch, validation_steps,num_epochs"
   ]
  },
  {
   "cell_type": "code",
   "execution_count": 7,
   "metadata": {},
   "outputs": [
    {
     "name": "stdout",
     "output_type": "stream",
     "text": [
      "# training sequences = 663\n",
      "# validation sequences = 100\n",
      "# epochs = 25\n",
      "#batch size 64\n",
      "steps_per_epoch 11\n",
      "validation_steps 2\n",
      "25\n"
     ]
    }
   ],
   "source": [
    "#Defining batch size and number of epochs, getting steps per epochs for training and validation\n",
    "batch_size = 64\n",
    "number_epochs = 25\n",
    "d = sequence(number_epochs,batch_size)\n",
    "steps_per_epoch = d[0]\n",
    "validation_steps = d[1]\n",
    "num_epochs = d[2]\n",
    "\n",
    "print('steps_per_epoch', steps_per_epoch)\n",
    "print('validation_steps', validation_steps)\n",
    "print(num_epochs)"
   ]
  },
  {
   "cell_type": "code",
   "execution_count": 9,
   "metadata": {},
   "outputs": [],
   "source": [
    "from keras.models import Sequential\n",
    "from keras.layers import Dense, GRU, Dropout, Flatten, BatchNormalization, Activation\n",
    "from keras.layers.convolutional import Conv3D, MaxPooling3D, MaxPooling2D\n",
    "from keras.callbacks import ModelCheckpoint, ReduceLROnPlateau\n",
    "from keras import optimizers\n",
    "from skimage.transform import resize"
   ]
  },
  {
   "cell_type": "markdown",
   "metadata": {},
   "source": [
    "## Generator\n",
    "This is one of the most important part of the code. The overall structure of the generator has been given. In the generator, you are going to preprocess the images as you have images of 2 different dimensions as well as create a batch of video frames. You have to experiment with `img_idx`, `y`,`z` and normalization such that you get high accuracy."
   ]
  },
  {
   "cell_type": "code",
   "execution_count": 14,
   "metadata": {},
   "outputs": [],
   "source": [
    "def generator(source_path, folder_list, batch_size):\n",
    "    print( 'Source path = ', source_path, '; batch size =', batch_size)\n",
    "    img_idx = [0,1,2,4,6,8,10,12,14,16,18,20,22,24,26,27,28,29]\n",
    "    while True:\n",
    "        t = np.random.permutation(folder_list)\n",
    "        num_batches = int(len(t)/batch_size)\n",
    "        for batch in range(num_batches):\n",
    "            batch_data = np.zeros((batch_size,18,84,84,3))\n",
    "            batch_labels = np.zeros((batch_size,5))\n",
    "            for folder in range(batch_size):\n",
    "                imgs = os.listdir(source_path+'/'+ t[folder + (batch*batch_size)].split(';')[0])\n",
    "                for idx,item in enumerate(img_idx):\n",
    "                    image = imread(source_path+'/'+ t[folder + (batch*batch_size)].strip().split(';')[0]+'/'+imgs[item]).astype(np.float32)\n",
    "                    if image.shape[1] == 160:\n",
    "                        image = resize(image[:,20:140,:],(84,84)).astype(np.float32)\n",
    "                    else:\n",
    "                        image = resize(image,(84,84)).astype(np.float32)\n",
    "                    \n",
    "                    batch_data[folder,idx,:,:,0] = image[:,:,0] - 104\n",
    "                    batch_data[folder,idx,:,:,1] = image[:,:,1] - 117\n",
    "                    batch_data[folder,idx,:,:,2] = image[:,:,2] - 123\n",
    "                    \n",
    "                batch_labels[folder, int(t[folder + (batch*batch_size)].strip().split(';')[2])] = 1\n",
    "            yield batch_data, batch_labels\n",
    "\n",
    "        if (len(t)%batch_size) != 0:\n",
    "            batch_data = np.zeros((len(t)%batch_size,18,84,84,3))\n",
    "            batch_labels = np.zeros((len(t)%batch_size,5))\n",
    "            for folder in range(len(t)%batch_size):\n",
    "                imgs = os.listdir(source_path+'/'+ t[folder + (num_batches*batch_size)].split(';')[0])\n",
    "                for idx,item in enumerate(img_idx):\n",
    "                    image = imread(source_path+'/'+ t[folder + (num_batches*batch_size)].strip().split(';')[0]+'/'+imgs[item]).astype(np.float32)\n",
    "                    if image.shape[1] == 160:\n",
    "                        image = resize(image[:,20:140,:],(84,84)).astype(np.float32)\n",
    "                    else:\n",
    "                        image = resize(image,(84,84)).astype(np.float32)\n",
    "\n",
    "                    batch_data[folder,idx,:,:,0] = image[:,:,0] - 104\n",
    "                    batch_data[folder,idx,:,:,1] = image[:,:,1] - 117\n",
    "                    batch_data[folder,idx,:,:,2] = image[:,:,2] - 123\n",
    "\n",
    "                batch_labels[folder, int(t[folder + (num_batches*batch_size)].strip().split(';')[2])] = 1\n",
    "\n",
    "            yield batch_data, batch_labels"
   ]
  },
  {
   "cell_type": "code",
   "execution_count": null,
   "metadata": {},
   "outputs": [],
   "source": []
  },
  {
   "cell_type": "markdown",
   "metadata": {},
   "source": [
    "Note here that a video is represented above in the generator as (number of images, height, width, number of channels). Take this into consideration while creating the model architecture."
   ]
  },
  {
   "cell_type": "code",
   "execution_count": 10,
   "metadata": {},
   "outputs": [
    {
     "name": "stdout",
     "output_type": "stream",
     "text": [
      "# training sequences = 663\n",
      "# validation sequences = 100\n",
      "# epochs = 30\n"
     ]
    }
   ],
   "source": [
    "curr_dt_time = datetime.datetime.now()\n",
    "train_path = 'datasets/Project_data/train'\n",
    "val_path = 'datasets/Project_data/val'\n",
    "num_train_sequences = len(train_doc)\n",
    "print('# training sequences =', num_train_sequences)\n",
    "num_val_sequences = len(val_doc)\n",
    "print('# validation sequences =', num_val_sequences)\n",
    "num_epochs = 30\n",
    "print ('# epochs =', num_epochs)"
   ]
  },
  {
   "cell_type": "markdown",
   "metadata": {},
   "source": [
    "## Model\n",
    "Here you make the model using different functionalities that Keras provides. Remember to use `Conv3D` and `MaxPooling3D` and not `Conv2D` and `Maxpooling2D` for a 3D convolution model. You would want to use `TimeDistributed` while building a Conv2D + RNN model. Also remember that the last layer is the softmax. Design the network in such a way that the model is able to give good accuracy on the least number of parameters so that it can fit in the memory of the webcam."
   ]
  },
  {
   "cell_type": "code",
   "execution_count": 19,
   "metadata": {},
   "outputs": [],
   "source": [
    "from keras.models import Sequential, Model\n",
    "from keras.layers import Dense, GRU, Flatten, TimeDistributed, Flatten, BatchNormalization, Activation\n",
    "from keras.layers.convolutional import Conv3D, MaxPooling3D, Conv2D\n",
    "from keras.callbacks import ModelCheckpoint, ReduceLROnPlateau\n",
    "from keras import optimizers\n",
    "\n",
    "model = Sequential()\n",
    "model.add(Conv3D(64, (3,3,3), strides=(1,1,1), padding='same', input_shape=(18,84,84,3)))\n",
    "model.add(BatchNormalization())\n",
    "model.add(Activation('elu'))\n",
    "model.add(MaxPooling3D(pool_size=(2,2,1), strides=(2,2,1)))\n",
    "\n",
    "model.add(Conv3D(128, (3,3,3), strides=(1,1,1), padding='same'))\n",
    "model.add(BatchNormalization())\n",
    "model.add(Activation('elu'))\n",
    "model.add(MaxPooling3D(pool_size=(2,2,2), strides=(2,2,2)))\n",
    "\n",
    "# model.add(Dropout(0.25))\n",
    "\n",
    "model.add(Conv3D(256, (3,3,3), strides=(1,1,1), padding='same'))\n",
    "model.add(BatchNormalization())\n",
    "model.add(Activation('elu'))\n",
    "model.add(MaxPooling3D(pool_size=(2,2,2), strides=(2,2,2)))\n",
    "\n",
    "# model.add(Dropout(0.25))\n",
    "\n",
    "model.add(Conv3D(256, (3,3,3), strides=(1,1,1), padding='same'))\n",
    "model.add(BatchNormalization())\n",
    "model.add(Activation('elu'))\n",
    "model.add(MaxPooling3D(pool_size=(2,2,2), strides=(2,2,2)))\n",
    "\n",
    "model.add(Flatten())\n",
    "#model.add(Dropout(0.5))\n",
    "model.add(Dense(512, activation='elu'))\n",
    "#model.add(Dropout(0.5))\n",
    "model.add(Dense(5, activation='softmax'))"
   ]
  },
  {
   "cell_type": "markdown",
   "metadata": {},
   "source": [
    "Now that you have written the model, the next step is to `compile` the model. When you print the `summary` of the model, you'll see the total number of parameters you have to train."
   ]
  },
  {
   "cell_type": "code",
   "execution_count": 26,
   "metadata": {
    "scrolled": true
   },
   "outputs": [
    {
     "name": "stdout",
     "output_type": "stream",
     "text": [
      "Model: \"sequential_1\"\n",
      "_________________________________________________________________\n",
      " Layer (type)                Output Shape              Param #   \n",
      "=================================================================\n",
      " conv3d_4 (Conv3D)           (None, 18, 84, 84, 64)    5248      \n",
      "                                                                 \n",
      " batch_normalization_4 (Batc  (None, 18, 84, 84, 64)   256       \n",
      " hNormalization)                                                 \n",
      "                                                                 \n",
      " activation_4 (Activation)   (None, 18, 84, 84, 64)    0         \n",
      "                                                                 \n",
      " max_pooling3d_4 (MaxPooling  (None, 9, 42, 84, 64)    0         \n",
      " 3D)                                                             \n",
      "                                                                 \n",
      " conv3d_5 (Conv3D)           (None, 9, 42, 84, 128)    221312    \n",
      "                                                                 \n",
      " batch_normalization_5 (Batc  (None, 9, 42, 84, 128)   512       \n",
      " hNormalization)                                                 \n",
      "                                                                 \n",
      " activation_5 (Activation)   (None, 9, 42, 84, 128)    0         \n",
      "                                                                 \n",
      " max_pooling3d_5 (MaxPooling  (None, 4, 21, 42, 128)   0         \n",
      " 3D)                                                             \n",
      "                                                                 \n",
      " conv3d_6 (Conv3D)           (None, 4, 21, 42, 256)    884992    \n",
      "                                                                 \n",
      " batch_normalization_6 (Batc  (None, 4, 21, 42, 256)   1024      \n",
      " hNormalization)                                                 \n",
      "                                                                 \n",
      " activation_6 (Activation)   (None, 4, 21, 42, 256)    0         \n",
      "                                                                 \n",
      " max_pooling3d_6 (MaxPooling  (None, 2, 10, 21, 256)   0         \n",
      " 3D)                                                             \n",
      "                                                                 \n",
      " conv3d_7 (Conv3D)           (None, 2, 10, 21, 256)    1769728   \n",
      "                                                                 \n",
      " batch_normalization_7 (Batc  (None, 2, 10, 21, 256)   1024      \n",
      " hNormalization)                                                 \n",
      "                                                                 \n",
      " activation_7 (Activation)   (None, 2, 10, 21, 256)    0         \n",
      "                                                                 \n",
      " max_pooling3d_7 (MaxPooling  (None, 1, 5, 10, 256)    0         \n",
      " 3D)                                                             \n",
      "                                                                 \n",
      " flatten_1 (Flatten)         (None, 12800)             0         \n",
      "                                                                 \n",
      " dense_2 (Dense)             (None, 512)               6554112   \n",
      "                                                                 \n",
      " dense_3 (Dense)             (None, 5)                 2565      \n",
      "                                                                 \n",
      "=================================================================\n",
      "Total params: 9,440,773\n",
      "Trainable params: 9,439,365\n",
      "Non-trainable params: 1,408\n",
      "_________________________________________________________________\n",
      "None\n"
     ]
    }
   ],
   "source": [
    "sgd = tf.optimizers.SGD(lr=0.001, decay=1e-6, momentum=0.7, nesterov=True)\n",
    "model.compile(optimizer=sgd, loss='categorical_crossentropy', metrics=['categorical_accuracy'])\n",
    "print (model.summary())"
   ]
  },
  {
   "cell_type": "markdown",
   "metadata": {},
   "source": [
    "Let us create the `train_generator` and the `val_generator` which will be used in `.fit_generator`."
   ]
  },
  {
   "cell_type": "code",
   "execution_count": 28,
   "metadata": {},
   "outputs": [],
   "source": [
    "train_generator = generator(train_path, train_doc, batch_size)\n",
    "val_generator = generator(val_path, val_doc, batch_size)"
   ]
  },
  {
   "cell_type": "code",
   "execution_count": 33,
   "metadata": {},
   "outputs": [
    {
     "name": "stdout",
     "output_type": "stream",
     "text": [
      "WARNING:tensorflow:`period` argument is deprecated. Please use `save_freq` to specify the frequency in number of batches seen.\n",
      "WARNING:tensorflow:`epsilon` argument is deprecated and will be removed, use `min_delta` instead.\n"
     ]
    }
   ],
   "source": [
    "model_name = 'model_init_Conv3d' + '_' + str(curr_dt_time).replace(' ','').replace(':','_') + '/'\n",
    "    \n",
    "if not os.path.exists(model_name):\n",
    "    os.mkdir(model_name)\n",
    "        \n",
    "filepath = model_name + 'model-{epoch:05d}-{loss:.5f}-{categorical_accuracy:.5f}-{val_loss:.5f}-{val_categorical_accuracy:.5f}.h5'\n",
    "\n",
    "checkpoint = ModelCheckpoint(filepath, monitor='val_loss', verbose=1, save_best_only=False, save_weights_only=False, mode='auto', period=1)\n",
    "\n",
    "LR = ReduceLROnPlateau(monitor='val_loss', factor=0.5, patience=2, verbose=1, mode='min', epsilon=0.0001, cooldown=0, min_lr=0.00001)\n",
    "callbacks_list = [checkpoint, LR]"
   ]
  },
  {
   "cell_type": "markdown",
   "metadata": {},
   "source": [
    "The `steps_per_epoch` and `validation_steps` are used by `fit_generator` to decide the number of next() calls it need to make."
   ]
  },
  {
   "cell_type": "code",
   "execution_count": 30,
   "metadata": {},
   "outputs": [],
   "source": [
    "if (num_train_sequences%batch_size) == 0:\n",
    "    steps_per_epoch = int(num_train_sequences/batch_size)\n",
    "else:\n",
    "    steps_per_epoch = (num_train_sequences//batch_size) + 1\n",
    "\n",
    "if (num_val_sequences%batch_size) == 0:\n",
    "    validation_steps = int(num_val_sequences/batch_size)\n",
    "else:\n",
    "    validation_steps = (num_val_sequences//batch_size) + 1"
   ]
  },
  {
   "cell_type": "markdown",
   "metadata": {},
   "source": [
    "Let us now fit the model. This will start training the model and with the help of the checkpoints, you'll be able to save the model at the end of each epoch."
   ]
  },
  {
   "cell_type": "code",
   "execution_count": 34,
   "metadata": {},
   "outputs": [
    {
     "name": "stderr",
     "output_type": "stream",
     "text": [
      "/tmp/ipykernel_387/4091165505.py:1: UserWarning: `Model.fit_generator` is deprecated and will be removed in a future version. Please use `Model.fit`, which supports generators.\n",
      "  model1 = model.fit_generator(train_generator, steps_per_epoch=steps_per_epoch, epochs=num_epochs, verbose=1,\n"
     ]
    },
    {
     "name": "stdout",
     "output_type": "stream",
     "text": [
      "Epoch 1/30\n",
      "11/11 [==============================] - ETA: 0s - loss: 1.6109 - categorical_accuracy: 0.1810\n",
      "Epoch 00001: saving model to model_init_Conv3d_2023-09-3005_04_11.720532/model-00001-1.61092-0.18100-1.61481-0.22000.h5\n",
      "11/11 [==============================] - 100s 10s/step - loss: 1.6109 - categorical_accuracy: 0.1810 - val_loss: 1.6148 - val_categorical_accuracy: 0.2200 - lr: 1.2500e-04\n",
      "Epoch 2/30\n",
      "11/11 [==============================] - ETA: 0s - loss: 1.6129 - categorical_accuracy: 0.1991\n",
      "Epoch 00002: saving model to model_init_Conv3d_2023-09-3005_04_11.720532/model-00002-1.61288-0.19910-1.60813-0.22000.h5\n",
      "11/11 [==============================] - 94s 9s/step - loss: 1.6129 - categorical_accuracy: 0.1991 - val_loss: 1.6081 - val_categorical_accuracy: 0.2200 - lr: 1.2500e-04\n",
      "Epoch 3/30\n",
      "11/11 [==============================] - ETA: 0s - loss: 1.6135 - categorical_accuracy: 0.1931\n",
      "Epoch 00003: saving model to model_init_Conv3d_2023-09-3005_04_11.720532/model-00003-1.61353-0.19306-1.61449-0.22000.h5\n",
      "11/11 [==============================] - 100s 10s/step - loss: 1.6135 - categorical_accuracy: 0.1931 - val_loss: 1.6145 - val_categorical_accuracy: 0.2200 - lr: 1.2500e-04\n",
      "Epoch 4/30\n",
      "11/11 [==============================] - ETA: 0s - loss: 1.6108 - categorical_accuracy: 0.1931\n",
      "Epoch 00004: saving model to model_init_Conv3d_2023-09-3005_04_11.720532/model-00004-1.61075-0.19306-1.61525-0.22000.h5\n",
      "\n",
      "Epoch 00004: ReduceLROnPlateau reducing learning rate to 6.25000029685907e-05.\n",
      "11/11 [==============================] - 91s 9s/step - loss: 1.6108 - categorical_accuracy: 0.1931 - val_loss: 1.6153 - val_categorical_accuracy: 0.2200 - lr: 1.2500e-04\n",
      "Epoch 5/30\n",
      "11/11 [==============================] - ETA: 0s - loss: 1.6102 - categorical_accuracy: 0.2036\n",
      "Epoch 00005: saving model to model_init_Conv3d_2023-09-3005_04_11.720532/model-00005-1.61022-0.20362-1.61106-0.21000.h5\n",
      "11/11 [==============================] - 101s 10s/step - loss: 1.6102 - categorical_accuracy: 0.2036 - val_loss: 1.6111 - val_categorical_accuracy: 0.2100 - lr: 6.2500e-05\n",
      "Epoch 6/30\n",
      "11/11 [==============================] - ETA: 0s - loss: 1.6106 - categorical_accuracy: 0.1946\n",
      "Epoch 00006: saving model to model_init_Conv3d_2023-09-3005_04_11.720532/model-00006-1.61058-0.19457-1.60484-0.17000.h5\n",
      "11/11 [==============================] - 100s 10s/step - loss: 1.6106 - categorical_accuracy: 0.1946 - val_loss: 1.6048 - val_categorical_accuracy: 0.1700 - lr: 6.2500e-05\n",
      "Epoch 7/30\n",
      "11/11 [==============================] - ETA: 0s - loss: 1.6113 - categorical_accuracy: 0.2157\n",
      "Epoch 00007: saving model to model_init_Conv3d_2023-09-3005_04_11.720532/model-00007-1.61128-0.21569-1.60797-0.22000.h5\n",
      "11/11 [==============================] - 104s 10s/step - loss: 1.6113 - categorical_accuracy: 0.2157 - val_loss: 1.6080 - val_categorical_accuracy: 0.2200 - lr: 6.2500e-05\n",
      "Epoch 8/30\n",
      "11/11 [==============================] - ETA: 0s - loss: 1.6101 - categorical_accuracy: 0.1961\n",
      "Epoch 00008: saving model to model_init_Conv3d_2023-09-3005_04_11.720532/model-00008-1.61012-0.19608-1.61896-0.18000.h5\n",
      "\n",
      "Epoch 00008: ReduceLROnPlateau reducing learning rate to 3.125000148429535e-05.\n",
      "11/11 [==============================] - 98s 10s/step - loss: 1.6101 - categorical_accuracy: 0.1961 - val_loss: 1.6190 - val_categorical_accuracy: 0.1800 - lr: 6.2500e-05\n",
      "Epoch 9/30\n",
      "11/11 [==============================] - ETA: 0s - loss: 1.6086 - categorical_accuracy: 0.1916\n",
      "Epoch 00009: saving model to model_init_Conv3d_2023-09-3005_04_11.720532/model-00009-1.60860-0.19155-1.60945-0.21000.h5\n",
      "11/11 [==============================] - 99s 10s/step - loss: 1.6086 - categorical_accuracy: 0.1916 - val_loss: 1.6095 - val_categorical_accuracy: 0.2100 - lr: 3.1250e-05\n",
      "Epoch 10/30\n",
      "11/11 [==============================] - ETA: 0s - loss: 1.6094 - categorical_accuracy: 0.1946\n",
      "Epoch 00010: saving model to model_init_Conv3d_2023-09-3005_04_11.720532/model-00010-1.60937-0.19457-1.60925-0.21000.h5\n",
      "\n",
      "Epoch 00010: ReduceLROnPlateau reducing learning rate to 1.5625000742147677e-05.\n",
      "11/11 [==============================] - 94s 9s/step - loss: 1.6094 - categorical_accuracy: 0.1946 - val_loss: 1.6093 - val_categorical_accuracy: 0.2100 - lr: 3.1250e-05\n",
      "Epoch 11/30\n",
      "11/11 [==============================] - ETA: 0s - loss: 1.6085 - categorical_accuracy: 0.1916\n",
      "Epoch 00011: saving model to model_init_Conv3d_2023-09-3005_04_11.720532/model-00011-1.60848-0.19155-1.60817-0.21000.h5\n",
      "11/11 [==============================] - 97s 10s/step - loss: 1.6085 - categorical_accuracy: 0.1916 - val_loss: 1.6082 - val_categorical_accuracy: 0.2100 - lr: 1.5625e-05\n",
      "Epoch 12/30\n",
      "11/11 [==============================] - ETA: 0s - loss: 1.6082 - categorical_accuracy: 0.2172\n",
      "Epoch 00012: saving model to model_init_Conv3d_2023-09-3005_04_11.720532/model-00012-1.60820-0.21719-1.60486-0.24000.h5\n",
      "\n",
      "Epoch 00012: ReduceLROnPlateau reducing learning rate to 1e-05.\n",
      "11/11 [==============================] - 95s 9s/step - loss: 1.6082 - categorical_accuracy: 0.2172 - val_loss: 1.6049 - val_categorical_accuracy: 0.2400 - lr: 1.5625e-05\n",
      "Epoch 13/30\n",
      "11/11 [==============================] - ETA: 0s - loss: 1.6091 - categorical_accuracy: 0.2308\n",
      "Epoch 00013: saving model to model_init_Conv3d_2023-09-3005_04_11.720532/model-00013-1.60911-0.23077-1.60707-0.21000.h5\n",
      "11/11 [==============================] - 98s 10s/step - loss: 1.6091 - categorical_accuracy: 0.2308 - val_loss: 1.6071 - val_categorical_accuracy: 0.2100 - lr: 1.0000e-05\n",
      "Epoch 14/30\n",
      "11/11 [==============================] - ETA: 0s - loss: 1.6096 - categorical_accuracy: 0.2127\n",
      "Epoch 00014: saving model to model_init_Conv3d_2023-09-3005_04_11.720532/model-00014-1.60962-0.21267-1.61090-0.19000.h5\n",
      "11/11 [==============================] - 99s 10s/step - loss: 1.6096 - categorical_accuracy: 0.2127 - val_loss: 1.6109 - val_categorical_accuracy: 0.1900 - lr: 1.0000e-05\n",
      "Epoch 15/30\n",
      "11/11 [==============================] - ETA: 0s - loss: 1.6067 - categorical_accuracy: 0.2097\n",
      "Epoch 00015: saving model to model_init_Conv3d_2023-09-3005_04_11.720532/model-00015-1.60666-0.20965-1.60641-0.21000.h5\n",
      "11/11 [==============================] - 98s 10s/step - loss: 1.6067 - categorical_accuracy: 0.2097 - val_loss: 1.6064 - val_categorical_accuracy: 0.2100 - lr: 1.0000e-05\n",
      "Epoch 16/30\n",
      "11/11 [==============================] - ETA: 0s - loss: 1.6085 - categorical_accuracy: 0.2142\n",
      "Epoch 00016: saving model to model_init_Conv3d_2023-09-3005_04_11.720532/model-00016-1.60845-0.21418-1.60619-0.21000.h5\n",
      "11/11 [==============================] - 92s 9s/step - loss: 1.6085 - categorical_accuracy: 0.2142 - val_loss: 1.6062 - val_categorical_accuracy: 0.2100 - lr: 1.0000e-05\n",
      "Epoch 17/30\n",
      "11/11 [==============================] - ETA: 0s - loss: 1.6098 - categorical_accuracy: 0.2066\n",
      "Epoch 00017: saving model to model_init_Conv3d_2023-09-3005_04_11.720532/model-00017-1.60985-0.20664-1.60702-0.21000.h5\n",
      "11/11 [==============================] - 96s 9s/step - loss: 1.6098 - categorical_accuracy: 0.2066 - val_loss: 1.6070 - val_categorical_accuracy: 0.2100 - lr: 1.0000e-05\n",
      "Epoch 18/30\n",
      "11/11 [==============================] - ETA: 0s - loss: 1.6067 - categorical_accuracy: 0.2368\n",
      "Epoch 00018: saving model to model_init_Conv3d_2023-09-3005_04_11.720532/model-00018-1.60672-0.23680-1.60700-0.21000.h5\n",
      "11/11 [==============================] - 93s 9s/step - loss: 1.6067 - categorical_accuracy: 0.2368 - val_loss: 1.6070 - val_categorical_accuracy: 0.2100 - lr: 1.0000e-05\n",
      "Epoch 19/30\n",
      "11/11 [==============================] - ETA: 0s - loss: 1.6094 - categorical_accuracy: 0.2262\n",
      "Epoch 00019: saving model to model_init_Conv3d_2023-09-3005_04_11.720532/model-00019-1.60940-0.22624-1.60631-0.21000.h5\n",
      "11/11 [==============================] - 98s 10s/step - loss: 1.6094 - categorical_accuracy: 0.2262 - val_loss: 1.6063 - val_categorical_accuracy: 0.2100 - lr: 1.0000e-05\n",
      "Epoch 20/30\n",
      "11/11 [==============================] - ETA: 0s - loss: 1.6084 - categorical_accuracy: 0.2428\n",
      "Epoch 00020: saving model to model_init_Conv3d_2023-09-3005_04_11.720532/model-00020-1.60841-0.24284-1.60455-0.24000.h5\n",
      "11/11 [==============================] - 95s 9s/step - loss: 1.6084 - categorical_accuracy: 0.2428 - val_loss: 1.6046 - val_categorical_accuracy: 0.2400 - lr: 1.0000e-05\n",
      "Epoch 21/30\n",
      "11/11 [==============================] - ETA: 0s - loss: 1.6086 - categorical_accuracy: 0.2006\n",
      "Epoch 00021: saving model to model_init_Conv3d_2023-09-3005_04_11.720532/model-00021-1.60860-0.20060-1.60635-0.23000.h5\n",
      "11/11 [==============================] - 99s 10s/step - loss: 1.6086 - categorical_accuracy: 0.2006 - val_loss: 1.6064 - val_categorical_accuracy: 0.2300 - lr: 1.0000e-05\n",
      "Epoch 22/30\n",
      "11/11 [==============================] - ETA: 0s - loss: 1.6067 - categorical_accuracy: 0.2202\n",
      "Epoch 00022: saving model to model_init_Conv3d_2023-09-3005_04_11.720532/model-00022-1.60672-0.22021-1.60422-0.30000.h5\n",
      "11/11 [==============================] - 91s 9s/step - loss: 1.6067 - categorical_accuracy: 0.2202 - val_loss: 1.6042 - val_categorical_accuracy: 0.3000 - lr: 1.0000e-05\n",
      "Epoch 23/30\n",
      "11/11 [==============================] - ETA: 0s - loss: 1.6094 - categorical_accuracy: 0.1916\n",
      "Epoch 00023: saving model to model_init_Conv3d_2023-09-3005_04_11.720532/model-00023-1.60939-0.19155-1.60610-0.21000.h5\n",
      "11/11 [==============================] - 100s 10s/step - loss: 1.6094 - categorical_accuracy: 0.1916 - val_loss: 1.6061 - val_categorical_accuracy: 0.2100 - lr: 1.0000e-05\n",
      "Epoch 24/30\n",
      "11/11 [==============================] - ETA: 0s - loss: 1.6090 - categorical_accuracy: 0.1961\n",
      "Epoch 00024: saving model to model_init_Conv3d_2023-09-3005_04_11.720532/model-00024-1.60900-0.19608-1.60863-0.17000.h5\n",
      "11/11 [==============================] - 91s 9s/step - loss: 1.6090 - categorical_accuracy: 0.1961 - val_loss: 1.6086 - val_categorical_accuracy: 0.1700 - lr: 1.0000e-05\n",
      "Epoch 25/30\n",
      "11/11 [==============================] - ETA: 0s - loss: 1.6056 - categorical_accuracy: 0.2202\n",
      "Epoch 00025: saving model to model_init_Conv3d_2023-09-3005_04_11.720532/model-00025-1.60564-0.22021-1.60542-0.21000.h5\n",
      "11/11 [==============================] - 99s 10s/step - loss: 1.6056 - categorical_accuracy: 0.2202 - val_loss: 1.6054 - val_categorical_accuracy: 0.2100 - lr: 1.0000e-05\n",
      "Epoch 26/30\n",
      "11/11 [==============================] - ETA: 0s - loss: 1.6108 - categorical_accuracy: 0.2066\n",
      "Epoch 00026: saving model to model_init_Conv3d_2023-09-3005_04_11.720532/model-00026-1.61079-0.20664-1.60707-0.21000.h5\n",
      "11/11 [==============================] - 95s 9s/step - loss: 1.6108 - categorical_accuracy: 0.2066 - val_loss: 1.6071 - val_categorical_accuracy: 0.2100 - lr: 1.0000e-05\n",
      "Epoch 27/30\n",
      "11/11 [==============================] - ETA: 0s - loss: 1.6088 - categorical_accuracy: 0.2006\n",
      "Epoch 00027: saving model to model_init_Conv3d_2023-09-3005_04_11.720532/model-00027-1.60885-0.20060-1.60638-0.23000.h5\n",
      "11/11 [==============================] - 101s 10s/step - loss: 1.6088 - categorical_accuracy: 0.2006 - val_loss: 1.6064 - val_categorical_accuracy: 0.2300 - lr: 1.0000e-05\n",
      "Epoch 28/30\n",
      "11/11 [==============================] - ETA: 0s - loss: 1.6067 - categorical_accuracy: 0.2006\n",
      "Epoch 00028: saving model to model_init_Conv3d_2023-09-3005_04_11.720532/model-00028-1.60670-0.20060-1.60709-0.20000.h5\n",
      "11/11 [==============================] - 91s 9s/step - loss: 1.6067 - categorical_accuracy: 0.2006 - val_loss: 1.6071 - val_categorical_accuracy: 0.2000 - lr: 1.0000e-05\n",
      "Epoch 29/30\n",
      "11/11 [==============================] - ETA: 0s - loss: 1.6083 - categorical_accuracy: 0.2172\n",
      "Epoch 00029: saving model to model_init_Conv3d_2023-09-3005_04_11.720532/model-00029-1.60829-0.21719-1.60630-0.23000.h5\n",
      "11/11 [==============================] - 97s 10s/step - loss: 1.6083 - categorical_accuracy: 0.2172 - val_loss: 1.6063 - val_categorical_accuracy: 0.2300 - lr: 1.0000e-05\n",
      "Epoch 30/30\n",
      "11/11 [==============================] - ETA: 0s - loss: 1.6086 - categorical_accuracy: 0.2142\n",
      "Epoch 00030: saving model to model_init_Conv3d_2023-09-3005_04_11.720532/model-00030-1.60858-0.21418-1.60627-0.21000.h5\n",
      "11/11 [==============================] - 98s 10s/step - loss: 1.6086 - categorical_accuracy: 0.2142 - val_loss: 1.6063 - val_categorical_accuracy: 0.2100 - lr: 1.0000e-05\n"
     ]
    }
   ],
   "source": [
    "model1 = model.fit_generator(train_generator, steps_per_epoch=steps_per_epoch, epochs=num_epochs, verbose=1, \n",
    "                    callbacks=callbacks_list, validation_data=val_generator, \n",
    "                    validation_steps=validation_steps, class_weight=None, workers=1, initial_epoch=0)"
   ]
  },
  {
   "cell_type": "code",
   "execution_count": 38,
   "metadata": {},
   "outputs": [],
   "source": [
    "import matplotlib.pyplot as plt\n",
    "def plot_loss_accuracy(history):\n",
    "    # list all data in history\n",
    "    print(history.history.keys())\n",
    "    # summarize history for accuracy\n",
    "    plt.plot(history.history['categorical_accuracy'])\n",
    "    plt.plot(history.history['val_categorical_accuracy'])\n",
    "    plt.title('model accuracy')\n",
    "    plt.ylabel('accuracy')\n",
    "    plt.xlabel('epoch')\n",
    "    plt.legend(['train', 'test'], loc='upper left')\n",
    "    plt.show()\n",
    "    # summarize history for loss\n",
    "    plt.plot(history.history['loss'])\n",
    "    plt.plot(history.history['val_loss'])\n",
    "    plt.title('model loss')\n",
    "    plt.ylabel('loss')\n",
    "    plt.xlabel('epoch')\n",
    "    plt.legend(['train', 'test'], loc='upper left')\n",
    "    plt.show()"
   ]
  },
  {
   "cell_type": "code",
   "execution_count": 36,
   "metadata": {},
   "outputs": [
    {
     "name": "stdout",
     "output_type": "stream",
     "text": [
      "dict_keys(['loss', 'categorical_accuracy', 'val_loss', 'val_categorical_accuracy', 'lr'])\n"
     ]
    },
    {
     "data": {
      "image/png": "[encoded data removed]",
      "text/plain": [
       "<Figure size 432x288 with 1 Axes>"
      ]
     },
     "metadata": {
      "needs_background": "light"
     },
     "output_type": "display_data"
    },
    {
     "data": {
      "image/png": "[encoded data removed]",
      "text/plain": [
       "<Figure size 432x288 with 1 Axes>"
      ]
     },
     "metadata": {
      "needs_background": "light"
     },
     "output_type": "display_data"
    }
   ],
   "source": [
    "plot_loss_accuracy(model1)"
   ]
  },
  {
   "cell_type": "code",
   "execution_count": 8,
   "metadata": {},
   "outputs": [],
   "source": [
    "from PIL import Image\n",
    "from sklearn.preprocessing import normalize\n",
    "\n",
    "\n",
    "img_idx = img_idx = [0,1,2,4,6,8,10,12,14,16,18,20,22,24,26,27,28,29] #create a list of image numbers you want to use for a particular video\n",
    "x=120\n",
    "y=120\n",
    "lenght=len(img_idx)\n",
    "sample_shape=(len(img_idx),x,y,3)\n",
    "resize_shape=(x,y)\n",
    "\n",
    "def generator2(source_path, folder_list, batch_size):\n",
    "    print( 'Source path = ', source_path, '; batch size =', batch_size)\n",
    "    \n",
    "    while True:\n",
    "    \n",
    "        t = np.random.permutation(folder_list) #663 for train\n",
    "        num_batches = len(t)//batch_size # calculate the number of batches\n",
    "        for batch in range(num_batches): # we iterate over the number of batches\n",
    "            batch_data = np.zeros((batch_size,len(img_idx),x,y,3)) # x is the number of images you use for each video, (y,z) is the final size of the input images and 3 is the number of channels RGB\n",
    "            batch_labels = np.zeros((batch_size,5)) # batch_labels is the one hot representation of the output\n",
    "            for folder in range(batch_size): # iterate over the batch_size\n",
    "                imgs = os.listdir(str(source_path)+'/'+ t[folder + (batch*batch_size)].split(';')[0]) # read all the images in the folder\n",
    "                for idx,item in enumerate(img_idx): #  Iterate over the frames/images of a folder to read them in\n",
    "                    image = Image.open(str(source_path)+'/'+ t[folder + (batch*batch_size)].strip().split(';')[0]+'/'+imgs[item])\n",
    "                    \n",
    "                    #crop the images and resize them. Note that the images are of 2 different shape\n",
    "                    if(image.size[1]>x):\n",
    "                       # left = 20\n",
    "                       # top = 50\n",
    "                       # right = 300\n",
    "                       # bottom = 350\n",
    "                       # image=image.crop((left, top, right, bottom))\n",
    "                       image=image.resize(resize_shape)\n",
    "                        \n",
    "                        \n",
    "                    else:\n",
    "                        image=image.resize(resize_shape)\n",
    "                        \n",
    "                    #and the conv3D will throw error if the inputs in a batch have different shapes\n",
    "                    \n",
    "                    batch_data[folder,idx,:,:,0] = normalize(np.array(image)[:,:,0])#normalise and feed in the image\n",
    "                    batch_data[folder,idx,:,:,1] = normalize(np.array(image)[:,:,1])#normalise and feed in the image\n",
    "                    batch_data[folder,idx,:,:,2] = normalize(np.array(image)[:,:,2])#normalise and feed in the image\n",
    "                    \n",
    "                batch_labels[folder, int(t[folder + (batch*batch_size)].strip().split(';')[2])] = 1\n",
    "            yield batch_data, batch_labels #you yield the batch_data and the batch_labels, remember what does yield do\n",
    "\n",
    "        \n",
    "        # write the code for the remaining data points which are left after full batches\n",
    "        if (len(t)%batch_size!=0):\n",
    "            batch_data = np.zeros((len(t)%batch_size,len(img_idx),x,y,3)) # x is the number of images you use for each video, (y,z) is the final size of the input images and 3 is the number of channels RGB\n",
    "            batch_labels = np.zeros((len(t)%batch_size,5)) # batch_labels is the one hot representation of the output\n",
    "            for folder in range(len(t)%batch_size): # iterate over the batch_size\n",
    "                imgs = os.listdir(str(source_path)+'/'+ t[folder + num_batches*batch_size].split(';')[0]) # read all the images in the folder\n",
    "                for idx,item in enumerate(img_idx): #  Iterate over the frames/images of a folder to read them in\n",
    "                    image = Image.open(str(source_path)+'/'+ t[folder + (num_batches*batch_size)].strip().split(';')[0]+'/'+imgs[item])\n",
    "                    \n",
    "                    #crop the images and resize them. Note that the images are of 2 different shape\n",
    "                    if(image.size[1]>x):\n",
    "                        image=image.resize(resize_shape)\n",
    "                    else:\n",
    "                        image=image.resize(resize_shape)\n",
    "                        \n",
    "                        \n",
    "                    #and the conv3D will throw error if the inputs in a batch have different shapes\n",
    "                    \n",
    "                   \n",
    "                    batch_data[folder,idx,:,:,0] = normalize(np.array(image)[:,:,0])#normalise and feed in the image\n",
    "                    batch_data[folder,idx,:,:,1] = normalize(np.array(image)[:,:,1])#normalise and feed in the image\n",
    "                    batch_data[folder,idx,:,:,2] = normalize(np.array(image)[:,:,2])#normalise and feed in the image\n",
    "                    \n",
    "                batch_labels[folder, int(t[folder + (num_batches*batch_size)].strip().split(';')[2])] = 1\n",
    "            yield batch_data, batch_labels #you yield the batch_data and the batch_labels, remember what does yield do"
   ]
  },
  {
   "cell_type": "code",
   "execution_count": 54,
   "metadata": {},
   "outputs": [],
   "source": [
    "model = Sequential()\n",
    "\n",
    "model.add(Conv3D(16, kernel_size=(3, 3, 3), input_shape=(18, 120, 120, 3), padding='same'))\n",
    "model.add(Activation('relu'))\n",
    "model.add(BatchNormalization())\n",
    "model.add(MaxPooling3D(pool_size=(2, 2, 2)))\n",
    "\n",
    "model.add(Conv3D(32, kernel_size=(3, 3, 3), padding='same'))\n",
    "model.add(Activation('relu'))\n",
    "model.add(BatchNormalization())\n",
    "model.add(MaxPooling3D(pool_size=(2, 2, 2)))\n",
    "\n",
    "model.add(Conv3D(64, kernel_size=(3, 3, 3), padding='same'))\n",
    "model.add(Activation('relu'))\n",
    "model.add(BatchNormalization())\n",
    "model.add(MaxPooling3D(pool_size=(2, 2, 2)))\n",
    "\n",
    "model.add(Conv3D(128, kernel_size=(3, 3, 3), padding='same'))\n",
    "model.add(Activation('relu'))\n",
    "model.add(BatchNormalization())\n",
    "model.add(MaxPooling3D(pool_size=(2, 2, 2)))\n",
    "\n",
    "model.add(Flatten())\n",
    "model.add(Dense(256))\n",
    "model.add(Activation('relu'))\n",
    "model.add(BatchNormalization())\n",
    "model.add(Dropout(0.25))\n",
    "\n",
    "model.add(Dense(128))\n",
    "model.add(Activation('relu'))\n",
    "model.add(BatchNormalization())\n",
    "model.add(Dropout(0.25))\n",
    "\n",
    "model.add(Dense(5))\n",
    "model.add(Activation('softmax'))"
   ]
  },
  {
   "cell_type": "code",
   "execution_count": 11,
   "metadata": {},
   "outputs": [
    {
     "name": "stdout",
     "output_type": "stream",
     "text": [
      "# training sequences = 663\n",
      "# validation sequences = 100\n",
      "# epochs = 25\n",
      "#batch size 20\n",
      "steps_per_epoch 34\n",
      "validation_steps 5\n",
      "25\n"
     ]
    }
   ],
   "source": [
    "#Defining batch size and number of epochs, getting steps per epochs for training and validation\n",
    "batch_size = 20\n",
    "number_epochs = 25\n",
    "d = sequence(number_epochs,batch_size)\n",
    "steps_per_epoch = d[0]\n",
    "validation_steps = d[1]\n",
    "num_epochs = d[2]\n",
    "\n",
    "print('steps_per_epoch', steps_per_epoch)\n",
    "print('validation_steps', validation_steps)\n",
    "print(num_epochs)"
   ]
  },
  {
   "cell_type": "code",
   "execution_count": 12,
   "metadata": {},
   "outputs": [],
   "source": [
    "#Initianlizing reain and validation generation with new generator fuction\n",
    "train_path = 'datasets/Project_data/train'\n",
    "val_path = 'datasets/Project_data/val'\n",
    "train_generator = generator2(train_path, train_doc, batch_size)\n",
    "val_generator = generator2(val_path, val_doc, batch_size)"
   ]
  },
  {
   "cell_type": "code",
   "execution_count": 57,
   "metadata": {},
   "outputs": [
    {
     "name": "stdout",
     "output_type": "stream",
     "text": [
      "Model: \"sequential_6\"\n",
      "_________________________________________________________________\n",
      " Layer (type)                Output Shape              Param #   \n",
      "=================================================================\n",
      " conv3d_12 (Conv3D)          (None, 18, 120, 120, 16)  1312      \n",
      "                                                                 \n",
      " activation_18 (Activation)  (None, 18, 120, 120, 16)  0         \n",
      "                                                                 \n",
      " batch_normalization_16 (Bat  (None, 18, 120, 120, 16)  64       \n",
      " chNormalization)                                                \n",
      "                                                                 \n",
      " max_pooling3d_12 (MaxPoolin  (None, 9, 60, 60, 16)    0         \n",
      " g3D)                                                            \n",
      "                                                                 \n",
      " conv3d_13 (Conv3D)          (None, 9, 60, 60, 32)     13856     \n",
      "                                                                 \n",
      " activation_19 (Activation)  (None, 9, 60, 60, 32)     0         \n",
      "                                                                 \n",
      " batch_normalization_17 (Bat  (None, 9, 60, 60, 32)    128       \n",
      " chNormalization)                                                \n",
      "                                                                 \n",
      " max_pooling3d_13 (MaxPoolin  (None, 4, 30, 30, 32)    0         \n",
      " g3D)                                                            \n",
      "                                                                 \n",
      " conv3d_14 (Conv3D)          (None, 4, 30, 30, 64)     55360     \n",
      "                                                                 \n",
      " activation_20 (Activation)  (None, 4, 30, 30, 64)     0         \n",
      "                                                                 \n",
      " batch_normalization_18 (Bat  (None, 4, 30, 30, 64)    256       \n",
      " chNormalization)                                                \n",
      "                                                                 \n",
      " max_pooling3d_14 (MaxPoolin  (None, 2, 15, 15, 64)    0         \n",
      " g3D)                                                            \n",
      "                                                                 \n",
      " conv3d_15 (Conv3D)          (None, 2, 15, 15, 128)    221312    \n",
      "                                                                 \n",
      " activation_21 (Activation)  (None, 2, 15, 15, 128)    0         \n",
      "                                                                 \n",
      " batch_normalization_19 (Bat  (None, 2, 15, 15, 128)   512       \n",
      " chNormalization)                                                \n",
      "                                                                 \n",
      " max_pooling3d_15 (MaxPoolin  (None, 1, 7, 7, 128)     0         \n",
      " g3D)                                                            \n",
      "                                                                 \n",
      " flatten_5 (Flatten)         (None, 6272)              0         \n",
      "                                                                 \n",
      " dense_12 (Dense)            (None, 256)               1605888   \n",
      "                                                                 \n",
      " activation_22 (Activation)  (None, 256)               0         \n",
      "                                                                 \n",
      " batch_normalization_20 (Bat  (None, 256)              1024      \n",
      " chNormalization)                                                \n",
      "                                                                 \n",
      " dropout_12 (Dropout)        (None, 256)               0         \n",
      "                                                                 \n",
      " dense_13 (Dense)            (None, 128)               32896     \n",
      "                                                                 \n",
      " activation_23 (Activation)  (None, 128)               0         \n",
      "                                                                 \n",
      " batch_normalization_21 (Bat  (None, 128)              512       \n",
      " chNormalization)                                                \n",
      "                                                                 \n",
      " dropout_13 (Dropout)        (None, 128)               0         \n",
      "                                                                 \n",
      " dense_14 (Dense)            (None, 5)                 645       \n",
      "                                                                 \n",
      " activation_24 (Activation)  (None, 5)                 0         \n",
      "                                                                 \n",
      "=================================================================\n",
      "Total params: 1,933,765\n",
      "Trainable params: 1,932,517\n",
      "Non-trainable params: 1,248\n",
      "_________________________________________________________________\n",
      "None\n"
     ]
    }
   ],
   "source": [
    "#Changing optimizer to ADAM\n",
    "opt = tf.keras.optimizers.Adam(learning_rate=0.001)\n",
    "model.compile(optimizer=opt, loss='categorical_crossentropy', metrics=['categorical_accuracy'])\n",
    "print (model.summary())"
   ]
  },
  {
   "cell_type": "code",
   "execution_count": 58,
   "metadata": {},
   "outputs": [
    {
     "name": "stdout",
     "output_type": "stream",
     "text": [
      "WARNING:tensorflow:`period` argument is deprecated. Please use `save_freq` to specify the frequency in number of batches seen.\n",
      "WARNING:tensorflow:`epsilon` argument is deprecated and will be removed, use `min_delta` instead.\n"
     ]
    }
   ],
   "source": [
    "model_name = 'model_Conv3d_2' + '_' + str(curr_dt_time).replace(' ','').replace(':','_') + '/'\n",
    "    \n",
    "if not os.path.exists(model_name):\n",
    "    os.mkdir(model_name)\n",
    "        \n",
    "filepath = model_name + 'model-{epoch:05d}-{loss:.5f}-{categorical_accuracy:.5f}-{val_loss:.5f}-{val_categorical_accuracy:.5f}.h5'\n",
    "\n",
    "checkpoint = ModelCheckpoint(filepath, monitor='val_loss', verbose=1, save_best_only=False, save_weights_only=False, mode='auto', period=1)\n",
    "\n",
    "LR = ReduceLROnPlateau(monitor='val_loss', factor=0.5, patience=2, verbose=1, mode='min', epsilon=0.0001, cooldown=0, min_lr=0.00001)\n",
    "callbacks_list = [checkpoint, LR]"
   ]
  },
  {
   "cell_type": "code",
   "execution_count": 43,
   "metadata": {},
   "outputs": [
    {
     "name": "stdout",
     "output_type": "stream",
     "text": [
      "Source path =  datasets/Project_data/train ; batch size = 20\n",
      "Epoch 1/25\n",
      "34/34 [==============================] - ETA: 0s - loss: 1.6701 - categorical_accuracy: 0.4072Source path =  datasets/Project_data/val ; batch size = 20\n",
      "\n",
      "Epoch 00001: saving model to model_Conv3d_2_2023-09-3005_07_04.138933/model-00001-1.67011-0.40724-2.12977-0.21000.h5\n",
      "34/34 [==============================] - 56s 2s/step - loss: 1.6701 - categorical_accuracy: 0.4072 - val_loss: 2.1298 - val_categorical_accuracy: 0.2100 - lr: 0.0010\n",
      "Epoch 2/25\n",
      "34/34 [==============================] - ETA: 0s - loss: 0.9673 - categorical_accuracy: 0.6410\n",
      "Epoch 00002: saving model to model_Conv3d_2_2023-09-3005_07_04.138933/model-00002-0.96733-0.64103-3.18615-0.20000.h5\n",
      "34/34 [==============================] - 52s 2s/step - loss: 0.9673 - categorical_accuracy: 0.6410 - val_loss: 3.1862 - val_categorical_accuracy: 0.2000 - lr: 0.0010\n",
      "Epoch 3/25\n",
      "34/34 [==============================] - ETA: 0s - loss: 0.7061 - categorical_accuracy: 0.7406\n",
      "Epoch 00003: saving model to model_Conv3d_2_2023-09-3005_07_04.138933/model-00003-0.70606-0.74057-3.72829-0.24000.h5\n",
      "\n",
      "Epoch 00003: ReduceLROnPlateau reducing learning rate to 0.0005000000237487257.\n",
      "34/34 [==============================] - 52s 2s/step - loss: 0.7061 - categorical_accuracy: 0.7406 - val_loss: 3.7283 - val_categorical_accuracy: 0.2400 - lr: 0.0010\n",
      "Epoch 4/25\n",
      "34/34 [==============================] - ETA: 0s - loss: 0.5681 - categorical_accuracy: 0.8084\n",
      "Epoch 00004: saving model to model_Conv3d_2_2023-09-3005_07_04.138933/model-00004-0.56811-0.80845-4.34080-0.19000.h5\n",
      "34/34 [==============================] - 53s 2s/step - loss: 0.5681 - categorical_accuracy: 0.8084 - val_loss: 4.3408 - val_categorical_accuracy: 0.1900 - lr: 5.0000e-04\n",
      "Epoch 5/25\n",
      "34/34 [==============================] - ETA: 0s - loss: 0.3825 - categorical_accuracy: 0.8597\n",
      "Epoch 00005: saving model to model_Conv3d_2_2023-09-3005_07_04.138933/model-00005-0.38247-0.85973-4.92923-0.15000.h5\n",
      "\n",
      "Epoch 00005: ReduceLROnPlateau reducing learning rate to 0.0002500000118743628.\n",
      "34/34 [==============================] - 55s 2s/step - loss: 0.3825 - categorical_accuracy: 0.8597 - val_loss: 4.9292 - val_categorical_accuracy: 0.1500 - lr: 5.0000e-04\n",
      "Epoch 6/25\n",
      "33/34 [============================>.] - ETA: 1s - loss: 0.2676 - categorical_accuracy: 0.9030\n",
      "Epoch 00006: saving model to model_Conv3d_2_2023-09-3005_07_04.138933/model-00006-0.27379-0.90045-4.44754-0.17000.h5\n",
      "34/34 [==============================] - 54s 2s/step - loss: 0.2738 - categorical_accuracy: 0.9005 - val_loss: 4.4475 - val_categorical_accuracy: 0.1700 - lr: 2.5000e-04\n",
      "Epoch 7/25\n",
      "34/34 [==============================] - ETA: 0s - loss: 0.2512 - categorical_accuracy: 0.9276\n",
      "Epoch 00007: saving model to model_Conv3d_2_2023-09-3005_07_04.138933/model-00007-0.25118-0.92760-4.56802-0.22000.h5\n",
      "\n",
      "Epoch 00007: ReduceLROnPlateau reducing learning rate to 0.0001250000059371814.\n",
      "34/34 [==============================] - 53s 2s/step - loss: 0.2512 - categorical_accuracy: 0.9276 - val_loss: 4.5680 - val_categorical_accuracy: 0.2200 - lr: 2.5000e-04\n",
      "Epoch 8/25\n",
      "33/34 [============================>.] - ETA: 1s - loss: 0.1554 - categorical_accuracy: 0.9576\n",
      "Epoch 00008: saving model to model_Conv3d_2_2023-09-3005_07_04.138933/model-00008-0.15642-0.95777-4.76814-0.26000.h5\n",
      "34/34 [==============================] - 53s 2s/step - loss: 0.1564 - categorical_accuracy: 0.9578 - val_loss: 4.7681 - val_categorical_accuracy: 0.2600 - lr: 1.2500e-04\n",
      "Epoch 9/25\n",
      "34/34 [==============================] - ETA: 0s - loss: 0.1339 - categorical_accuracy: 0.9623\n",
      "Epoch 00009: saving model to model_Conv3d_2_2023-09-3005_07_04.138933/model-00009-0.13388-0.96229-5.33512-0.19000.h5\n",
      "\n",
      "Epoch 00009: ReduceLROnPlateau reducing learning rate to 6.25000029685907e-05.\n",
      "34/34 [==============================] - 53s 2s/step - loss: 0.1339 - categorical_accuracy: 0.9623 - val_loss: 5.3351 - val_categorical_accuracy: 0.1900 - lr: 1.2500e-04\n",
      "Epoch 10/25\n",
      "34/34 [==============================] - ETA: 0s - loss: 0.1032 - categorical_accuracy: 0.9759\n",
      "Epoch 00010: saving model to model_Conv3d_2_2023-09-3005_07_04.138933/model-00010-0.10317-0.97587-5.65197-0.20000.h5\n",
      "34/34 [==============================] - 54s 2s/step - loss: 0.1032 - categorical_accuracy: 0.9759 - val_loss: 5.6520 - val_categorical_accuracy: 0.2000 - lr: 6.2500e-05\n",
      "Epoch 11/25\n",
      "34/34 [==============================] - ETA: 0s - loss: 0.1332 - categorical_accuracy: 0.9653\n",
      "Epoch 00011: saving model to model_Conv3d_2_2023-09-3005_07_04.138933/model-00011-0.13319-0.96531-5.15696-0.21000.h5\n",
      "\n",
      "Epoch 00011: ReduceLROnPlateau reducing learning rate to 3.125000148429535e-05.\n",
      "34/34 [==============================] - 54s 2s/step - loss: 0.1332 - categorical_accuracy: 0.9653 - val_loss: 5.1570 - val_categorical_accuracy: 0.2100 - lr: 6.2500e-05\n",
      "Epoch 12/25\n",
      "34/34 [==============================] - ETA: 0s - loss: 0.1125 - categorical_accuracy: 0.9713\n",
      "Epoch 00012: saving model to model_Conv3d_2_2023-09-3005_07_04.138933/model-00012-0.11246-0.97134-4.48189-0.20000.h5\n",
      "34/34 [==============================] - 53s 2s/step - loss: 0.1125 - categorical_accuracy: 0.9713 - val_loss: 4.4819 - val_categorical_accuracy: 0.2000 - lr: 3.1250e-05\n",
      "Epoch 13/25\n",
      "34/34 [==============================] - ETA: 0s - loss: 0.0939 - categorical_accuracy: 0.9744\n",
      "Epoch 00013: saving model to model_Conv3d_2_2023-09-3005_07_04.138933/model-00013-0.09391-0.97436-3.69128-0.27000.h5\n",
      "\n",
      "Epoch 00013: ReduceLROnPlateau reducing learning rate to 1.5625000742147677e-05.\n",
      "34/34 [==============================] - 53s 2s/step - loss: 0.0939 - categorical_accuracy: 0.9744 - val_loss: 3.6913 - val_categorical_accuracy: 0.2700 - lr: 3.1250e-05\n",
      "Epoch 14/25\n",
      "33/34 [============================>.] - ETA: 1s - loss: 0.1081 - categorical_accuracy: 0.9727\n",
      "Epoch 00014: saving model to model_Conv3d_2_2023-09-3005_07_04.138933/model-00014-0.10894-0.97285-2.97440-0.31000.h5\n",
      "34/34 [==============================] - 52s 2s/step - loss: 0.1089 - categorical_accuracy: 0.9729 - val_loss: 2.9744 - val_categorical_accuracy: 0.3100 - lr: 1.5625e-05\n",
      "Epoch 15/25\n",
      "34/34 [==============================] - ETA: 0s - loss: 0.0983 - categorical_accuracy: 0.9759\n",
      "Epoch 00015: saving model to model_Conv3d_2_2023-09-3005_07_04.138933/model-00015-0.09834-0.97587-2.20394-0.38000.h5\n",
      "\n",
      "Epoch 00015: ReduceLROnPlateau reducing learning rate to 1e-05.\n",
      "34/34 [==============================] - 53s 2s/step - loss: 0.0983 - categorical_accuracy: 0.9759 - val_loss: 2.2039 - val_categorical_accuracy: 0.3800 - lr: 1.5625e-05\n",
      "Epoch 16/25\n",
      "34/34 [==============================] - ETA: 0s - loss: 0.0959 - categorical_accuracy: 0.9774\n",
      "Epoch 00016: saving model to model_Conv3d_2_2023-09-3005_07_04.138933/model-00016-0.09594-0.97738-1.77786-0.46000.h5\n",
      "34/34 [==============================] - 54s 2s/step - loss: 0.0959 - categorical_accuracy: 0.9774 - val_loss: 1.7779 - val_categorical_accuracy: 0.4600 - lr: 1.0000e-05\n",
      "Epoch 17/25\n",
      "34/34 [==============================] - ETA: 0s - loss: 0.0857 - categorical_accuracy: 0.9804\n",
      "Epoch 00017: saving model to model_Conv3d_2_2023-09-3005_07_04.138933/model-00017-0.08568-0.98039-1.30032-0.60000.h5\n",
      "34/34 [==============================] - 52s 2s/step - loss: 0.0857 - categorical_accuracy: 0.9804 - val_loss: 1.3003 - val_categorical_accuracy: 0.6000 - lr: 1.0000e-05\n",
      "Epoch 18/25\n",
      "33/34 [============================>.] - ETA: 1s - loss: 0.0823 - categorical_accuracy: 0.9848\n",
      "Epoch 00018: saving model to model_Conv3d_2_2023-09-3005_07_04.138933/model-00018-0.08862-0.98190-1.19082-0.62000.h5\n",
      "34/34 [==============================] - 53s 2s/step - loss: 0.0886 - categorical_accuracy: 0.9819 - val_loss: 1.1908 - val_categorical_accuracy: 0.6200 - lr: 1.0000e-05\n",
      "Epoch 19/25\n",
      "33/34 [============================>.] - ETA: 1s - loss: 0.0692 - categorical_accuracy: 0.9909\n",
      "Epoch 00019: saving model to model_Conv3d_2_2023-09-3005_07_04.138933/model-00019-0.06997-0.99095-0.83487-0.77000.h5\n",
      "34/34 [==============================] - 53s 2s/step - loss: 0.0700 - categorical_accuracy: 0.9910 - val_loss: 0.8349 - val_categorical_accuracy: 0.7700 - lr: 1.0000e-05\n",
      "Epoch 20/25\n",
      "34/34 [==============================] - ETA: 0s - loss: 0.0793 - categorical_accuracy: 0.9879\n",
      "Epoch 00020: saving model to model_Conv3d_2_2023-09-3005_07_04.138933/model-00020-0.07932-0.98793-0.62855-0.82000.h5\n",
      "34/34 [==============================] - 53s 2s/step - loss: 0.0793 - categorical_accuracy: 0.9879 - val_loss: 0.6285 - val_categorical_accuracy: 0.8200 - lr: 1.0000e-05\n",
      "Epoch 21/25\n",
      "34/34 [==============================] - ETA: 0s - loss: 0.0834 - categorical_accuracy: 0.9804\n",
      "Epoch 00021: saving model to model_Conv3d_2_2023-09-3005_07_04.138933/model-00021-0.08345-0.98039-0.60154-0.82000.h5\n",
      "34/34 [==============================] - 52s 2s/step - loss: 0.0834 - categorical_accuracy: 0.9804 - val_loss: 0.6015 - val_categorical_accuracy: 0.8200 - lr: 1.0000e-05\n",
      "Epoch 22/25\n",
      "34/34 [==============================] - ETA: 0s - loss: 0.0713 - categorical_accuracy: 0.9940\n",
      "Epoch 00022: saving model to model_Conv3d_2_2023-09-3005_07_04.138933/model-00022-0.07129-0.99397-0.53074-0.85000.h5\n",
      "34/34 [==============================] - 52s 2s/step - loss: 0.0713 - categorical_accuracy: 0.9940 - val_loss: 0.5307 - val_categorical_accuracy: 0.8500 - lr: 1.0000e-05\n",
      "Epoch 23/25\n",
      "33/34 [============================>.] - ETA: 1s - loss: 0.0916 - categorical_accuracy: 0.9803\n",
      "Epoch 00023: saving model to model_Conv3d_2_2023-09-3005_07_04.138933/model-00023-0.09264-0.97888-0.49408-0.85000.h5\n",
      "34/34 [==============================] - 52s 2s/step - loss: 0.0926 - categorical_accuracy: 0.9789 - val_loss: 0.4941 - val_categorical_accuracy: 0.8500 - lr: 1.0000e-05\n",
      "Epoch 24/25\n",
      "34/34 [==============================] - ETA: 0s - loss: 0.0881 - categorical_accuracy: 0.9849\n",
      "Epoch 00024: saving model to model_Conv3d_2_2023-09-3005_07_04.138933/model-00024-0.08808-0.98492-0.52631-0.86000.h5\n",
      "34/34 [==============================] - 51s 2s/step - loss: 0.0881 - categorical_accuracy: 0.9849 - val_loss: 0.5263 - val_categorical_accuracy: 0.8600 - lr: 1.0000e-05\n",
      "Epoch 25/25\n",
      "34/34 [==============================] - ETA: 0s - loss: 0.0760 - categorical_accuracy: 0.9879\n",
      "Epoch 00025: saving model to model_Conv3d_2_2023-09-3005_07_04.138933/model-00025-0.07596-0.98793-0.45872-0.87000.h5\n",
      "34/34 [==============================] - 53s 2s/step - loss: 0.0760 - categorical_accuracy: 0.9879 - val_loss: 0.4587 - val_categorical_accuracy: 0.8700 - lr: 1.0000e-05\n"
     ]
    }
   ],
   "source": [
    "model2 = model.fit(train_generator, steps_per_epoch=steps_per_epoch, epochs=num_epochs, verbose=1, \n",
    "                    callbacks=callbacks_list, validation_data=val_generator, \n",
    "                    validation_steps=validation_steps, class_weight=None, workers=1, initial_epoch=0)"
   ]
  },
  {
   "cell_type": "code",
   "execution_count": 44,
   "metadata": {},
   "outputs": [
    {
     "name": "stdout",
     "output_type": "stream",
     "text": [
      "dict_keys(['loss', 'categorical_accuracy', 'val_loss', 'val_categorical_accuracy', 'lr'])\n"
     ]
    },
    {
     "data": {
      "image/png": "[encoded data removed]",
      "text/plain": [
       "<Figure size 432x288 with 1 Axes>"
      ]
     },
     "metadata": {
      "needs_background": "light"
     },
     "output_type": "display_data"
    },
    {
     "data": {
      "image/png": "[encoded data removed]",
      "text/plain": [
       "<Figure size 432x288 with 1 Axes>"
      ]
     },
     "metadata": {
      "needs_background": "light"
     },
     "output_type": "display_data"
    }
   ],
   "source": [
    "plot_loss_accuracy(model2)"
   ]
  },
  {
   "cell_type": "code",
   "execution_count": 18,
   "metadata": {},
   "outputs": [
    {
     "name": "stdout",
     "output_type": "stream",
     "text": [
      "# training sequences = 663\n",
      "# validation sequences = 100\n",
      "# epochs = 25\n",
      "#batch size 20\n",
      "steps_per_epoch 34\n",
      "validation_steps 5\n",
      "25\n"
     ]
    }
   ],
   "source": [
    "#Defining batch size and number of epochs, getting steps per epochs for training and validation\n",
    "batch_size =20\n",
    "number_epochs = 25\n",
    "d = sequence(number_epochs,batch_size)\n",
    "steps_per_epoch = d[0]\n",
    "validation_steps = d[1]\n",
    "num_epochs = d[2]\n",
    "\n",
    "print('steps_per_epoch', steps_per_epoch)\n",
    "print('validation_steps', validation_steps)\n",
    "print(num_epochs)"
   ]
  },
  {
   "cell_type": "code",
   "execution_count": 20,
   "metadata": {},
   "outputs": [],
   "source": [
    "#increasing dropout after dense layer\n",
    "model = Sequential()\n",
    "\n",
    "model.add(Conv3D(16, kernel_size=(3, 3, 3), input_shape=(18, 120, 120, 3), padding='same'))\n",
    "model.add(Activation('relu'))\n",
    "model.add(BatchNormalization())\n",
    "model.add(MaxPooling3D(pool_size=(2, 2, 2)))\n",
    "\n",
    "model.add(Conv3D(32, kernel_size=(3, 3, 3), padding='same'))\n",
    "model.add(Activation('relu'))\n",
    "model.add(BatchNormalization())\n",
    "model.add(MaxPooling3D(pool_size=(2, 2, 2)))\n",
    "\n",
    "model.add(Conv3D(64, kernel_size=(3, 3, 3), padding='same'))\n",
    "model.add(Activation('relu'))\n",
    "model.add(BatchNormalization())\n",
    "model.add(MaxPooling3D(pool_size=(2, 2, 2)))\n",
    "\n",
    "model.add(Conv3D(128, kernel_size=(3, 3, 3), padding='same'))\n",
    "model.add(Activation('relu'))\n",
    "model.add(BatchNormalization())\n",
    "model.add(MaxPooling3D(pool_size=(2, 2, 2)))\n",
    "\n",
    "model.add(Flatten())\n",
    "model.add(Dense(256))\n",
    "model.add(Activation('relu'))\n",
    "model.add(BatchNormalization())\n",
    "model.add(Dropout(0.5))\n",
    "\n",
    "model.add(Dense(128))\n",
    "model.add(Activation('relu'))\n",
    "model.add(BatchNormalization())\n",
    "model.add(Dropout(0.5))\n",
    "\n",
    "model.add(Dense(5))\n",
    "model.add(Activation('softmax'))"
   ]
  },
  {
   "cell_type": "code",
   "execution_count": 21,
   "metadata": {},
   "outputs": [
    {
     "name": "stdout",
     "output_type": "stream",
     "text": [
      "Model: \"sequential_1\"\n",
      "_________________________________________________________________\n",
      " Layer (type)                Output Shape              Param #   \n",
      "=================================================================\n",
      " conv3d_5 (Conv3D)           (None, 18, 120, 120, 16)  1312      \n",
      "                                                                 \n",
      " activation_5 (Activation)   (None, 18, 120, 120, 16)  0         \n",
      "                                                                 \n",
      " batch_normalization_5 (Batc  (None, 18, 120, 120, 16)  64       \n",
      " hNormalization)                                                 \n",
      "                                                                 \n",
      " max_pooling3d_5 (MaxPooling  (None, 9, 60, 60, 16)    0         \n",
      " 3D)                                                             \n",
      "                                                                 \n",
      " conv3d_6 (Conv3D)           (None, 9, 60, 60, 32)     13856     \n",
      "                                                                 \n",
      " activation_6 (Activation)   (None, 9, 60, 60, 32)     0         \n",
      "                                                                 \n",
      " batch_normalization_6 (Batc  (None, 9, 60, 60, 32)    128       \n",
      " hNormalization)                                                 \n",
      "                                                                 \n",
      " max_pooling3d_6 (MaxPooling  (None, 4, 30, 30, 32)    0         \n",
      " 3D)                                                             \n",
      "                                                                 \n",
      " conv3d_7 (Conv3D)           (None, 4, 30, 30, 64)     55360     \n",
      "                                                                 \n",
      " activation_7 (Activation)   (None, 4, 30, 30, 64)     0         \n",
      "                                                                 \n",
      " batch_normalization_7 (Batc  (None, 4, 30, 30, 64)    256       \n",
      " hNormalization)                                                 \n",
      "                                                                 \n",
      " max_pooling3d_7 (MaxPooling  (None, 2, 15, 15, 64)    0         \n",
      " 3D)                                                             \n",
      "                                                                 \n",
      " conv3d_8 (Conv3D)           (None, 2, 15, 15, 128)    221312    \n",
      "                                                                 \n",
      " activation_8 (Activation)   (None, 2, 15, 15, 128)    0         \n",
      "                                                                 \n",
      " batch_normalization_8 (Batc  (None, 2, 15, 15, 128)   512       \n",
      " hNormalization)                                                 \n",
      "                                                                 \n",
      " max_pooling3d_8 (MaxPooling  (None, 1, 7, 7, 128)     0         \n",
      " 3D)                                                             \n",
      "                                                                 \n",
      " flatten (Flatten)           (None, 6272)              0         \n",
      "                                                                 \n",
      " dense (Dense)               (None, 256)               1605888   \n",
      "                                                                 \n",
      " activation_9 (Activation)   (None, 256)               0         \n",
      "                                                                 \n",
      " batch_normalization_9 (Batc  (None, 256)              1024      \n",
      " hNormalization)                                                 \n",
      "                                                                 \n",
      " dropout (Dropout)           (None, 256)               0         \n",
      "                                                                 \n",
      " dense_1 (Dense)             (None, 128)               32896     \n",
      "                                                                 \n",
      " activation_10 (Activation)  (None, 128)               0         \n",
      "                                                                 \n",
      " batch_normalization_10 (Bat  (None, 128)              512       \n",
      " chNormalization)                                                \n",
      "                                                                 \n",
      " dropout_1 (Dropout)         (None, 128)               0         \n",
      "                                                                 \n",
      " dense_2 (Dense)             (None, 5)                 645       \n",
      "                                                                 \n",
      " activation_11 (Activation)  (None, 5)                 0         \n",
      "                                                                 \n",
      "=================================================================\n",
      "Total params: 1,933,765\n",
      "Trainable params: 1,932,517\n",
      "Non-trainable params: 1,248\n",
      "_________________________________________________________________\n",
      "None\n"
     ]
    }
   ],
   "source": [
    "#Model COmpilation\n",
    "opt = tf.keras.optimizers.Adam(learning_rate=0.001)\n",
    "model.compile(optimizer=opt, loss='categorical_crossentropy', metrics=['categorical_accuracy'])\n",
    "print (model.summary())"
   ]
  },
  {
   "cell_type": "code",
   "execution_count": 52,
   "metadata": {},
   "outputs": [
    {
     "name": "stdout",
     "output_type": "stream",
     "text": [
      "WARNING:tensorflow:`period` argument is deprecated. Please use `save_freq` to specify the frequency in number of batches seen.\n"
     ]
    }
   ],
   "source": [
    "# Define the directory for saving model checkpoints\n",
    "curr_dt_time = datetime.datetime.now()\n",
    "model_name = 'model_conv3D_3' + 'new'+ '_' + str(curr_dt_time).replace(' ','').replace(':','_') + '/'\n",
    "if not os.path.exists(model_name):\n",
    "    os.mkdir(model_name)\n",
    "\n",
    "# Define the filepath format for saving checkpoints\n",
    "filepath = model_name + 'model-{epoch:05d}-{loss:.5f}-{categorical_accuracy:.5f}-{val_loss:.5f}-{val_categorical_accuracy:.5f}.h5'\n",
    "\n",
    "# Create the ModelCheckpoint callback\n",
    "checkpoint = ModelCheckpoint(\n",
    "    filepath, \n",
    "    monitor='val_loss', \n",
    "    verbose=1, \n",
    "    save_best_only=False, \n",
    "    save_weights_only=False, \n",
    "    mode='auto', \n",
    "    period=1\n",
    ")\n",
    "callbacks_list = [checkpoint, LR]"
   ]
  },
  {
   "cell_type": "code",
   "execution_count": 70,
   "metadata": {},
   "outputs": [
    {
     "name": "stdout",
     "output_type": "stream",
     "text": [
      "Epoch 1/25\n",
      "34/34 [==============================] - ETA: 0s - loss: 2.2465 - categorical_accuracy: 0.2911\n",
      "Epoch 00001: saving model to model_conv3D_3new_2023-09-3008_40_55.635607/model-00001-2.24645-0.29110-2.05127-0.15000.h5\n",
      "34/34 [==============================] - 52s 2s/step - loss: 2.2465 - categorical_accuracy: 0.2911 - val_loss: 2.0513 - val_categorical_accuracy: 0.1500 - lr: 0.0010\n",
      "Epoch 2/25\n",
      "34/34 [==============================] - ETA: 0s - loss: 1.7871 - categorical_accuracy: 0.4012\n",
      "Epoch 00002: saving model to model_conv3D_3new_2023-09-3008_40_55.635607/model-00002-1.78707-0.40121-2.34309-0.22000.h5\n",
      "34/34 [==============================] - 51s 2s/step - loss: 1.7871 - categorical_accuracy: 0.4012 - val_loss: 2.3431 - val_categorical_accuracy: 0.2200 - lr: 0.0010\n",
      "Epoch 3/25\n",
      "34/34 [==============================] - ETA: 0s - loss: 1.4685 - categorical_accuracy: 0.4872\n",
      "Epoch 00003: saving model to model_conv3D_3new_2023-09-3008_40_55.635607/model-00003-1.46854-0.48718-2.51750-0.23000.h5\n",
      "\n",
      "Epoch 00003: ReduceLROnPlateau reducing learning rate to 0.0005000000237487257.\n",
      "34/34 [==============================] - 51s 2s/step - loss: 1.4685 - categorical_accuracy: 0.4872 - val_loss: 2.5175 - val_categorical_accuracy: 0.2300 - lr: 0.0010\n",
      "Epoch 4/25\n",
      "34/34 [==============================] - ETA: 0s - loss: 1.2588 - categorical_accuracy: 0.5415\n",
      "Epoch 00004: saving model to model_conv3D_3new_2023-09-3008_40_55.635607/model-00004-1.25876-0.54148-3.12661-0.21000.h5\n",
      "34/34 [==============================] - 50s 1s/step - loss: 1.2588 - categorical_accuracy: 0.5415 - val_loss: 3.1266 - val_categorical_accuracy: 0.2100 - lr: 5.0000e-04\n",
      "Epoch 5/25\n",
      "34/34 [==============================] - ETA: 0s - loss: 1.0560 - categorical_accuracy: 0.5882\n",
      "Epoch 00005: saving model to model_conv3D_3new_2023-09-3008_40_55.635607/model-00005-1.05604-0.58824-4.88208-0.24000.h5\n",
      "\n",
      "Epoch 00005: ReduceLROnPlateau reducing learning rate to 0.0002500000118743628.\n",
      "34/34 [==============================] - 52s 2s/step - loss: 1.0560 - categorical_accuracy: 0.5882 - val_loss: 4.8821 - val_categorical_accuracy: 0.2400 - lr: 5.0000e-04\n",
      "Epoch 6/25\n",
      "34/34 [==============================] - ETA: 0s - loss: 1.0133 - categorical_accuracy: 0.6078\n",
      "Epoch 00006: saving model to model_conv3D_3new_2023-09-3008_40_55.635607/model-00006-1.01333-0.60784-4.18525-0.20000.h5\n",
      "34/34 [==============================] - 52s 2s/step - loss: 1.0133 - categorical_accuracy: 0.6078 - val_loss: 4.1852 - val_categorical_accuracy: 0.2000 - lr: 2.5000e-04\n",
      "Epoch 7/25\n",
      "34/34 [==============================] - ETA: 0s - loss: 0.9558 - categorical_accuracy: 0.6637\n",
      "Epoch 00007: saving model to model_conv3D_3new_2023-09-3008_40_55.635607/model-00007-0.95579-0.66365-4.30241-0.23000.h5\n",
      "\n",
      "Epoch 00007: ReduceLROnPlateau reducing learning rate to 0.0001250000059371814.\n",
      "34/34 [==============================] - 50s 2s/step - loss: 0.9558 - categorical_accuracy: 0.6637 - val_loss: 4.3024 - val_categorical_accuracy: 0.2300 - lr: 2.5000e-04\n",
      "Epoch 8/25\n",
      "34/34 [==============================] - ETA: 0s - loss: 0.8783 - categorical_accuracy: 0.6697\n",
      "Epoch 00008: saving model to model_conv3D_3new_2023-09-3008_40_55.635607/model-00008-0.87827-0.66968-4.85680-0.18000.h5\n",
      "34/34 [==============================] - 51s 2s/step - loss: 0.8783 - categorical_accuracy: 0.6697 - val_loss: 4.8568 - val_categorical_accuracy: 0.1800 - lr: 1.2500e-04\n",
      "Epoch 9/25\n",
      "34/34 [==============================] - ETA: 0s - loss: 0.8206 - categorical_accuracy: 0.7029\n",
      "Epoch 00009: saving model to model_conv3D_3new_2023-09-3008_40_55.635607/model-00009-0.82063-0.70287-4.18220-0.21000.h5\n",
      "\n",
      "Epoch 00009: ReduceLROnPlateau reducing learning rate to 6.25000029685907e-05.\n",
      "34/34 [==============================] - 50s 2s/step - loss: 0.8206 - categorical_accuracy: 0.7029 - val_loss: 4.1822 - val_categorical_accuracy: 0.2100 - lr: 1.2500e-04\n",
      "Epoch 10/25\n",
      "34/34 [==============================] - ETA: 0s - loss: 0.6802 - categorical_accuracy: 0.7330\n",
      "Epoch 00010: saving model to model_conv3D_3new_2023-09-3008_40_55.635607/model-00010-0.68022-0.73303-3.79089-0.24000.h5\n",
      "34/34 [==============================] - 51s 2s/step - loss: 0.6802 - categorical_accuracy: 0.7330 - val_loss: 3.7909 - val_categorical_accuracy: 0.2400 - lr: 6.2500e-05\n",
      "Epoch 11/25\n",
      "34/34 [==============================] - ETA: 0s - loss: 0.6666 - categorical_accuracy: 0.7557\n",
      "Epoch 00011: saving model to model_conv3D_3new_2023-09-3008_40_55.635607/model-00011-0.66664-0.75566-3.55185-0.15000.h5\n",
      "\n",
      "Epoch 00011: ReduceLROnPlateau reducing learning rate to 3.125000148429535e-05.\n",
      "34/34 [==============================] - 51s 2s/step - loss: 0.6666 - categorical_accuracy: 0.7557 - val_loss: 3.5519 - val_categorical_accuracy: 0.1500 - lr: 6.2500e-05\n",
      "Epoch 12/25\n",
      "34/34 [==============================] - ETA: 0s - loss: 0.6639 - categorical_accuracy: 0.7391\n",
      "Epoch 00012: saving model to model_conv3D_3new_2023-09-3008_40_55.635607/model-00012-0.66393-0.73906-3.21997-0.26000.h5\n",
      "34/34 [==============================] - 52s 2s/step - loss: 0.6639 - categorical_accuracy: 0.7391 - val_loss: 3.2200 - val_categorical_accuracy: 0.2600 - lr: 3.1250e-05\n",
      "Epoch 13/25\n",
      "34/34 [==============================] - ETA: 0s - loss: 0.7188 - categorical_accuracy: 0.7240\n",
      "Epoch 00013: saving model to model_conv3D_3new_2023-09-3008_40_55.635607/model-00013-0.71880-0.72398-2.83985-0.22000.h5\n",
      "\n",
      "Epoch 00013: ReduceLROnPlateau reducing learning rate to 1.5625000742147677e-05.\n",
      "34/34 [==============================] - 51s 2s/step - loss: 0.7188 - categorical_accuracy: 0.7240 - val_loss: 2.8399 - val_categorical_accuracy: 0.2200 - lr: 3.1250e-05\n",
      "Epoch 14/25\n",
      "34/34 [==============================] - ETA: 0s - loss: 0.6434 - categorical_accuracy: 0.7632\n",
      "Epoch 00014: saving model to model_conv3D_3new_2023-09-3008_40_55.635607/model-00014-0.64340-0.76320-2.46383-0.26000.h5\n",
      "34/34 [==============================] - 51s 2s/step - loss: 0.6434 - categorical_accuracy: 0.7632 - val_loss: 2.4638 - val_categorical_accuracy: 0.2600 - lr: 1.5625e-05\n",
      "Epoch 15/25\n",
      "34/34 [==============================] - ETA: 0s - loss: 0.6449 - categorical_accuracy: 0.7572\n",
      "Epoch 00015: saving model to model_conv3D_3new_2023-09-3008_40_55.635607/model-00015-0.64487-0.75716-2.42835-0.26000.h5\n",
      "\n",
      "Epoch 00015: ReduceLROnPlateau reducing learning rate to 1e-05.\n",
      "34/34 [==============================] - 50s 2s/step - loss: 0.6449 - categorical_accuracy: 0.7572 - val_loss: 2.4284 - val_categorical_accuracy: 0.2600 - lr: 1.5625e-05\n",
      "Epoch 16/25\n",
      "34/34 [==============================] - ETA: 0s - loss: 0.6459 - categorical_accuracy: 0.7572\n",
      "Epoch 00016: saving model to model_conv3D_3new_2023-09-3008_40_55.635607/model-00016-0.64586-0.75716-1.97889-0.39000.h5\n",
      "34/34 [==============================] - 50s 2s/step - loss: 0.6459 - categorical_accuracy: 0.7572 - val_loss: 1.9789 - val_categorical_accuracy: 0.3900 - lr: 1.0000e-05\n",
      "Epoch 17/25\n",
      "34/34 [==============================] - ETA: 0s - loss: 0.6565 - categorical_accuracy: 0.7496\n",
      "Epoch 00017: saving model to model_conv3D_3new_2023-09-3008_40_55.635607/model-00017-0.65654-0.74962-1.65769-0.46000.h5\n",
      "34/34 [==============================] - 53s 2s/step - loss: 0.6565 - categorical_accuracy: 0.7496 - val_loss: 1.6577 - val_categorical_accuracy: 0.4600 - lr: 1.0000e-05\n",
      "Epoch 18/25\n",
      "34/34 [==============================] - ETA: 0s - loss: 0.5940 - categorical_accuracy: 0.7753\n",
      "Epoch 00018: saving model to model_conv3D_3new_2023-09-3008_40_55.635607/model-00018-0.59400-0.77526-1.37721-0.49000.h5\n",
      "34/34 [==============================] - 50s 2s/step - loss: 0.5940 - categorical_accuracy: 0.7753 - val_loss: 1.3772 - val_categorical_accuracy: 0.4900 - lr: 1.0000e-05\n",
      "Epoch 19/25\n",
      "34/34 [==============================] - ETA: 0s - loss: 0.6024 - categorical_accuracy: 0.7572\n",
      "Epoch 00019: saving model to model_conv3D_3new_2023-09-3008_40_55.635607/model-00019-0.60241-0.75716-1.12408-0.56000.h5\n",
      "34/34 [==============================] - 52s 2s/step - loss: 0.6024 - categorical_accuracy: 0.7572 - val_loss: 1.1241 - val_categorical_accuracy: 0.5600 - lr: 1.0000e-05\n",
      "Epoch 20/25\n",
      "34/34 [==============================] - ETA: 0s - loss: 0.6372 - categorical_accuracy: 0.7707\n",
      "Epoch 00020: saving model to model_conv3D_3new_2023-09-3008_40_55.635607/model-00020-0.63718-0.77074-1.01459-0.64000.h5\n",
      "34/34 [==============================] - 50s 2s/step - loss: 0.6372 - categorical_accuracy: 0.7707 - val_loss: 1.0146 - val_categorical_accuracy: 0.6400 - lr: 1.0000e-05\n",
      "Epoch 21/25\n",
      "34/34 [==============================] - ETA: 0s - loss: 0.6428 - categorical_accuracy: 0.7511\n",
      "Epoch 00021: saving model to model_conv3D_3new_2023-09-3008_40_55.635607/model-00021-0.64284-0.75113-0.91929-0.64000.h5\n",
      "34/34 [==============================] - 52s 2s/step - loss: 0.6428 - categorical_accuracy: 0.7511 - val_loss: 0.9193 - val_categorical_accuracy: 0.6400 - lr: 1.0000e-05\n",
      "Epoch 22/25\n",
      "34/34 [==============================] - ETA: 0s - loss: 0.6078 - categorical_accuracy: 0.7753\n",
      "Epoch 00022: saving model to model_conv3D_3new_2023-09-3008_40_55.635607/model-00022-0.60778-0.77526-0.83215-0.72000.h5\n",
      "34/34 [==============================] - 51s 2s/step - loss: 0.6078 - categorical_accuracy: 0.7753 - val_loss: 0.8321 - val_categorical_accuracy: 0.7200 - lr: 1.0000e-05\n",
      "Epoch 23/25\n",
      "34/34 [==============================] - ETA: 0s - loss: 0.6780 - categorical_accuracy: 0.7511\n",
      "Epoch 00023: saving model to model_conv3D_3new_2023-09-3008_40_55.635607/model-00023-0.67800-0.75113-0.83633-0.68000.h5\n",
      "34/34 [==============================] - 53s 2s/step - loss: 0.6780 - categorical_accuracy: 0.7511 - val_loss: 0.8363 - val_categorical_accuracy: 0.6800 - lr: 1.0000e-05\n",
      "Epoch 24/25\n",
      "34/34 [==============================] - ETA: 0s - loss: 0.5945 - categorical_accuracy: 0.7888\n",
      "Epoch 00024: saving model to model_conv3D_3new_2023-09-3008_40_55.635607/model-00024-0.59446-0.78884-0.83378-0.70000.h5\n",
      "34/34 [==============================] - 51s 2s/step - loss: 0.5945 - categorical_accuracy: 0.7888 - val_loss: 0.8338 - val_categorical_accuracy: 0.7000 - lr: 1.0000e-05\n",
      "Epoch 25/25\n",
      "34/34 [==============================] - ETA: 0s - loss: 0.6020 - categorical_accuracy: 0.7783\n",
      "Epoch 00025: saving model to model_conv3D_3new_2023-09-3008_40_55.635607/model-00025-0.60203-0.77828-0.82247-0.73000.h5\n",
      "34/34 [==============================] - 53s 2s/step - loss: 0.6020 - categorical_accuracy: 0.7783 - val_loss: 0.8225 - val_categorical_accuracy: 0.7300 - lr: 1.0000e-05\n"
     ]
    }
   ],
   "source": [
    "model3 = model.fit(train_generator, steps_per_epoch=steps_per_epoch, epochs=num_epochs, verbose=1, \n",
    "                    callbacks=callbacks_list, validation_data=val_generator, \n",
    "                    validation_steps=validation_steps, class_weight=None, workers=1, initial_epoch=0)"
   ]
  },
  {
   "cell_type": "code",
   "execution_count": 71,
   "metadata": {},
   "outputs": [
    {
     "name": "stdout",
     "output_type": "stream",
     "text": [
      "dict_keys(['loss', 'categorical_accuracy', 'val_loss', 'val_categorical_accuracy', 'lr'])\n"
     ]
    },
    {
     "data": {
      "image/png": "[encoded data removed]",
      "text/plain": [
       "<Figure size 432x288 with 1 Axes>"
      ]
     },
     "metadata": {
      "needs_background": "light"
     },
     "output_type": "display_data"
    },
    {
     "data": {
      "image/png": "[encoded data removed]",
      "text/plain": [
       "<Figure size 432x288 with 1 Axes>"
      ]
     },
     "metadata": {
      "needs_background": "light"
     },
     "output_type": "display_data"
    }
   ],
   "source": [
    "plot_loss_accuracy(model3)"
   ]
  },
  {
   "cell_type": "code",
   "execution_count": 63,
   "metadata": {},
   "outputs": [],
   "source": [
    "img_idx = [int(i) for i in range(0,30,2)] #create a list of image numbers you want to use for a particular video\n",
    "x=120\n",
    "y=120\n",
    "lenght=len(img_idx)\n",
    "sample_shape=(len(img_idx),x,y,3)\n",
    "resize_shape=(x,y)\n",
    "\n",
    "def generator3(source_path, folder_list, batch_size):\n",
    "    print( 'Source path = ', source_path, '; batch size =', batch_size)\n",
    "    \n",
    "    while True:\n",
    "    \n",
    "        t = np.random.permutation(folder_list) #663 for train\n",
    "        num_batches = len(t)//batch_size # calculate the number of batches\n",
    "        for batch in range(num_batches): # we iterate over the number of batches\n",
    "            batch_data = np.zeros((batch_size,len(img_idx),x,y,3)) # x is the number of images you use for each video, (y,z) is the final size of the input images and 3 is the number of channels RGB\n",
    "            batch_labels = np.zeros((batch_size,5)) # batch_labels is the one hot representation of the output\n",
    "            for folder in range(batch_size): # iterate over the batch_size\n",
    "                imgs = os.listdir(str(source_path)+'/'+ t[folder + (batch*batch_size)].split(';')[0]) # read all the images in the folder\n",
    "                for idx,item in enumerate(img_idx): #  Iterate over the frames/images of a folder to read them in\n",
    "                    image = Image.open(str(source_path)+'/'+ t[folder + (batch*batch_size)].strip().split(';')[0]+'/'+imgs[item])\n",
    "                    \n",
    "                    #crop the images and resize them. Note that the images are of 2 different shape\n",
    "                    if(image.size[1]>x):\n",
    "                       # left = 20\n",
    "                       # top = 50\n",
    "                       # right = 300\n",
    "                       # bottom = 350\n",
    "                       # image=image.crop((left, top, right, bottom))\n",
    "                       image=image.resize(resize_shape)\n",
    "                        \n",
    "                        \n",
    "                    else:\n",
    "                        image=image.resize(resize_shape)\n",
    "                        \n",
    "                    #and the conv3D will throw error if the inputs in a batch have different shapes\n",
    "                    \n",
    "                    batch_data[folder,idx,:,:,0] = normalize(np.array(image)[:,:,0])#normalise and feed in the image\n",
    "                    batch_data[folder,idx,:,:,1] = normalize(np.array(image)[:,:,1])#normalise and feed in the image\n",
    "                    batch_data[folder,idx,:,:,2] = normalize(np.array(image)[:,:,2])#normalise and feed in the image\n",
    "                    \n",
    "                batch_labels[folder, int(t[folder + (batch*batch_size)].strip().split(';')[2])] = 1\n",
    "            yield batch_data, batch_labels #you yield the batch_data and the batch_labels, remember what does yield do\n",
    "\n",
    "        \n",
    "        # write the code for the remaining data points which are left after full batches\n",
    "        if (len(t)%batch_size!=0):\n",
    "            batch_data = np.zeros((len(t)%batch_size,len(img_idx),x,y,3)) # x is the number of images you use for each video, (y,z) is the final size of the input images and 3 is the number of channels RGB\n",
    "            batch_labels = np.zeros((len(t)%batch_size,5)) # batch_labels is the one hot representation of the output\n",
    "            for folder in range(len(t)%batch_size): # iterate over the batch_size\n",
    "                imgs = os.listdir(str(source_path)+'/'+ t[folder + num_batches*batch_size].split(';')[0]) # read all the images in the folder\n",
    "                for idx,item in enumerate(img_idx): #  Iterate over the frames/images of a folder to read them in\n",
    "                    image = Image.open(str(source_path)+'/'+ t[folder + (num_batches*batch_size)].strip().split(';')[0]+'/'+imgs[item])\n",
    "                    \n",
    "                    #crop the images and resize them. Note that the images are of 2 different shape\n",
    "                    if(image.size[1]>x):\n",
    "                        image=image.resize(resize_shape)\n",
    "                    else:\n",
    "                        image=image.resize(resize_shape)\n",
    "                        \n",
    "                        \n",
    "                    #and the conv3D will throw error if the inputs in a batch have different shapes\n",
    "                    \n",
    "                   \n",
    "                    batch_data[folder,idx,:,:,0] = normalize(np.array(image)[:,:,0])#normalise and feed in the image\n",
    "                    batch_data[folder,idx,:,:,1] = normalize(np.array(image)[:,:,1])#normalise and feed in the image\n",
    "                    batch_data[folder,idx,:,:,2] = normalize(np.array(image)[:,:,2])#normalise and feed in the image\n",
    "                    \n",
    "                batch_labels[folder, int(t[folder + (num_batches*batch_size)].strip().split(';')[2])] = 1\n",
    "            yield batch_data, batch_labels #you yield the batch_data and the batch_labels, remember what does yield do"
   ]
  },
  {
   "cell_type": "code",
   "execution_count": 64,
   "metadata": {},
   "outputs": [
    {
     "name": "stdout",
     "output_type": "stream",
     "text": [
      "Source path =  datasets/Project_data/train ; batch size = 64\n"
     ]
    }
   ],
   "source": [
    "train_generator = generator3(data_dir_train, train_doc, batch_size)\n",
    "val_generator = generator3(data_dir_val, val_doc, batch_size)\n",
    "d = next(train_generator)[0]"
   ]
  },
  {
   "cell_type": "code",
   "execution_count": 65,
   "metadata": {},
   "outputs": [
    {
     "name": "stdout",
     "output_type": "stream",
     "text": [
      "# training sequences = 663\n",
      "# validation sequences = 100\n",
      "# epochs = 30\n",
      "#batch size 64\n",
      "steps_per_epoch 11\n",
      "validation_steps 2\n",
      "30\n"
     ]
    }
   ],
   "source": [
    "#Defining batch size and number of epochs, getting steps per epochs for training and validation\n",
    "batch_size = 64\n",
    "number_epochs = 30\n",
    "d = sequence(number_epochs,batch_size)\n",
    "steps_per_epoch = d[0]\n",
    "validation_steps = d[1]\n",
    "num_epochs = d[2]\n",
    "\n",
    "print('steps_per_epoch', steps_per_epoch)\n",
    "print('validation_steps', validation_steps)\n",
    "print(num_epochs)"
   ]
  },
  {
   "cell_type": "code",
   "execution_count": 28,
   "metadata": {},
   "outputs": [
    {
     "name": "stdout",
     "output_type": "stream",
     "text": [
      "WARNING:tensorflow:`input_shape` is undefined or non-square, or `rows` is not in [128, 160, 192, 224]. Weights for input shape (224, 224) will be loaded as the default.\n",
      "WARNING:tensorflow:Layer gru_1 will not use cuDNN kernels since it doesn't meet the criteria. It will use a generic GPU kernel as fallback when running on GPU.\n"
     ]
    }
   ],
   "source": [
    "# create a Mobile Net \"model\", we will use\n",
    "# image with shape (224, 224, 3)\n",
    "mnet =tf.keras.applications.MobileNet(\n",
    "    include_top=False,\n",
    "    weights='imagenet',\n",
    "    input_shape=(x, y, 3)\n",
    ")\n",
    "\n",
    "# do not train first layers, I want to only train\n",
    "# the 4 last layers (my own choice, up to you)\n",
    "for layer in mnet.layers[:-4]:\n",
    "    layer.trainable = False\n",
    "# create a Sequential model\n",
    "model = Sequential()\n",
    "\n",
    "model.add(\n",
    "    TimeDistributed(mnet, input_shape=(lenght, x, y, 3))\n",
    ")\n",
    "\n",
    "model.add(Dropout(.5))\n",
    "\n",
    "# now, flatten on each output to send 5 \n",
    "# outputs with one dimension to LSTM\n",
    "model.add(TimeDistributed(Flatten()))\n",
    "\n",
    "model.add(Dropout(.5))\n",
    "\n",
    "model.add(GRU(512,activation='relu', return_sequences=False))\n",
    "\n",
    "# finalize with standard Dense, Dropout...\n",
    "model.add(Dropout(.5))\n",
    "\n",
    "model.add(Dense(256, activation='relu'))\n",
    "\n",
    "model.add(Dropout(.5))\n",
    "\n",
    "model.add(Dense(5, activation='softmax'))"
   ]
  },
  {
   "cell_type": "code",
   "execution_count": 29,
   "metadata": {},
   "outputs": [
    {
     "name": "stdout",
     "output_type": "stream",
     "text": [
      "Model: \"sequential_3\"\n",
      "_________________________________________________________________\n",
      " Layer (type)                Output Shape              Param #   \n",
      "=================================================================\n",
      " time_distributed_3 (TimeDis  (None, 15, 3, 3, 1024)   3228864   \n",
      " tributed)                                                       \n",
      "                                                                 \n",
      " dropout_4 (Dropout)         (None, 15, 3, 3, 1024)    0         \n",
      "                                                                 \n",
      " time_distributed_4 (TimeDis  (None, 15, 9216)         0         \n",
      " tributed)                                                       \n",
      "                                                                 \n",
      " dropout_5 (Dropout)         (None, 15, 9216)          0         \n",
      "                                                                 \n",
      " gru_1 (GRU)                 (None, 512)               14945280  \n",
      "                                                                 \n",
      " dropout_6 (Dropout)         (None, 512)               0         \n",
      "                                                                 \n",
      " dense_4 (Dense)             (None, 256)               131328    \n",
      "                                                                 \n",
      " dropout_7 (Dropout)         (None, 256)               0         \n",
      "                                                                 \n",
      " dense_5 (Dense)             (None, 5)                 1285      \n",
      "                                                                 \n",
      "=================================================================\n",
      "Total params: 18,306,757\n",
      "Trainable params: 16,128,517\n",
      "Non-trainable params: 2,178,240\n",
      "_________________________________________________________________\n",
      "None\n"
     ]
    },
    {
     "name": "stderr",
     "output_type": "stream",
     "text": [
      "/usr/local/lib/python3.8/dist-packages/keras/optimizer_v2/adam.py:105: UserWarning: The `lr` argument is deprecated, use `learning_rate` instead.\n",
      "  super(Adam, self).__init__(name, **kwargs)\n"
     ]
    }
   ],
   "source": [
    "optimiser =tf.optimizers.Adam(lr=.001) #write your optimizer\n",
    "model.compile(optimizer=optimiser, loss='categorical_crossentropy', metrics=['categorical_accuracy'])\n",
    "print (model.summary())"
   ]
  },
  {
   "cell_type": "code",
   "execution_count": 30,
   "metadata": {},
   "outputs": [
    {
     "name": "stdout",
     "output_type": "stream",
     "text": [
      "WARNING:tensorflow:`period` argument is deprecated. Please use `save_freq` to specify the frequency in number of batches seen.\n"
     ]
    }
   ],
   "source": [
    "model_name = 'model_GRU_mnet' + '_' + str(curr_dt_time).replace(' ','').replace(':','_') + '/'\n",
    "    \n",
    "if not os.path.exists(model_name):\n",
    "    os.mkdir(model_name)\n",
    "        \n",
    "filepath = model_name +'GesRegV1' + 'model-{epoch:05d}-{loss:.5f}-{categorical_accuracy:.5f}-{val_loss:.5f}-{val_categorical_accuracy:.5f}.h5'\n",
    "\n",
    "checkpoint = ModelCheckpoint(filepath, monitor='val_loss', verbose=1, save_best_only=True, save_weights_only=True, mode='auto', period=1)\n",
    "\n",
    "LR = ReduceLROnPlateau(monitor='val_loss', factor=.5, patience=2, verbose=1, mode='min', min_delta=0.0001, cooldown=0, min_lr=0.00001) # write the REducelronplateau code here\n",
    "callbacks_list = [checkpoint, LR]"
   ]
  },
  {
   "cell_type": "code",
   "execution_count": 72,
   "metadata": {},
   "outputs": [],
   "source": [
    "num_train_sequences = len(train_doc)\n",
    "num_val_sequences = len(val_doc)\n",
    "if (num_train_sequences%batch_size) == 0:\n",
    "    steps_per_epoch = int(num_train_sequences/batch_size)\n",
    "else:\n",
    "    steps_per_epoch = (num_train_sequences//batch_size) + 1\n",
    "\n",
    "if (num_val_sequences%batch_size) == 0:\n",
    "    validation_steps = int(num_val_sequences/batch_size)\n",
    "else:\n",
    "    validation_steps = (num_val_sequences//batch_size) + 1"
   ]
  },
  {
   "cell_type": "code",
   "execution_count": 34,
   "metadata": {},
   "outputs": [
    {
     "name": "stderr",
     "output_type": "stream",
     "text": [
      "/tmp/ipykernel_309/784220664.py:1: UserWarning: `Model.fit_generator` is deprecated and will be removed in a future version. Please use `Model.fit`, which supports generators.\n",
      "  model4=model.fit_generator(train_generator, steps_per_epoch=steps_per_epoch, epochs=num_epochs, verbose=1,\n"
     ]
    },
    {
     "name": "stdout",
     "output_type": "stream",
     "text": [
      "Epoch 1/30\n",
      "11/11 [==============================] - ETA: 0s - loss: 5.6311 - categorical_accuracy: 0.2504Source path =  datasets/Project_data/val ; batch size = 64\n",
      "\n",
      "Epoch 00001: val_loss improved from inf to 1.37748, saving model to model_GRU_mnet_2023-09-3008_01_50.796357/GesRegV1model-00001-5.63111-0.25038-1.37748-0.41000.h5\n",
      "11/11 [==============================] - 48s 4s/step - loss: 5.6311 - categorical_accuracy: 0.2504 - val_loss: 1.3775 - val_categorical_accuracy: 0.4100 - lr: 0.0010\n",
      "Epoch 2/30\n",
      "11/11 [==============================] - ETA: 0s - loss: 2.8866 - categorical_accuracy: 0.3710\n",
      "Epoch 00002: val_loss improved from 1.37748 to 1.25027, saving model to model_GRU_mnet_2023-09-3008_01_50.796357/GesRegV1model-00002-2.88657-0.37104-1.25027-0.47000.h5\n",
      "11/11 [==============================] - 43s 4s/step - loss: 2.8866 - categorical_accuracy: 0.3710 - val_loss: 1.2503 - val_categorical_accuracy: 0.4700 - lr: 0.0010\n",
      "Epoch 3/30\n",
      "11/11 [==============================] - ETA: 0s - loss: 2.0865 - categorical_accuracy: 0.4253\n",
      "Epoch 00003: val_loss improved from 1.25027 to 1.16928, saving model to model_GRU_mnet_2023-09-3008_01_50.796357/GesRegV1model-00003-2.08652-0.42534-1.16928-0.57000.h5\n",
      "11/11 [==============================] - 42s 4s/step - loss: 2.0865 - categorical_accuracy: 0.4253 - val_loss: 1.1693 - val_categorical_accuracy: 0.5700 - lr: 0.0010\n",
      "Epoch 4/30\n",
      "11/11 [==============================] - ETA: 0s - loss: 1.5848 - categorical_accuracy: 0.5234\n",
      "Epoch 00004: val_loss did not improve from 1.16928\n",
      "11/11 [==============================] - 44s 4s/step - loss: 1.5848 - categorical_accuracy: 0.5234 - val_loss: 1.2209 - val_categorical_accuracy: 0.6200 - lr: 0.0010\n",
      "Epoch 5/30\n",
      "11/11 [==============================] - ETA: 0s - loss: 1.4200 - categorical_accuracy: 0.5370\n",
      "Epoch 00005: val_loss improved from 1.16928 to 1.06992, saving model to model_GRU_mnet_2023-09-3008_01_50.796357/GesRegV1model-00005-1.41996-0.53695-1.06992-0.59000.h5\n",
      "11/11 [==============================] - 43s 4s/step - loss: 1.4200 - categorical_accuracy: 0.5370 - val_loss: 1.0699 - val_categorical_accuracy: 0.5900 - lr: 0.0010\n",
      "Epoch 6/30\n",
      "11/11 [==============================] - ETA: 0s - loss: 1.3445 - categorical_accuracy: 0.5701\n",
      "Epoch 00006: val_loss improved from 1.06992 to 1.03843, saving model to model_GRU_mnet_2023-09-3008_01_50.796357/GesRegV1model-00006-1.34448-0.57014-1.03843-0.55000.h5\n",
      "11/11 [==============================] - 41s 4s/step - loss: 1.3445 - categorical_accuracy: 0.5701 - val_loss: 1.0384 - val_categorical_accuracy: 0.5500 - lr: 0.0010\n",
      "Epoch 7/30\n",
      "11/11 [==============================] - ETA: 0s - loss: 1.1532 - categorical_accuracy: 0.5716\n",
      "Epoch 00007: val_loss improved from 1.03843 to 0.98035, saving model to model_GRU_mnet_2023-09-3008_01_50.796357/GesRegV1model-00007-1.15315-0.57164-0.98035-0.63000.h5\n",
      "11/11 [==============================] - 44s 4s/step - loss: 1.1532 - categorical_accuracy: 0.5716 - val_loss: 0.9804 - val_categorical_accuracy: 0.6300 - lr: 0.0010\n",
      "Epoch 8/30\n",
      "11/11 [==============================] - ETA: 0s - loss: 0.9399 - categorical_accuracy: 0.6410\n",
      "Epoch 00008: val_loss improved from 0.98035 to 0.95474, saving model to model_GRU_mnet_2023-09-3008_01_50.796357/GesRegV1model-00008-0.93990-0.64103-0.95474-0.59000.h5\n",
      "11/11 [==============================] - 42s 4s/step - loss: 0.9399 - categorical_accuracy: 0.6410 - val_loss: 0.9547 - val_categorical_accuracy: 0.5900 - lr: 0.0010\n",
      "Epoch 9/30\n",
      "11/11 [==============================] - ETA: 0s - loss: 0.7890 - categorical_accuracy: 0.7149\n",
      "Epoch 00009: val_loss improved from 0.95474 to 0.94210, saving model to model_GRU_mnet_2023-09-3008_01_50.796357/GesRegV1model-00009-0.78899-0.71493-0.94210-0.58000.h5\n",
      "11/11 [==============================] - 44s 4s/step - loss: 0.7890 - categorical_accuracy: 0.7149 - val_loss: 0.9421 - val_categorical_accuracy: 0.5800 - lr: 0.0010\n",
      "Epoch 10/30\n",
      "11/11 [==============================] - ETA: 0s - loss: 0.7818 - categorical_accuracy: 0.7104\n",
      "Epoch 00010: val_loss improved from 0.94210 to 0.79315, saving model to model_GRU_mnet_2023-09-3008_01_50.796357/GesRegV1model-00010-0.78177-0.71041-0.79315-0.61000.h5\n",
      "11/11 [==============================] - 43s 4s/step - loss: 0.7818 - categorical_accuracy: 0.7104 - val_loss: 0.7931 - val_categorical_accuracy: 0.6100 - lr: 0.0010\n",
      "Epoch 11/30\n",
      "11/11 [==============================] - ETA: 0s - loss: 0.7676 - categorical_accuracy: 0.7421\n",
      "Epoch 00011: val_loss did not improve from 0.79315\n",
      "11/11 [==============================] - 44s 4s/step - loss: 0.7676 - categorical_accuracy: 0.7421 - val_loss: 0.8373 - val_categorical_accuracy: 0.6600 - lr: 0.0010\n",
      "Epoch 12/30\n",
      "11/11 [==============================] - ETA: 0s - loss: 0.6852 - categorical_accuracy: 0.7360\n",
      "Epoch 00012: val_loss did not improve from 0.79315\n",
      "\n",
      "Epoch 00012: ReduceLROnPlateau reducing learning rate to 0.0005000000237487257.\n",
      "11/11 [==============================] - 42s 4s/step - loss: 0.6852 - categorical_accuracy: 0.7360 - val_loss: 0.7957 - val_categorical_accuracy: 0.6400 - lr: 0.0010\n",
      "Epoch 13/30\n",
      "11/11 [==============================] - ETA: 0s - loss: 0.5708 - categorical_accuracy: 0.7828\n",
      "Epoch 00013: val_loss improved from 0.79315 to 0.72266, saving model to model_GRU_mnet_2023-09-3008_01_50.796357/GesRegV1model-00013-0.57076-0.78281-0.72266-0.72000.h5\n",
      "11/11 [==============================] - 44s 4s/step - loss: 0.5708 - categorical_accuracy: 0.7828 - val_loss: 0.7227 - val_categorical_accuracy: 0.7200 - lr: 5.0000e-04\n",
      "Epoch 14/30\n",
      "11/11 [==============================] - ETA: 0s - loss: 0.5168 - categorical_accuracy: 0.8235\n",
      "Epoch 00014: val_loss improved from 0.72266 to 0.61731, saving model to model_GRU_mnet_2023-09-3008_01_50.796357/GesRegV1model-00014-0.51675-0.82353-0.61731-0.78000.h5\n",
      "11/11 [==============================] - 41s 4s/step - loss: 0.5168 - categorical_accuracy: 0.8235 - val_loss: 0.6173 - val_categorical_accuracy: 0.7800 - lr: 5.0000e-04\n",
      "Epoch 15/30\n",
      "11/11 [==============================] - ETA: 0s - loss: 0.4677 - categorical_accuracy: 0.8462\n",
      "Epoch 00015: val_loss improved from 0.61731 to 0.61382, saving model to model_GRU_mnet_2023-09-3008_01_50.796357/GesRegV1model-00015-0.46772-0.84615-0.61382-0.77000.h5\n",
      "11/11 [==============================] - 43s 4s/step - loss: 0.4677 - categorical_accuracy: 0.8462 - val_loss: 0.6138 - val_categorical_accuracy: 0.7700 - lr: 5.0000e-04\n",
      "Epoch 16/30\n",
      "11/11 [==============================] - ETA: 0s - loss: 0.4106 - categorical_accuracy: 0.8658\n",
      "Epoch 00016: val_loss improved from 0.61382 to 0.56118, saving model to model_GRU_mnet_2023-09-3008_01_50.796357/GesRegV1model-00016-0.41065-0.86576-0.56118-0.79000.h5\n",
      "11/11 [==============================] - 42s 4s/step - loss: 0.4106 - categorical_accuracy: 0.8658 - val_loss: 0.5612 - val_categorical_accuracy: 0.7900 - lr: 5.0000e-04\n",
      "Epoch 17/30\n",
      "11/11 [==============================] - ETA: 0s - loss: 0.4179 - categorical_accuracy: 0.8477\n",
      "Epoch 00017: val_loss did not improve from 0.56118\n",
      "11/11 [==============================] - 43s 4s/step - loss: 0.4179 - categorical_accuracy: 0.8477 - val_loss: 0.6717 - val_categorical_accuracy: 0.7600 - lr: 5.0000e-04\n",
      "Epoch 18/30\n",
      "11/11 [==============================] - ETA: 0s - loss: 0.3654 - categorical_accuracy: 0.8748\n",
      "Epoch 00018: val_loss did not improve from 0.56118\n",
      "\n",
      "Epoch 00018: ReduceLROnPlateau reducing learning rate to 0.0002500000118743628.\n",
      "11/11 [==============================] - 44s 4s/step - loss: 0.3654 - categorical_accuracy: 0.8748 - val_loss: 0.7521 - val_categorical_accuracy: 0.7900 - lr: 5.0000e-04\n",
      "Epoch 19/30\n",
      "11/11 [==============================] - ETA: 0s - loss: 0.3378 - categorical_accuracy: 0.8718\n",
      "Epoch 00019: val_loss did not improve from 0.56118\n",
      "11/11 [==============================] - 43s 4s/step - loss: 0.3378 - categorical_accuracy: 0.8718 - val_loss: 0.6501 - val_categorical_accuracy: 0.7900 - lr: 2.5000e-04\n",
      "Epoch 20/30\n",
      "11/11 [==============================] - ETA: 0s - loss: 0.3054 - categorical_accuracy: 0.8974\n",
      "Epoch 00020: val_loss did not improve from 0.56118\n",
      "\n",
      "Epoch 00020: ReduceLROnPlateau reducing learning rate to 0.0001250000059371814.\n",
      "11/11 [==============================] - 41s 4s/step - loss: 0.3054 - categorical_accuracy: 0.8974 - val_loss: 0.5915 - val_categorical_accuracy: 0.8500 - lr: 2.5000e-04\n",
      "Epoch 21/30\n",
      "11/11 [==============================] - ETA: 0s - loss: 0.3345 - categorical_accuracy: 0.8869\n",
      "Epoch 00021: val_loss did not improve from 0.56118\n",
      "11/11 [==============================] - 45s 4s/step - loss: 0.3345 - categorical_accuracy: 0.8869 - val_loss: 0.6222 - val_categorical_accuracy: 0.7900 - lr: 1.2500e-04\n",
      "Epoch 22/30\n",
      "11/11 [==============================] - ETA: 0s - loss: 0.3011 - categorical_accuracy: 0.8839\n",
      "Epoch 00022: val_loss did not improve from 0.56118\n",
      "\n",
      "Epoch 00022: ReduceLROnPlateau reducing learning rate to 6.25000029685907e-05.\n",
      "11/11 [==============================] - 41s 4s/step - loss: 0.3011 - categorical_accuracy: 0.8839 - val_loss: 0.5814 - val_categorical_accuracy: 0.7800 - lr: 1.2500e-04\n",
      "Epoch 23/30\n",
      "11/11 [==============================] - ETA: 0s - loss: 0.3093 - categorical_accuracy: 0.8884\n",
      "Epoch 00023: val_loss did not improve from 0.56118\n",
      "11/11 [==============================] - 44s 4s/step - loss: 0.3093 - categorical_accuracy: 0.8884 - val_loss: 0.5903 - val_categorical_accuracy: 0.7900 - lr: 6.2500e-05\n",
      "Epoch 24/30\n",
      "11/11 [==============================] - ETA: 0s - loss: 0.2412 - categorical_accuracy: 0.9140\n",
      "Epoch 00024: val_loss did not improve from 0.56118\n",
      "\n",
      "Epoch 00024: ReduceLROnPlateau reducing learning rate to 3.125000148429535e-05.\n",
      "11/11 [==============================] - 43s 4s/step - loss: 0.2412 - categorical_accuracy: 0.9140 - val_loss: 0.6196 - val_categorical_accuracy: 0.7900 - lr: 6.2500e-05\n",
      "Epoch 25/30\n",
      "11/11 [==============================] - ETA: 0s - loss: 0.2823 - categorical_accuracy: 0.9005\n",
      "Epoch 00025: val_loss did not improve from 0.56118\n",
      "11/11 [==============================] - 45s 4s/step - loss: 0.2823 - categorical_accuracy: 0.9005 - val_loss: 0.5822 - val_categorical_accuracy: 0.8000 - lr: 3.1250e-05\n",
      "Epoch 26/30\n",
      "11/11 [==============================] - ETA: 0s - loss: 0.2671 - categorical_accuracy: 0.9065\n",
      "Epoch 00026: val_loss improved from 0.56118 to 0.53975, saving model to model_GRU_mnet_2023-09-3008_01_50.796357/GesRegV1model-00026-0.26714-0.90649-0.53975-0.83000.h5\n",
      "11/11 [==============================] - 41s 4s/step - loss: 0.2671 - categorical_accuracy: 0.9065 - val_loss: 0.5398 - val_categorical_accuracy: 0.8300 - lr: 3.1250e-05\n",
      "Epoch 27/30\n",
      "11/11 [==============================] - ETA: 0s - loss: 0.2869 - categorical_accuracy: 0.8929\n",
      "Epoch 00027: val_loss did not improve from 0.53975\n",
      "11/11 [==============================] - 43s 4s/step - loss: 0.2869 - categorical_accuracy: 0.8929 - val_loss: 0.5709 - val_categorical_accuracy: 0.8100 - lr: 3.1250e-05\n",
      "Epoch 28/30\n",
      "11/11 [==============================] - ETA: 0s - loss: 0.2159 - categorical_accuracy: 0.9261\n",
      "Epoch 00028: val_loss did not improve from 0.53975\n",
      "\n",
      "Epoch 00028: ReduceLROnPlateau reducing learning rate to 1.5625000742147677e-05.\n",
      "11/11 [==============================] - 42s 4s/step - loss: 0.2159 - categorical_accuracy: 0.9261 - val_loss: 0.6485 - val_categorical_accuracy: 0.7800 - lr: 3.1250e-05\n",
      "Epoch 29/30\n",
      "11/11 [==============================] - ETA: 0s - loss: 0.2684 - categorical_accuracy: 0.9095\n",
      "Epoch 00029: val_loss did not improve from 0.53975\n",
      "11/11 [==============================] - 44s 4s/step - loss: 0.2684 - categorical_accuracy: 0.9095 - val_loss: 0.5675 - val_categorical_accuracy: 0.8100 - lr: 1.5625e-05\n",
      "Epoch 30/30\n",
      "11/11 [==============================] - ETA: 0s - loss: 0.2686 - categorical_accuracy: 0.9050\n",
      "Epoch 00030: val_loss did not improve from 0.53975\n",
      "\n",
      "Epoch 00030: ReduceLROnPlateau reducing learning rate to 1e-05.\n",
      "11/11 [==============================] - 42s 4s/step - loss: 0.2686 - categorical_accuracy: 0.9050 - val_loss: 0.5492 - val_categorical_accuracy: 0.8300 - lr: 1.5625e-05\n"
     ]
    }
   ],
   "source": [
    "model4=model.fit_generator(train_generator, steps_per_epoch=steps_per_epoch, epochs=num_epochs, verbose=1, \n",
    "                    callbacks=callbacks_list, validation_data=val_generator, \n",
    "                    validation_steps=validation_steps, class_weight=None, workers=1, initial_epoch=0)"
   ]
  },
  {
   "cell_type": "code",
   "execution_count": 37,
   "metadata": {},
   "outputs": [
    {
     "name": "stdout",
     "output_type": "stream",
     "text": [
      "dict_keys(['loss', 'categorical_accuracy', 'val_loss', 'val_categorical_accuracy', 'lr'])\n"
     ]
    },
    {
     "data": {
      "image/png": "[encoded data removed]",
      "text/plain": [
       "<Figure size 432x288 with 1 Axes>"
      ]
     },
     "metadata": {
      "needs_background": "light"
     },
     "output_type": "display_data"
    },
    {
     "data": {
      "image/png": "[encoded data removed]",
      "text/plain": [
       "<Figure size 432x288 with 1 Axes>"
      ]
     },
     "metadata": {
      "needs_background": "light"
     },
     "output_type": "display_data"
    }
   ],
   "source": [
    "plot_loss_accuracy(model4)"
   ]
  },
  {
   "cell_type": "code",
   "execution_count": 28,
   "metadata": {},
   "outputs": [],
   "source": [
    "model = Sequential()\n",
    "\n",
    "model.add(TimeDistributed(Conv2D(16, (3, 3) , padding='same', activation='relu'),\n",
    "                                 input_shape=(lenght, x, y, 3)))\n",
    "model.add(TimeDistributed(BatchNormalization()))\n",
    "model.add(TimeDistributed(MaxPooling2D((2, 2))))\n",
    "        \n",
    "model.add(TimeDistributed(Conv2D(32, (3, 3) , padding='same', activation='relu')))\n",
    "model.add(TimeDistributed(BatchNormalization()))\n",
    "model.add(TimeDistributed(MaxPooling2D((2, 2))))\n",
    "        \n",
    "model.add(TimeDistributed(Conv2D(64, (3, 3) , padding='same', activation='relu')))\n",
    "model.add(TimeDistributed(BatchNormalization()))\n",
    "model.add(TimeDistributed(MaxPooling2D((2, 2))))\n",
    "        \n",
    "model.add(TimeDistributed(Conv2D(128, (3, 3) , padding='same', activation='relu')))\n",
    "model.add(TimeDistributed(BatchNormalization()))\n",
    "model.add(TimeDistributed(MaxPooling2D((2, 2))))\n",
    "        \n",
    "\n",
    "model.add(TimeDistributed(Flatten()))\n",
    "\n",
    "\n",
    "model.add(GRU(128))\n",
    "model.add(Dropout(0.25))\n",
    "        \n",
    "model.add(Dense(128,activation='relu'))\n",
    "model.add(Dropout(0.25))\n",
    "        \n",
    "model.add(Dense(5, activation='softmax'))\n",
    "\n",
    "       "
   ]
  },
  {
   "cell_type": "code",
   "execution_count": 30,
   "metadata": {},
   "outputs": [
    {
     "name": "stderr",
     "output_type": "stream",
     "text": [
      "/usr/local/lib/python3.8/dist-packages/keras/optimizer_v2/adam.py:105: UserWarning: The `lr` argument is deprecated, use `learning_rate` instead.\n",
      "  super(Adam, self).__init__(name, **kwargs)\n"
     ]
    }
   ],
   "source": [
    "optimiser = tf.optimizers.Adam(lr=0.0002)\n",
    "model.compile(optimizer=optimiser, loss='categorical_crossentropy', metrics=['categorical_accuracy'])"
   ]
  },
  {
   "cell_type": "code",
   "execution_count": 34,
   "metadata": {},
   "outputs": [
    {
     "name": "stdout",
     "output_type": "stream",
     "text": [
      "WARNING:tensorflow:`period` argument is deprecated. Please use `save_freq` to specify the frequency in number of batches seen.\n"
     ]
    }
   ],
   "source": [
    "model_name = 'model_LSTM_GRU' + '_' + str(curr_dt_time).replace(' ','').replace(':','_') + '/'\n",
    "    \n",
    "if not os.path.exists(model_name):\n",
    "    os.mkdir(model_name)\n",
    "        \n",
    "filepath = model_name +'GesRegV1' + 'model-{epoch:05d}-{loss:.5f}-{categorical_accuracy:.5f}-{val_loss:.5f}-{val_categorical_accuracy:.5f}.h5'\n",
    "\n",
    "checkpoint = ModelCheckpoint(filepath, monitor='val_loss', verbose=1, save_best_only=True, save_weights_only=True, mode='auto', period=1)\n",
    "\n",
    "LR = ReduceLROnPlateau(monitor='val_loss', factor=.5, patience=2, verbose=1, mode='min', min_delta=0.0001, cooldown=0, min_lr=0.00001) # write the REducelronplateau code here\n",
    "callbacks_list = [checkpoint, LR]"
   ]
  },
  {
   "cell_type": "code",
   "execution_count": 36,
   "metadata": {},
   "outputs": [
    {
     "name": "stderr",
     "output_type": "stream",
     "text": [
      "2023-10-02 10:12:50.304362: W tensorflow/core/framework/cpu_allocator_impl.cc:82] Allocation of 165888000 exceeds 10% of free system memory.\n"
     ]
    },
    {
     "name": "stdout",
     "output_type": "stream",
     "text": [
      "Epoch 1/30\n"
     ]
    },
    {
     "name": "stderr",
     "output_type": "stream",
     "text": [
      "2023-10-02 10:12:52.405787: W tensorflow/core/framework/cpu_allocator_impl.cc:82] Allocation of 165888000 exceeds 10% of free system memory.\n",
      "2023-10-02 10:12:53.609315: I tensorflow/stream_executor/cuda/cuda_dnn.cc:377] Loaded cuDNN version 8302\n",
      "2023-10-02 10:12:55.866636: W tensorflow/core/framework/cpu_allocator_impl.cc:82] Allocation of 165888000 exceeds 10% of free system memory.\n"
     ]
    },
    {
     "name": "stdout",
     "output_type": "stream",
     "text": [
      " 2/11 [====>.........................] - ETA: 11s - loss: 2.0500 - categorical_accuracy: 0.1953 "
     ]
    },
    {
     "name": "stderr",
     "output_type": "stream",
     "text": [
      "2023-10-02 10:13:01.209374: W tensorflow/core/framework/cpu_allocator_impl.cc:82] Allocation of 165888000 exceeds 10% of free system memory.\n"
     ]
    },
    {
     "name": "stdout",
     "output_type": "stream",
     "text": [
      " 3/11 [=======>......................] - ETA: 20s - loss: 1.9484 - categorical_accuracy: 0.2344"
     ]
    },
    {
     "name": "stderr",
     "output_type": "stream",
     "text": [
      "2023-10-02 10:13:04.392166: W tensorflow/core/framework/cpu_allocator_impl.cc:82] Allocation of 165888000 exceeds 10% of free system memory.\n"
     ]
    },
    {
     "name": "stdout",
     "output_type": "stream",
     "text": [
      "11/11 [==============================] - ETA: 0s - loss: 1.6691 - categorical_accuracy: 0.3122Source path =  datasets/Project_data/val ; batch size = 64\n",
      "\n",
      "Epoch 00001: val_loss improved from inf to 1.61420, saving model to model_LSTM_GRU_2023-10-0210_10_24.934289/GesRegV1model-00001-1.66911-0.31222-1.61420-0.21000.h5\n",
      "11/11 [==============================] - 46s 4s/step - loss: 1.6691 - categorical_accuracy: 0.3122 - val_loss: 1.6142 - val_categorical_accuracy: 0.2100 - lr: 2.0000e-04\n",
      "Epoch 2/30\n",
      "11/11 [==============================] - ETA: 0s - loss: 1.1964 - categorical_accuracy: 0.5204\n",
      "Epoch 00002: val_loss did not improve from 1.61420\n",
      "11/11 [==============================] - 40s 4s/step - loss: 1.1964 - categorical_accuracy: 0.5204 - val_loss: 1.6433 - val_categorical_accuracy: 0.2300 - lr: 2.0000e-04\n",
      "Epoch 3/30\n",
      "11/11 [==============================] - ETA: 0s - loss: 0.9702 - categorical_accuracy: 0.6652\n",
      "Epoch 00003: val_loss did not improve from 1.61420\n",
      "\n",
      "Epoch 00003: ReduceLROnPlateau reducing learning rate to 9.999999747378752e-05.\n",
      "11/11 [==============================] - 40s 4s/step - loss: 0.9702 - categorical_accuracy: 0.6652 - val_loss: 1.7488 - val_categorical_accuracy: 0.2100 - lr: 2.0000e-04\n",
      "Epoch 4/30\n",
      "11/11 [==============================] - ETA: 0s - loss: 0.7170 - categorical_accuracy: 0.7692\n",
      "Epoch 00004: val_loss did not improve from 1.61420\n",
      "11/11 [==============================] - 38s 4s/step - loss: 0.7170 - categorical_accuracy: 0.7692 - val_loss: 1.8009 - val_categorical_accuracy: 0.2300 - lr: 1.0000e-04\n",
      "Epoch 5/30\n",
      "11/11 [==============================] - ETA: 0s - loss: 0.6384 - categorical_accuracy: 0.8160\n",
      "Epoch 00005: val_loss did not improve from 1.61420\n",
      "\n",
      "Epoch 00005: ReduceLROnPlateau reducing learning rate to 4.999999873689376e-05.\n",
      "11/11 [==============================] - 41s 4s/step - loss: 0.6384 - categorical_accuracy: 0.8160 - val_loss: 1.9117 - val_categorical_accuracy: 0.2100 - lr: 1.0000e-04\n",
      "Epoch 6/30\n",
      "11/11 [==============================] - ETA: 0s - loss: 0.5332 - categorical_accuracy: 0.8718\n",
      "Epoch 00006: val_loss did not improve from 1.61420\n",
      "11/11 [==============================] - 40s 4s/step - loss: 0.5332 - categorical_accuracy: 0.8718 - val_loss: 1.9615 - val_categorical_accuracy: 0.2100 - lr: 5.0000e-05\n",
      "Epoch 7/30\n",
      "11/11 [==============================] - ETA: 0s - loss: 0.4861 - categorical_accuracy: 0.8793\n",
      "Epoch 00007: val_loss did not improve from 1.61420\n",
      "\n",
      "Epoch 00007: ReduceLROnPlateau reducing learning rate to 2.499999936844688e-05.\n",
      "11/11 [==============================] - 41s 4s/step - loss: 0.4861 - categorical_accuracy: 0.8793 - val_loss: 2.0969 - val_categorical_accuracy: 0.2100 - lr: 5.0000e-05\n",
      "Epoch 8/30\n",
      "11/11 [==============================] - ETA: 0s - loss: 0.4496 - categorical_accuracy: 0.9140\n",
      "Epoch 00008: val_loss did not improve from 1.61420\n",
      "11/11 [==============================] - 40s 4s/step - loss: 0.4496 - categorical_accuracy: 0.9140 - val_loss: 2.1778 - val_categorical_accuracy: 0.2200 - lr: 2.5000e-05\n",
      "Epoch 9/30\n",
      "11/11 [==============================] - ETA: 0s - loss: 0.4415 - categorical_accuracy: 0.9050\n",
      "Epoch 00009: val_loss did not improve from 1.61420\n",
      "\n",
      "Epoch 00009: ReduceLROnPlateau reducing learning rate to 1.249999968422344e-05.\n",
      "11/11 [==============================] - 40s 4s/step - loss: 0.4415 - categorical_accuracy: 0.9050 - val_loss: 2.1684 - val_categorical_accuracy: 0.2100 - lr: 2.5000e-05\n",
      "Epoch 10/30\n",
      "11/11 [==============================] - ETA: 0s - loss: 0.4141 - categorical_accuracy: 0.9201\n",
      "Epoch 00010: val_loss did not improve from 1.61420\n",
      "11/11 [==============================] - 39s 4s/step - loss: 0.4141 - categorical_accuracy: 0.9201 - val_loss: 2.1262 - val_categorical_accuracy: 0.2500 - lr: 1.2500e-05\n",
      "Epoch 11/30\n",
      "11/11 [==============================] - ETA: 0s - loss: 0.4173 - categorical_accuracy: 0.9080\n",
      "Epoch 00011: val_loss did not improve from 1.61420\n",
      "\n",
      "Epoch 00011: ReduceLROnPlateau reducing learning rate to 1e-05.\n",
      "11/11 [==============================] - 42s 4s/step - loss: 0.4173 - categorical_accuracy: 0.9080 - val_loss: 2.2516 - val_categorical_accuracy: 0.2100 - lr: 1.2500e-05\n",
      "Epoch 12/30\n",
      "11/11 [==============================] - ETA: 0s - loss: 0.3840 - categorical_accuracy: 0.9306\n",
      "Epoch 00012: val_loss did not improve from 1.61420\n",
      "11/11 [==============================] - 39s 4s/step - loss: 0.3840 - categorical_accuracy: 0.9306 - val_loss: 2.4414 - val_categorical_accuracy: 0.1700 - lr: 1.0000e-05\n",
      "Epoch 13/30\n",
      "11/11 [==============================] - ETA: 0s - loss: 0.3786 - categorical_accuracy: 0.9321\n",
      "Epoch 00013: val_loss did not improve from 1.61420\n",
      "11/11 [==============================] - 40s 4s/step - loss: 0.3786 - categorical_accuracy: 0.9321 - val_loss: 2.3432 - val_categorical_accuracy: 0.2100 - lr: 1.0000e-05\n",
      "Epoch 14/30\n",
      "11/11 [==============================] - ETA: 0s - loss: 0.3979 - categorical_accuracy: 0.9291\n",
      "Epoch 00014: val_loss did not improve from 1.61420\n",
      "11/11 [==============================] - 39s 4s/step - loss: 0.3979 - categorical_accuracy: 0.9291 - val_loss: 2.4134 - val_categorical_accuracy: 0.2000 - lr: 1.0000e-05\n",
      "Epoch 15/30\n",
      "11/11 [==============================] - ETA: 0s - loss: 0.3555 - categorical_accuracy: 0.9412\n",
      "Epoch 00015: val_loss did not improve from 1.61420\n",
      "11/11 [==============================] - 40s 4s/step - loss: 0.3555 - categorical_accuracy: 0.9412 - val_loss: 2.4385 - val_categorical_accuracy: 0.2100 - lr: 1.0000e-05\n",
      "Epoch 16/30\n",
      "11/11 [==============================] - ETA: 0s - loss: 0.3642 - categorical_accuracy: 0.9336\n",
      "Epoch 00016: val_loss did not improve from 1.61420\n",
      "11/11 [==============================] - 39s 4s/step - loss: 0.3642 - categorical_accuracy: 0.9336 - val_loss: 2.5459 - val_categorical_accuracy: 0.1800 - lr: 1.0000e-05\n",
      "Epoch 17/30\n",
      "11/11 [==============================] - ETA: 0s - loss: 0.3473 - categorical_accuracy: 0.9472\n",
      "Epoch 00017: val_loss did not improve from 1.61420\n",
      "11/11 [==============================] - 41s 4s/step - loss: 0.3473 - categorical_accuracy: 0.9472 - val_loss: 2.5026 - val_categorical_accuracy: 0.2100 - lr: 1.0000e-05\n",
      "Epoch 18/30\n",
      "11/11 [==============================] - ETA: 0s - loss: 0.3671 - categorical_accuracy: 0.9321\n",
      "Epoch 00018: val_loss did not improve from 1.61420\n",
      "11/11 [==============================] - 38s 4s/step - loss: 0.3671 - categorical_accuracy: 0.9321 - val_loss: 2.6446 - val_categorical_accuracy: 0.1800 - lr: 1.0000e-05\n",
      "Epoch 19/30\n",
      "11/11 [==============================] - ETA: 0s - loss: 0.3294 - categorical_accuracy: 0.9548\n",
      "Epoch 00019: val_loss did not improve from 1.61420\n",
      "11/11 [==============================] - 41s 4s/step - loss: 0.3294 - categorical_accuracy: 0.9548 - val_loss: 2.5510 - val_categorical_accuracy: 0.2100 - lr: 1.0000e-05\n",
      "Epoch 20/30\n",
      "11/11 [==============================] - ETA: 0s - loss: 0.3294 - categorical_accuracy: 0.9412\n",
      "Epoch 00020: val_loss did not improve from 1.61420\n",
      "11/11 [==============================] - 39s 4s/step - loss: 0.3294 - categorical_accuracy: 0.9412 - val_loss: 2.5912 - val_categorical_accuracy: 0.1700 - lr: 1.0000e-05\n",
      "Epoch 21/30\n",
      "11/11 [==============================] - ETA: 0s - loss: 0.3031 - categorical_accuracy: 0.9578\n",
      "Epoch 00021: val_loss did not improve from 1.61420\n",
      "11/11 [==============================] - 41s 4s/step - loss: 0.3031 - categorical_accuracy: 0.9578 - val_loss: 2.5941 - val_categorical_accuracy: 0.2100 - lr: 1.0000e-05\n",
      "Epoch 22/30\n",
      "11/11 [==============================] - ETA: 0s - loss: 0.3441 - categorical_accuracy: 0.9382\n",
      "Epoch 00022: val_loss did not improve from 1.61420\n",
      "11/11 [==============================] - 40s 4s/step - loss: 0.3441 - categorical_accuracy: 0.9382 - val_loss: 2.5641 - val_categorical_accuracy: 0.1800 - lr: 1.0000e-05\n",
      "Epoch 23/30\n",
      "11/11 [==============================] - ETA: 0s - loss: 0.3098 - categorical_accuracy: 0.9593\n",
      "Epoch 00023: val_loss did not improve from 1.61420\n",
      "11/11 [==============================] - 40s 4s/step - loss: 0.3098 - categorical_accuracy: 0.9593 - val_loss: 2.6069 - val_categorical_accuracy: 0.2100 - lr: 1.0000e-05\n",
      "Epoch 24/30\n",
      "11/11 [==============================] - ETA: 0s - loss: 0.3037 - categorical_accuracy: 0.9578\n",
      "Epoch 00024: val_loss did not improve from 1.61420\n",
      "11/11 [==============================] - 39s 4s/step - loss: 0.3037 - categorical_accuracy: 0.9578 - val_loss: 2.4565 - val_categorical_accuracy: 0.2100 - lr: 1.0000e-05\n",
      "Epoch 25/30\n",
      "11/11 [==============================] - ETA: 0s - loss: 0.3015 - categorical_accuracy: 0.9457\n",
      "Epoch 00025: val_loss did not improve from 1.61420\n",
      "11/11 [==============================] - 42s 4s/step - loss: 0.3015 - categorical_accuracy: 0.9457 - val_loss: 2.6171 - val_categorical_accuracy: 0.2100 - lr: 1.0000e-05\n",
      "Epoch 26/30\n",
      "11/11 [==============================] - ETA: 0s - loss: 0.2931 - categorical_accuracy: 0.9578\n",
      "Epoch 00026: val_loss did not improve from 1.61420\n",
      "11/11 [==============================] - 39s 4s/step - loss: 0.2931 - categorical_accuracy: 0.9578 - val_loss: 2.5909 - val_categorical_accuracy: 0.2100 - lr: 1.0000e-05\n",
      "Epoch 27/30\n",
      "11/11 [==============================] - ETA: 0s - loss: 0.3011 - categorical_accuracy: 0.9472\n",
      "Epoch 00027: val_loss did not improve from 1.61420\n",
      "11/11 [==============================] - 41s 4s/step - loss: 0.3011 - categorical_accuracy: 0.9472 - val_loss: 2.6047 - val_categorical_accuracy: 0.2100 - lr: 1.0000e-05\n",
      "Epoch 28/30\n",
      "11/11 [==============================] - ETA: 0s - loss: 0.2791 - categorical_accuracy: 0.9563\n",
      "Epoch 00028: val_loss did not improve from 1.61420\n",
      "11/11 [==============================] - 39s 4s/step - loss: 0.2791 - categorical_accuracy: 0.9563 - val_loss: 2.5553 - val_categorical_accuracy: 0.1900 - lr: 1.0000e-05\n",
      "Epoch 29/30\n",
      "11/11 [==============================] - ETA: 0s - loss: 0.2825 - categorical_accuracy: 0.9653\n",
      "Epoch 00029: val_loss did not improve from 1.61420\n",
      "11/11 [==============================] - 41s 4s/step - loss: 0.2825 - categorical_accuracy: 0.9653 - val_loss: 2.5960 - val_categorical_accuracy: 0.2100 - lr: 1.0000e-05\n",
      "Epoch 30/30\n",
      "11/11 [==============================] - ETA: 0s - loss: 0.2751 - categorical_accuracy: 0.9668\n",
      "Epoch 00030: val_loss did not improve from 1.61420\n",
      "11/11 [==============================] - 39s 4s/step - loss: 0.2751 - categorical_accuracy: 0.9668 - val_loss: 2.5658 - val_categorical_accuracy: 0.2100 - lr: 1.0000e-05\n"
     ]
    }
   ],
   "source": [
    "model7 = model.fit(train_generator, steps_per_epoch=steps_per_epoch, epochs=num_epochs, verbose=1, \n",
    "                    callbacks=callbacks_list, validation_data=val_generator, \n",
    "                    validation_steps=validation_steps, class_weight=None, workers=1, initial_epoch=0)"
   ]
  },
  {
   "cell_type": "code",
   "execution_count": 39,
   "metadata": {},
   "outputs": [
    {
     "name": "stdout",
     "output_type": "stream",
     "text": [
      "dict_keys(['loss', 'categorical_accuracy', 'val_loss', 'val_categorical_accuracy', 'lr'])\n"
     ]
    },
    {
     "data": {
      "image/png": "[encoded data removed]",
      "text/plain": [
       "<Figure size 432x288 with 1 Axes>"
      ]
     },
     "metadata": {
      "needs_background": "light"
     },
     "output_type": "display_data"
    },
    {
     "data": {
      "image/png": "[encoded data removed]",
      "text/plain": [
       "<Figure size 432x288 with 1 Axes>"
      ]
     },
     "metadata": {
      "needs_background": "light"
     },
     "output_type": "display_data"
    }
   ],
   "source": [
    "plot_loss_accuracy(model7)"
   ]
  },
  {
   "cell_type": "code",
   "execution_count": 48,
   "metadata": {},
   "outputs": [],
   "source": [
    "#increasing dropout after dense layer\n",
    "model = Sequential()\n",
    "\n",
    "model.add(Conv3D(16, kernel_size=(2, 2, 2), input_shape=(18, 120, 120, 3), padding='same'))\n",
    "model.add(Activation('relu'))\n",
    "model.add(BatchNormalization())\n",
    "model.add(MaxPooling3D(pool_size=(2, 2, 2)))\n",
    "\n",
    "model.add(Conv3D(32, kernel_size=(2, 2, 2), padding='same'))\n",
    "model.add(Activation('relu'))\n",
    "model.add(BatchNormalization())\n",
    "model.add(MaxPooling3D(pool_size=(2, 2, 2)))\n",
    "\n",
    "model.add(Conv3D(64, kernel_size=(2, 2, 2), padding='same'))\n",
    "model.add(Activation('relu'))\n",
    "model.add(BatchNormalization())\n",
    "model.add(MaxPooling3D(pool_size=(2, 2, 2)))\n",
    "\n",
    "model.add(Conv3D(128, kernel_size=(2, 2, 2), padding='same'))\n",
    "model.add(Activation('relu'))\n",
    "model.add(BatchNormalization())\n",
    "model.add(MaxPooling3D(pool_size=(2, 2, 2)))\n",
    "\n",
    "model.add(Flatten())\n",
    "model.add(Dense(256))\n",
    "model.add(Activation('relu'))\n",
    "model.add(BatchNormalization())\n",
    "model.add(Dropout(0.5))\n",
    "\n",
    "model.add(Dense(128))\n",
    "model.add(Activation('relu'))\n",
    "model.add(BatchNormalization())\n",
    "model.add(Dropout(0.5))\n",
    "\n",
    "model.add(Dense(5))\n",
    "model.add(Activation('softmax'))"
   ]
  },
  {
   "cell_type": "code",
   "execution_count": 49,
   "metadata": {},
   "outputs": [
    {
     "name": "stderr",
     "output_type": "stream",
     "text": [
      "/usr/local/lib/python3.8/dist-packages/keras/optimizer_v2/adam.py:105: UserWarning: The `lr` argument is deprecated, use `learning_rate` instead.\n",
      "  super(Adam, self).__init__(name, **kwargs)\n"
     ]
    }
   ],
   "source": [
    "optimiser = tf.optimizers.Adam(lr=0.0002)\n",
    "model.compile(optimizer=optimiser, loss='categorical_crossentropy', metrics=['categorical_accuracy'])"
   ]
  },
  {
   "cell_type": "code",
   "execution_count": 50,
   "metadata": {},
   "outputs": [
    {
     "name": "stdout",
     "output_type": "stream",
     "text": [
      "WARNING:tensorflow:`period` argument is deprecated. Please use `save_freq` to specify the frequency in number of batches seen.\n"
     ]
    }
   ],
   "source": [
    "model_name = 'model_Conv3D_2Filter' + '_' + str(curr_dt_time).replace(' ','').replace(':','_') + '/'\n",
    "    \n",
    "if not os.path.exists(model_name):\n",
    "    os.mkdir(model_name)\n",
    "        \n",
    "filepath = model_name +'GesRegV1' + 'model-{epoch:05d}-{loss:.5f}-{categorical_accuracy:.5f}-{val_loss:.5f}-{val_categorical_accuracy:.5f}.h5'\n",
    "\n",
    "checkpoint = ModelCheckpoint(filepath, monitor='val_loss', verbose=1, save_best_only=True, save_weights_only=True, mode='auto', period=1)\n",
    "\n",
    "LR = ReduceLROnPlateau(monitor='val_loss', factor=.5, patience=2, verbose=1, mode='min', min_delta=0.0001, cooldown=0, min_lr=0.00001) # write the REducelronplateau code here\n",
    "callbacks_list = [checkpoint, LR]"
   ]
  },
  {
   "cell_type": "code",
   "execution_count": 51,
   "metadata": {},
   "outputs": [
    {
     "name": "stdout",
     "output_type": "stream",
     "text": [
      "Source path =  datasets/Project_data/train ; batch size = 20\n",
      "Epoch 1/25\n",
      "34/34 [==============================] - ETA: 0s - loss: 2.3382 - categorical_accuracy: 0.2836Source path =  datasets/Project_data/val ; batch size = 20\n",
      "\n",
      "Epoch 00001: val_loss improved from inf to 2.20337, saving model to model_Conv3D_2Filter_2023-10-0210_10_24.934289/GesRegV1model-00001-2.33818-0.28356-2.20337-0.16000.h5\n",
      "34/34 [==============================] - 51s 2s/step - loss: 2.3382 - categorical_accuracy: 0.2836 - val_loss: 2.2034 - val_categorical_accuracy: 0.1600 - lr: 2.0000e-04\n",
      "Epoch 2/25\n",
      "34/34 [==============================] - ETA: 0s - loss: 1.5406 - categorical_accuracy: 0.4721\n",
      "Epoch 00002: val_loss did not improve from 2.20337\n",
      "34/34 [==============================] - 49s 1s/step - loss: 1.5406 - categorical_accuracy: 0.4721 - val_loss: 3.6877 - val_categorical_accuracy: 0.1800 - lr: 2.0000e-04\n",
      "Epoch 3/25\n",
      "34/34 [==============================] - ETA: 0s - loss: 1.3388 - categorical_accuracy: 0.5234\n",
      "Epoch 00003: val_loss did not improve from 2.20337\n",
      "\n",
      "Epoch 00003: ReduceLROnPlateau reducing learning rate to 9.999999747378752e-05.\n",
      "34/34 [==============================] - 49s 1s/step - loss: 1.3388 - categorical_accuracy: 0.5234 - val_loss: 5.4808 - val_categorical_accuracy: 0.1400 - lr: 2.0000e-04\n",
      "Epoch 4/25\n",
      "34/34 [==============================] - ETA: 0s - loss: 1.1526 - categorical_accuracy: 0.5867\n",
      "Epoch 00004: val_loss did not improve from 2.20337\n",
      "34/34 [==============================] - 48s 1s/step - loss: 1.1526 - categorical_accuracy: 0.5867 - val_loss: 6.7079 - val_categorical_accuracy: 0.1600 - lr: 1.0000e-04\n",
      "Epoch 5/25\n",
      "34/34 [==============================] - ETA: 0s - loss: 1.0721 - categorical_accuracy: 0.6078\n",
      "Epoch 00005: val_loss did not improve from 2.20337\n",
      "\n",
      "Epoch 00005: ReduceLROnPlateau reducing learning rate to 4.999999873689376e-05.\n",
      "34/34 [==============================] - 49s 1s/step - loss: 1.0721 - categorical_accuracy: 0.6078 - val_loss: 6.7615 - val_categorical_accuracy: 0.1500 - lr: 1.0000e-04\n",
      "Epoch 6/25\n",
      "34/34 [==============================] - ETA: 0s - loss: 0.9903 - categorical_accuracy: 0.6591\n",
      "Epoch 00006: val_loss did not improve from 2.20337\n",
      "34/34 [==============================] - 47s 1s/step - loss: 0.9903 - categorical_accuracy: 0.6591 - val_loss: 7.0477 - val_categorical_accuracy: 0.1600 - lr: 5.0000e-05\n",
      "Epoch 7/25\n",
      "34/34 [==============================] - ETA: 0s - loss: 0.8732 - categorical_accuracy: 0.6863\n",
      "Epoch 00007: val_loss did not improve from 2.20337\n",
      "\n",
      "Epoch 00007: ReduceLROnPlateau reducing learning rate to 2.499999936844688e-05.\n",
      "34/34 [==============================] - 52s 2s/step - loss: 0.8732 - categorical_accuracy: 0.6863 - val_loss: 6.9018 - val_categorical_accuracy: 0.1800 - lr: 5.0000e-05\n",
      "Epoch 8/25\n",
      "34/34 [==============================] - ETA: 0s - loss: 0.8540 - categorical_accuracy: 0.6787\n",
      "Epoch 00008: val_loss did not improve from 2.20337\n",
      "34/34 [==============================] - 49s 1s/step - loss: 0.8540 - categorical_accuracy: 0.6787 - val_loss: 6.7853 - val_categorical_accuracy: 0.1900 - lr: 2.5000e-05\n",
      "Epoch 9/25\n",
      "34/34 [==============================] - ETA: 0s - loss: 0.8235 - categorical_accuracy: 0.6802\n",
      "Epoch 00009: val_loss did not improve from 2.20337\n",
      "\n",
      "Epoch 00009: ReduceLROnPlateau reducing learning rate to 1.249999968422344e-05.\n",
      "34/34 [==============================] - 49s 1s/step - loss: 0.8235 - categorical_accuracy: 0.6802 - val_loss: 6.6581 - val_categorical_accuracy: 0.2100 - lr: 2.5000e-05\n",
      "Epoch 10/25\n",
      "34/34 [==============================] - ETA: 0s - loss: 0.8011 - categorical_accuracy: 0.7240\n",
      "Epoch 00010: val_loss did not improve from 2.20337\n",
      "34/34 [==============================] - 48s 1s/step - loss: 0.8011 - categorical_accuracy: 0.7240 - val_loss: 6.2470 - val_categorical_accuracy: 0.2300 - lr: 1.2500e-05\n",
      "Epoch 11/25\n",
      "33/34 [============================>.] - ETA: 1s - loss: 0.7830 - categorical_accuracy: 0.7242\n",
      "Epoch 00011: val_loss did not improve from 2.20337\n",
      "\n",
      "Epoch 00011: ReduceLROnPlateau reducing learning rate to 1e-05.\n",
      "34/34 [==============================] - 48s 1s/step - loss: 0.7869 - categorical_accuracy: 0.7225 - val_loss: 5.8881 - val_categorical_accuracy: 0.2400 - lr: 1.2500e-05\n",
      "Epoch 12/25\n",
      "33/34 [============================>.] - ETA: 1s - loss: 0.8265 - categorical_accuracy: 0.6864\n",
      "Epoch 00012: val_loss did not improve from 2.20337\n",
      "34/34 [==============================] - 48s 1s/step - loss: 0.8305 - categorical_accuracy: 0.6863 - val_loss: 5.2483 - val_categorical_accuracy: 0.2200 - lr: 1.0000e-05\n",
      "Epoch 13/25\n",
      "34/34 [==============================] - ETA: 0s - loss: 0.8441 - categorical_accuracy: 0.6998\n",
      "Epoch 00013: val_loss did not improve from 2.20337\n",
      "34/34 [==============================] - 48s 1s/step - loss: 0.8441 - categorical_accuracy: 0.6998 - val_loss: 4.3564 - val_categorical_accuracy: 0.2400 - lr: 1.0000e-05\n",
      "Epoch 14/25\n",
      "34/34 [==============================] - ETA: 0s - loss: 0.7575 - categorical_accuracy: 0.7179\n",
      "Epoch 00014: val_loss did not improve from 2.20337\n",
      "34/34 [==============================] - 48s 1s/step - loss: 0.7575 - categorical_accuracy: 0.7179 - val_loss: 3.7802 - val_categorical_accuracy: 0.3200 - lr: 1.0000e-05\n",
      "Epoch 15/25\n",
      "33/34 [============================>.] - ETA: 1s - loss: 0.7338 - categorical_accuracy: 0.7364\n",
      "Epoch 00015: val_loss did not improve from 2.20337\n",
      "34/34 [==============================] - 49s 1s/step - loss: 0.7362 - categorical_accuracy: 0.7345 - val_loss: 3.3214 - val_categorical_accuracy: 0.2500 - lr: 1.0000e-05\n",
      "Epoch 16/25\n",
      "34/34 [==============================] - ETA: 0s - loss: 0.7045 - categorical_accuracy: 0.7376\n",
      "Epoch 00016: val_loss did not improve from 2.20337\n",
      "34/34 [==============================] - 49s 1s/step - loss: 0.7045 - categorical_accuracy: 0.7376 - val_loss: 2.6968 - val_categorical_accuracy: 0.3300 - lr: 1.0000e-05\n",
      "Epoch 17/25\n",
      "34/34 [==============================] - ETA: 0s - loss: 0.7675 - categorical_accuracy: 0.7360\n",
      "Epoch 00017: val_loss improved from 2.20337 to 2.19111, saving model to model_Conv3D_2Filter_2023-10-0210_10_24.934289/GesRegV1model-00017-0.76748-0.73605-2.19111-0.39000.h5\n",
      "34/34 [==============================] - 49s 1s/step - loss: 0.7675 - categorical_accuracy: 0.7360 - val_loss: 2.1911 - val_categorical_accuracy: 0.3900 - lr: 1.0000e-05\n",
      "Epoch 18/25\n",
      "33/34 [============================>.] - ETA: 1s - loss: 0.6746 - categorical_accuracy: 0.7727\n",
      "Epoch 00018: val_loss improved from 2.19111 to 1.59639, saving model to model_Conv3D_2Filter_2023-10-0210_10_24.934289/GesRegV1model-00018-0.67365-0.77225-1.59639-0.45000.h5\n",
      "34/34 [==============================] - 48s 1s/step - loss: 0.6737 - categorical_accuracy: 0.7722 - val_loss: 1.5964 - val_categorical_accuracy: 0.4500 - lr: 1.0000e-05\n",
      "Epoch 19/25\n",
      "34/34 [==============================] - ETA: 0s - loss: 0.7665 - categorical_accuracy: 0.7104\n",
      "Epoch 00019: val_loss improved from 1.59639 to 1.37659, saving model to model_Conv3D_2Filter_2023-10-0210_10_24.934289/GesRegV1model-00019-0.76646-0.71041-1.37659-0.57000.h5\n",
      "34/34 [==============================] - 48s 1s/step - loss: 0.7665 - categorical_accuracy: 0.7104 - val_loss: 1.3766 - val_categorical_accuracy: 0.5700 - lr: 1.0000e-05\n",
      "Epoch 20/25\n",
      "33/34 [============================>.] - ETA: 1s - loss: 0.6990 - categorical_accuracy: 0.7394\n",
      "Epoch 00020: val_loss improved from 1.37659 to 1.02788, saving model to model_Conv3D_2Filter_2023-10-0210_10_24.934289/GesRegV1model-00020-0.69673-0.74057-1.02788-0.70000.h5\n",
      "34/34 [==============================] - 47s 1s/step - loss: 0.6967 - categorical_accuracy: 0.7406 - val_loss: 1.0279 - val_categorical_accuracy: 0.7000 - lr: 1.0000e-05\n",
      "Epoch 21/25\n",
      "34/34 [==============================] - ETA: 0s - loss: 0.7025 - categorical_accuracy: 0.7300\n",
      "Epoch 00021: val_loss improved from 1.02788 to 0.95407, saving model to model_Conv3D_2Filter_2023-10-0210_10_24.934289/GesRegV1model-00021-0.70253-0.73002-0.95407-0.67000.h5\n",
      "34/34 [==============================] - 48s 1s/step - loss: 0.7025 - categorical_accuracy: 0.7300 - val_loss: 0.9541 - val_categorical_accuracy: 0.6700 - lr: 1.0000e-05\n",
      "Epoch 22/25\n",
      "34/34 [==============================] - ETA: 0s - loss: 0.7229 - categorical_accuracy: 0.7164\n",
      "Epoch 00022: val_loss improved from 0.95407 to 0.86600, saving model to model_Conv3D_2Filter_2023-10-0210_10_24.934289/GesRegV1model-00022-0.72290-0.71644-0.86600-0.65000.h5\n",
      "34/34 [==============================] - 49s 1s/step - loss: 0.7229 - categorical_accuracy: 0.7164 - val_loss: 0.8660 - val_categorical_accuracy: 0.6500 - lr: 1.0000e-05\n",
      "Epoch 23/25\n",
      "34/34 [==============================] - ETA: 0s - loss: 0.6865 - categorical_accuracy: 0.7376\n",
      "Epoch 00023: val_loss improved from 0.86600 to 0.84957, saving model to model_Conv3D_2Filter_2023-10-0210_10_24.934289/GesRegV1model-00023-0.68645-0.73756-0.84957-0.68000.h5\n",
      "34/34 [==============================] - 49s 1s/step - loss: 0.6865 - categorical_accuracy: 0.7376 - val_loss: 0.8496 - val_categorical_accuracy: 0.6800 - lr: 1.0000e-05\n",
      "Epoch 24/25\n",
      "34/34 [==============================] - ETA: 0s - loss: 0.6402 - categorical_accuracy: 0.7541\n",
      "Epoch 00024: val_loss improved from 0.84957 to 0.78179, saving model to model_Conv3D_2Filter_2023-10-0210_10_24.934289/GesRegV1model-00024-0.64023-0.75415-0.78179-0.69000.h5\n",
      "34/34 [==============================] - 49s 1s/step - loss: 0.6402 - categorical_accuracy: 0.7541 - val_loss: 0.7818 - val_categorical_accuracy: 0.6900 - lr: 1.0000e-05\n",
      "Epoch 25/25\n",
      "34/34 [==============================] - ETA: 0s - loss: 0.6710 - categorical_accuracy: 0.7466\n",
      "Epoch 00025: val_loss improved from 0.78179 to 0.71747, saving model to model_Conv3D_2Filter_2023-10-0210_10_24.934289/GesRegV1model-00025-0.67100-0.74661-0.71747-0.74000.h5\n",
      "34/34 [==============================] - 49s 1s/step - loss: 0.6710 - categorical_accuracy: 0.7466 - val_loss: 0.7175 - val_categorical_accuracy: 0.7400 - lr: 1.0000e-05\n"
     ]
    }
   ],
   "source": [
    "model9 = model.fit(train_generator, steps_per_epoch=steps_per_epoch, epochs=num_epochs, verbose=1, \n",
    "                    callbacks=callbacks_list, validation_data=val_generator, \n",
    "                    validation_steps=validation_steps, class_weight=None, workers=1, initial_epoch=0)"
   ]
  },
  {
   "cell_type": "code",
   "execution_count": 53,
   "metadata": {},
   "outputs": [
    {
     "name": "stdout",
     "output_type": "stream",
     "text": [
      "dict_keys(['loss', 'categorical_accuracy', 'val_loss', 'val_categorical_accuracy', 'lr'])\n"
     ]
    },
    {
     "data": {
      "image/png": "[encoded data removed]",
      "text/plain": [
       "<Figure size 432x288 with 1 Axes>"
      ]
     },
     "metadata": {
      "needs_background": "light"
     },
     "output_type": "display_data"
    },
    {
     "data": {
      "image/png": "[encoded data removed]",
      "text/plain": [
       "<Figure size 432x288 with 1 Axes>"
      ]
     },
     "metadata": {
      "needs_background": "light"
     },
     "output_type": "display_data"
    }
   ],
   "source": [
    "plot_loss_accuracy(model9)"
   ]
  },
  {
   "cell_type": "code",
   "execution_count": 54,
   "metadata": {},
   "outputs": [
    {
     "name": "stdout",
     "output_type": "stream",
     "text": [
      "# training sequences = 663\n",
      "# validation sequences = 100\n",
      "# epochs = 30\n",
      "#batch size 64\n",
      "steps_per_epoch 11\n",
      "validation_steps 2\n",
      "30\n"
     ]
    }
   ],
   "source": [
    "#Defining batch size and number of epochs, getting steps per epochs for training and validation\n",
    "batch_size = 64\n",
    "number_epochs = 30\n",
    "d = sequence(number_epochs,batch_size)\n",
    "steps_per_epoch = d[0]\n",
    "validation_steps = d[1]\n",
    "num_epochs = d[2]\n",
    "\n",
    "print('steps_per_epoch', steps_per_epoch)\n",
    "print('validation_steps', validation_steps)\n",
    "print(num_epochs)"
   ]
  },
  {
   "cell_type": "code",
   "execution_count": 56,
   "metadata": {},
   "outputs": [],
   "source": [
    "#increasing dropout after dense layer\n",
    "model = Sequential()\n",
    "\n",
    "model.add(Conv3D(16, kernel_size=(2, 2, 2), input_shape=(18, 120, 120, 3), padding='same'))\n",
    "model.add(Activation('relu'))\n",
    "model.add(BatchNormalization())\n",
    "model.add(MaxPooling3D(pool_size=(2, 2, 2)))\n",
    "\n",
    "model.add(Conv3D(32, kernel_size=(2, 2, 2), padding='same'))\n",
    "model.add(Activation('relu'))\n",
    "model.add(BatchNormalization())\n",
    "model.add(MaxPooling3D(pool_size=(2, 2, 2)))\n",
    "\n",
    "model.add(Conv3D(64, kernel_size=(2, 2, 2), padding='same'))\n",
    "model.add(Activation('relu'))\n",
    "model.add(BatchNormalization())\n",
    "model.add(MaxPooling3D(pool_size=(2, 2, 2)))\n",
    "\n",
    "model.add(Conv3D(128, kernel_size=(2, 2, 2), padding='same'))\n",
    "model.add(Activation('relu'))\n",
    "model.add(BatchNormalization())\n",
    "model.add(MaxPooling3D(pool_size=(2, 2, 2)))\n",
    "\n",
    "model.add(Conv3D(256, kernel_size=(2, 2, 2), padding='same'))\n",
    "model.add(Activation('relu'))\n",
    "model.add(BatchNormalization())\n",
    "model.add(MaxPooling3D(pool_size=(2, 2, 2), padding='same'))\n",
    "\n",
    "model.add(Flatten())\n",
    "model.add(Dense(512))\n",
    "model.add(Activation('relu'))\n",
    "model.add(BatchNormalization())\n",
    "model.add(Dropout(0.5))\n",
    "\n",
    "model.add(Dense(256))\n",
    "model.add(Activation('relu'))\n",
    "model.add(BatchNormalization())\n",
    "model.add(Dropout(0.5))\n",
    "\n",
    "model.add(Dense(5))\n",
    "model.add(Activation('softmax'))"
   ]
  },
  {
   "cell_type": "code",
   "execution_count": 57,
   "metadata": {},
   "outputs": [
    {
     "name": "stderr",
     "output_type": "stream",
     "text": [
      "/usr/local/lib/python3.8/dist-packages/keras/optimizer_v2/adam.py:105: UserWarning: The `lr` argument is deprecated, use `learning_rate` instead.\n",
      "  super(Adam, self).__init__(name, **kwargs)\n"
     ]
    }
   ],
   "source": [
    "optimiser = tf.optimizers.Adam(lr=0.0002)\n",
    "model.compile(optimizer=optimiser, loss='categorical_crossentropy', metrics=['categorical_accuracy'])"
   ]
  },
  {
   "cell_type": "code",
   "execution_count": 58,
   "metadata": {},
   "outputs": [
    {
     "name": "stdout",
     "output_type": "stream",
     "text": [
      "WARNING:tensorflow:`period` argument is deprecated. Please use `save_freq` to specify the frequency in number of batches seen.\n"
     ]
    }
   ],
   "source": [
    "model_name = 'model_Conv3D_2Filter_2' + '_' + str(curr_dt_time).replace(' ','').replace(':','_') + '/'\n",
    "    \n",
    "if not os.path.exists(model_name):\n",
    "    os.mkdir(model_name)\n",
    "        \n",
    "filepath = model_name +'GesRegV1' + 'model-{epoch:05d}-{loss:.5f}-{categorical_accuracy:.5f}-{val_loss:.5f}-{val_categorical_accuracy:.5f}.h5'\n",
    "\n",
    "checkpoint = ModelCheckpoint(filepath, monitor='val_loss', verbose=1, save_best_only=True, save_weights_only=True, mode='auto', period=1)\n",
    "\n",
    "LR = ReduceLROnPlateau(monitor='val_loss', factor=.5, patience=2, verbose=1, mode='min', min_delta=0.0001, cooldown=0, min_lr=0.00001) # write the REducelronplateau code here\n",
    "callbacks_list = [checkpoint, LR]"
   ]
  },
  {
   "cell_type": "code",
   "execution_count": 59,
   "metadata": {},
   "outputs": [
    {
     "name": "stdout",
     "output_type": "stream",
     "text": [
      "Epoch 1/30\n",
      "11/11 [==============================] - ETA: 0s - loss: 2.6900 - categorical_accuracy: 0.2273\n",
      "Epoch 00001: val_loss improved from inf to 1.61100, saving model to model_Conv3D_2Filter_2_2023-10-0210_59_50.556223/GesRegV1model-00001-2.68998-0.22727-1.61100-0.25000.h5\n",
      "11/11 [==============================] - 18s 2s/step - loss: 2.6900 - categorical_accuracy: 0.2273 - val_loss: 1.6110 - val_categorical_accuracy: 0.2500 - lr: 2.0000e-04\n",
      "Epoch 2/30\n",
      "11/11 [==============================] - ETA: 0s - loss: 2.3071 - categorical_accuracy: 0.3091\n",
      "Epoch 00002: val_loss did not improve from 1.61100\n",
      "11/11 [==============================] - 17s 2s/step - loss: 2.3071 - categorical_accuracy: 0.3091 - val_loss: 1.8445 - val_categorical_accuracy: 0.0750 - lr: 2.0000e-04\n",
      "Epoch 3/30\n",
      "11/11 [==============================] - ETA: 0s - loss: 1.8071 - categorical_accuracy: 0.4236\n",
      "Epoch 00003: val_loss did not improve from 1.61100\n",
      "\n",
      "Epoch 00003: ReduceLROnPlateau reducing learning rate to 9.999999747378752e-05.\n",
      "11/11 [==============================] - 16s 2s/step - loss: 1.8071 - categorical_accuracy: 0.4236 - val_loss: 1.8166 - val_categorical_accuracy: 0.2500 - lr: 2.0000e-04\n",
      "Epoch 4/30\n",
      "11/11 [==============================] - ETA: 0s - loss: 1.5984 - categorical_accuracy: 0.4409\n",
      "Epoch 00004: val_loss did not improve from 1.61100\n",
      "11/11 [==============================] - 17s 2s/step - loss: 1.5984 - categorical_accuracy: 0.4409 - val_loss: 1.9037 - val_categorical_accuracy: 0.1250 - lr: 1.0000e-04\n",
      "Epoch 5/30\n",
      "11/11 [==============================] - ETA: 0s - loss: 1.6528 - categorical_accuracy: 0.4591\n",
      "Epoch 00005: val_loss did not improve from 1.61100\n",
      "\n",
      "Epoch 00005: ReduceLROnPlateau reducing learning rate to 4.999999873689376e-05.\n",
      "11/11 [==============================] - 17s 2s/step - loss: 1.6528 - categorical_accuracy: 0.4591 - val_loss: 2.1620 - val_categorical_accuracy: 0.1500 - lr: 1.0000e-04\n",
      "Epoch 6/30\n",
      "11/11 [==============================] - ETA: 0s - loss: 1.5245 - categorical_accuracy: 0.4818\n",
      "Epoch 00006: val_loss did not improve from 1.61100\n",
      "11/11 [==============================] - 16s 2s/step - loss: 1.5245 - categorical_accuracy: 0.4818 - val_loss: 2.2069 - val_categorical_accuracy: 0.1250 - lr: 5.0000e-05\n",
      "Epoch 7/30\n",
      "11/11 [==============================] - ETA: 0s - loss: 1.3720 - categorical_accuracy: 0.5123\n",
      "Epoch 00007: val_loss did not improve from 1.61100\n",
      "\n",
      "Epoch 00007: ReduceLROnPlateau reducing learning rate to 2.499999936844688e-05.\n",
      "11/11 [==============================] - 17s 2s/step - loss: 1.3720 - categorical_accuracy: 0.5123 - val_loss: 2.3596 - val_categorical_accuracy: 0.2000 - lr: 5.0000e-05\n",
      "Epoch 8/30\n",
      "11/11 [==============================] - ETA: 0s - loss: 1.3545 - categorical_accuracy: 0.5318\n",
      "Epoch 00008: val_loss did not improve from 1.61100\n",
      "11/11 [==============================] - 16s 2s/step - loss: 1.3545 - categorical_accuracy: 0.5318 - val_loss: 2.3134 - val_categorical_accuracy: 0.0750 - lr: 2.5000e-05\n",
      "Epoch 9/30\n",
      "11/11 [==============================] - ETA: 0s - loss: 1.2607 - categorical_accuracy: 0.5591\n",
      "Epoch 00009: val_loss did not improve from 1.61100\n",
      "\n",
      "Epoch 00009: ReduceLROnPlateau reducing learning rate to 1.249999968422344e-05.\n",
      "11/11 [==============================] - 16s 2s/step - loss: 1.2607 - categorical_accuracy: 0.5591 - val_loss: 2.4526 - val_categorical_accuracy: 0.2000 - lr: 2.5000e-05\n",
      "Epoch 10/30\n",
      "11/11 [==============================] - ETA: 0s - loss: 1.1582 - categorical_accuracy: 0.5961\n",
      "Epoch 00010: val_loss did not improve from 1.61100\n",
      "11/11 [==============================] - 16s 2s/step - loss: 1.1582 - categorical_accuracy: 0.5961 - val_loss: 2.7624 - val_categorical_accuracy: 0.1500 - lr: 1.2500e-05\n",
      "Epoch 11/30\n",
      "11/11 [==============================] - ETA: 0s - loss: 1.2594 - categorical_accuracy: 0.5591\n",
      "Epoch 00011: val_loss did not improve from 1.61100\n",
      "\n",
      "Epoch 00011: ReduceLROnPlateau reducing learning rate to 1e-05.\n",
      "11/11 [==============================] - 16s 2s/step - loss: 1.2594 - categorical_accuracy: 0.5591 - val_loss: 2.6521 - val_categorical_accuracy: 0.2000 - lr: 1.2500e-05\n",
      "Epoch 12/30\n",
      "11/11 [==============================] - ETA: 0s - loss: 1.2868 - categorical_accuracy: 0.5318\n",
      "Epoch 00012: val_loss did not improve from 1.61100\n",
      "11/11 [==============================] - 16s 2s/step - loss: 1.2868 - categorical_accuracy: 0.5318 - val_loss: 2.7619 - val_categorical_accuracy: 0.1250 - lr: 1.0000e-05\n",
      "Epoch 13/30\n",
      "11/11 [==============================] - ETA: 0s - loss: 1.1283 - categorical_accuracy: 0.5813\n",
      "Epoch 00013: val_loss did not improve from 1.61100\n",
      "11/11 [==============================] - 15s 1s/step - loss: 1.1283 - categorical_accuracy: 0.5813 - val_loss: 3.0900 - val_categorical_accuracy: 0.1750 - lr: 1.0000e-05\n",
      "Epoch 14/30\n",
      "11/11 [==============================] - ETA: 0s - loss: 1.3074 - categorical_accuracy: 0.5500\n",
      "Epoch 00014: val_loss did not improve from 1.61100\n",
      "11/11 [==============================] - 17s 2s/step - loss: 1.3074 - categorical_accuracy: 0.5500 - val_loss: 3.2505 - val_categorical_accuracy: 0.1250 - lr: 1.0000e-05\n",
      "Epoch 15/30\n",
      "11/11 [==============================] - ETA: 0s - loss: 1.2188 - categorical_accuracy: 0.5091\n",
      "Epoch 00015: val_loss did not improve from 1.61100\n",
      "11/11 [==============================] - 17s 2s/step - loss: 1.2188 - categorical_accuracy: 0.5091 - val_loss: 3.0587 - val_categorical_accuracy: 0.1750 - lr: 1.0000e-05\n",
      "Epoch 16/30\n",
      "11/11 [==============================] - ETA: 0s - loss: 1.0717 - categorical_accuracy: 0.6059\n",
      "Epoch 00016: val_loss did not improve from 1.61100\n",
      "11/11 [==============================] - 16s 2s/step - loss: 1.0717 - categorical_accuracy: 0.6059 - val_loss: 2.9724 - val_categorical_accuracy: 0.2000 - lr: 1.0000e-05\n",
      "Epoch 17/30\n",
      "11/11 [==============================] - ETA: 0s - loss: 1.2517 - categorical_accuracy: 0.5636\n",
      "Epoch 00017: val_loss did not improve from 1.61100\n",
      "11/11 [==============================] - 17s 2s/step - loss: 1.2517 - categorical_accuracy: 0.5636 - val_loss: 3.0880 - val_categorical_accuracy: 0.1500 - lr: 1.0000e-05\n",
      "Epoch 18/30\n",
      "11/11 [==============================] - ETA: 0s - loss: 1.2299 - categorical_accuracy: 0.5545\n",
      "Epoch 00018: val_loss did not improve from 1.61100\n",
      "11/11 [==============================] - 17s 2s/step - loss: 1.2299 - categorical_accuracy: 0.5545 - val_loss: 3.7398 - val_categorical_accuracy: 0.2000 - lr: 1.0000e-05\n",
      "Epoch 19/30\n",
      "11/11 [==============================] - ETA: 0s - loss: 1.2639 - categorical_accuracy: 0.5222\n",
      "Epoch 00019: val_loss did not improve from 1.61100\n",
      "11/11 [==============================] - 16s 2s/step - loss: 1.2639 - categorical_accuracy: 0.5222 - val_loss: 3.0801 - val_categorical_accuracy: 0.1750 - lr: 1.0000e-05\n",
      "Epoch 20/30\n",
      "11/11 [==============================] - ETA: 0s - loss: 1.1961 - categorical_accuracy: 0.5727\n",
      "Epoch 00020: val_loss did not improve from 1.61100\n",
      "11/11 [==============================] - 16s 2s/step - loss: 1.1961 - categorical_accuracy: 0.5727 - val_loss: 4.1207 - val_categorical_accuracy: 0.2000 - lr: 1.0000e-05\n",
      "Epoch 21/30\n",
      "11/11 [==============================] - ETA: 0s - loss: 1.0711 - categorical_accuracy: 0.6136\n",
      "Epoch 00021: val_loss did not improve from 1.61100\n",
      "11/11 [==============================] - 16s 2s/step - loss: 1.0711 - categorical_accuracy: 0.6136 - val_loss: 3.6498 - val_categorical_accuracy: 0.1250 - lr: 1.0000e-05\n",
      "Epoch 22/30\n",
      "11/11 [==============================] - ETA: 0s - loss: 1.1337 - categorical_accuracy: 0.5764\n",
      "Epoch 00022: val_loss did not improve from 1.61100\n",
      "11/11 [==============================] - 16s 2s/step - loss: 1.1337 - categorical_accuracy: 0.5764 - val_loss: 4.2257 - val_categorical_accuracy: 0.1000 - lr: 1.0000e-05\n",
      "Epoch 23/30\n",
      "11/11 [==============================] - ETA: 0s - loss: 1.1728 - categorical_accuracy: 0.5727\n",
      "Epoch 00023: val_loss did not improve from 1.61100\n",
      "11/11 [==============================] - 17s 2s/step - loss: 1.1728 - categorical_accuracy: 0.5727 - val_loss: 3.6137 - val_categorical_accuracy: 0.0500 - lr: 1.0000e-05\n",
      "Epoch 24/30\n",
      "11/11 [==============================] - ETA: 0s - loss: 1.1058 - categorical_accuracy: 0.6227\n",
      "Epoch 00024: val_loss did not improve from 1.61100\n",
      "11/11 [==============================] - 16s 2s/step - loss: 1.1058 - categorical_accuracy: 0.6227 - val_loss: 3.5430 - val_categorical_accuracy: 0.2750 - lr: 1.0000e-05\n",
      "Epoch 25/30\n",
      "11/11 [==============================] - ETA: 0s - loss: 1.2486 - categorical_accuracy: 0.5567\n",
      "Epoch 00025: val_loss did not improve from 1.61100\n",
      "11/11 [==============================] - 16s 2s/step - loss: 1.2486 - categorical_accuracy: 0.5567 - val_loss: 4.4971 - val_categorical_accuracy: 0.1250 - lr: 1.0000e-05\n",
      "Epoch 26/30\n",
      "11/11 [==============================] - ETA: 0s - loss: 1.0475 - categorical_accuracy: 0.6182\n",
      "Epoch 00026: val_loss did not improve from 1.61100\n",
      "11/11 [==============================] - 16s 2s/step - loss: 1.0475 - categorical_accuracy: 0.6182 - val_loss: 3.6952 - val_categorical_accuracy: 0.2500 - lr: 1.0000e-05\n",
      "Epoch 27/30\n",
      "11/11 [==============================] - ETA: 0s - loss: 1.2566 - categorical_accuracy: 0.5636\n",
      "Epoch 00027: val_loss did not improve from 1.61100\n",
      "11/11 [==============================] - 17s 2s/step - loss: 1.2566 - categorical_accuracy: 0.5636 - val_loss: 4.2282 - val_categorical_accuracy: 0.1750 - lr: 1.0000e-05\n",
      "Epoch 28/30\n",
      "11/11 [==============================] - ETA: 0s - loss: 1.0871 - categorical_accuracy: 0.6108\n",
      "Epoch 00028: val_loss did not improve from 1.61100\n",
      "11/11 [==============================] - 16s 2s/step - loss: 1.0871 - categorical_accuracy: 0.6108 - val_loss: 4.3141 - val_categorical_accuracy: 0.2500 - lr: 1.0000e-05\n",
      "Epoch 29/30\n",
      "11/11 [==============================] - ETA: 0s - loss: 1.0140 - categorical_accuracy: 0.6273\n",
      "Epoch 00029: val_loss did not improve from 1.61100\n",
      "11/11 [==============================] - 18s 2s/step - loss: 1.0140 - categorical_accuracy: 0.6273 - val_loss: 3.3661 - val_categorical_accuracy: 0.3000 - lr: 1.0000e-05\n",
      "Epoch 30/30\n",
      "11/11 [==============================] - ETA: 0s - loss: 0.9210 - categorical_accuracy: 0.6591\n",
      "Epoch 00030: val_loss did not improve from 1.61100\n",
      "11/11 [==============================] - 18s 2s/step - loss: 0.9210 - categorical_accuracy: 0.6591 - val_loss: 4.6526 - val_categorical_accuracy: 0.2000 - lr: 1.0000e-05\n"
     ]
    }
   ],
   "source": [
    "model10 = model.fit(train_generator, steps_per_epoch=steps_per_epoch, epochs=num_epochs, verbose=1, \n",
    "                    callbacks=callbacks_list, validation_data=val_generator, \n",
    "                    validation_steps=validation_steps, class_weight=None, workers=1, initial_epoch=0)"
   ]
  },
  {
   "cell_type": "code",
   "execution_count": 61,
   "metadata": {},
   "outputs": [
    {
     "name": "stdout",
     "output_type": "stream",
     "text": [
      "dict_keys(['loss', 'categorical_accuracy', 'val_loss', 'val_categorical_accuracy', 'lr'])\n"
     ]
    },
    {
     "data": {
      "image/png": "[encoded data removed]",
      "text/plain": [
       "<Figure size 432x288 with 1 Axes>"
      ]
     },
     "metadata": {
      "needs_background": "light"
     },
     "output_type": "display_data"
    },
    {
     "data": {
      "image/png": "[encoded data removed]",
      "text/plain": [
       "<Figure size 432x288 with 1 Axes>"
      ]
     },
     "metadata": {
      "needs_background": "light"
     },
     "output_type": "display_data"
    }
   ],
   "source": [
    "plot_loss_accuracy(model10)"
   ]
  },
  {
   "cell_type": "code",
   "execution_count": 73,
   "metadata": {},
   "outputs": [],
   "source": [
    "#increasing dropout after dense layer\n",
    "model = Sequential()\n",
    "\n",
    "model.add(Conv3D(16, kernel_size=(2, 2, 2), input_shape=(18, 120, 120, 3), padding='same'))\n",
    "model.add(Activation('relu'))\n",
    "model.add(BatchNormalization())\n",
    "model.add(MaxPooling3D(pool_size=(2, 2, 2)))\n",
    "\n",
    "model.add(Conv3D(32, kernel_size=(2, 2, 2), padding='same'))\n",
    "model.add(Activation('relu'))\n",
    "model.add(BatchNormalization())\n",
    "model.add(MaxPooling3D(pool_size=(2, 2, 2)))\n",
    "\n",
    "model.add(Conv3D(64, kernel_size=(2, 2, 2), padding='same'))\n",
    "model.add(Activation('relu'))\n",
    "model.add(BatchNormalization())\n",
    "model.add(MaxPooling3D(pool_size=(2, 2, 2)))\n",
    "\n",
    "model.add(Conv3D(128, kernel_size=(2, 2, 2), padding='same'))\n",
    "model.add(Activation('relu'))\n",
    "model.add(BatchNormalization())\n",
    "model.add(MaxPooling3D(pool_size=(2, 2, 2)))\n",
    "\n",
    "model.add(Flatten())\n",
    "model.add(Dense(256))\n",
    "model.add(Activation('relu'))\n",
    "model.add(BatchNormalization())\n",
    "model.add(Dropout(0.25))\n",
    "\n",
    "model.add(Dense(128))\n",
    "model.add(Activation('relu'))\n",
    "model.add(BatchNormalization())\n",
    "model.add(Dropout(0.25))\n",
    "\n",
    "model.add(Dense(5))\n",
    "model.add(Activation('softmax'))"
   ]
  },
  {
   "cell_type": "code",
   "execution_count": 74,
   "metadata": {},
   "outputs": [
    {
     "name": "stderr",
     "output_type": "stream",
     "text": [
      "/usr/local/lib/python3.8/dist-packages/keras/optimizer_v2/adam.py:105: UserWarning: The `lr` argument is deprecated, use `learning_rate` instead.\n",
      "  super(Adam, self).__init__(name, **kwargs)\n"
     ]
    }
   ],
   "source": [
    "optimiser = tf.optimizers.Adam(lr=0.0002)\n",
    "model.compile(optimizer=optimiser, loss='categorical_crossentropy', metrics=['categorical_accuracy'])"
   ]
  },
  {
   "cell_type": "code",
   "execution_count": 75,
   "metadata": {},
   "outputs": [
    {
     "name": "stdout",
     "output_type": "stream",
     "text": [
      "WARNING:tensorflow:`period` argument is deprecated. Please use `save_freq` to specify the frequency in number of batches seen.\n"
     ]
    }
   ],
   "source": [
    "model_name = 'model_Conv3D_2Filter_3' + '_' + str(curr_dt_time).replace(' ','').replace(':','_') + '/'\n",
    "    \n",
    "if not os.path.exists(model_name):\n",
    "    os.mkdir(model_name)\n",
    "        \n",
    "filepath = model_name +'GesRegV1' + 'model-{epoch:05d}-{loss:.5f}-{categorical_accuracy:.5f}-{val_loss:.5f}-{val_categorical_accuracy:.5f}.h5'\n",
    "\n",
    "checkpoint = ModelCheckpoint(filepath, monitor='val_loss', verbose=1, save_best_only=True, save_weights_only=True, mode='auto', period=1)\n",
    "\n",
    "LR = ReduceLROnPlateau(monitor='val_loss', factor=.5, patience=2, verbose=1, mode='min', min_delta=0.0001, cooldown=0, min_lr=0.00001) # write the REducelronplateau code here\n",
    "callbacks_list = [checkpoint, LR]"
   ]
  },
  {
   "cell_type": "code",
   "execution_count": 79,
   "metadata": {},
   "outputs": [
    {
     "name": "stdout",
     "output_type": "stream",
     "text": [
      "# training sequences = 663\n",
      "# validation sequences = 100\n",
      "# epochs = 30\n",
      "#batch size 32\n",
      "steps_per_epoch 21\n",
      "validation_steps 4\n",
      "30\n"
     ]
    }
   ],
   "source": [
    "#Defining batch size and number of epochs, getting steps per epochs for training and validation\n",
    "batch_size = 32\n",
    "number_epochs = 30\n",
    "d = sequence(number_epochs,batch_size)\n",
    "steps_per_epoch = d[0]\n",
    "validation_steps = d[1]\n",
    "num_epochs = d[2]\n",
    "\n",
    "print('steps_per_epoch', steps_per_epoch)\n",
    "print('validation_steps', validation_steps)\n",
    "print(num_epochs)"
   ]
  },
  {
   "cell_type": "code",
   "execution_count": 83,
   "metadata": {},
   "outputs": [
    {
     "name": "stdout",
     "output_type": "stream",
     "text": [
      "Source path =  datasets/Project_data/train ; batch size = 32\n",
      "Epoch 1/30\n",
      "21/21 [==============================] - ETA: 0s - loss: 0.8499 - categorical_accuracy: 0.6938Source path =  datasets/Project_data/val ; batch size = 32\n",
      "\n",
      "Epoch 00001: val_loss did not improve from inf\n",
      "21/21 [==============================] - 50s 2s/step - loss: 0.8499 - categorical_accuracy: 0.6938 - val_loss: nan - val_categorical_accuracy: 0.1800 - lr: 2.0000e-04\n",
      "Epoch 2/30\n",
      "21/21 [==============================] - ETA: 0s - loss: 0.5326 - categorical_accuracy: 0.8024\n",
      "Epoch 00002: val_loss did not improve from inf\n",
      "\n",
      "Epoch 00002: ReduceLROnPlateau reducing learning rate to 9.999999747378752e-05.\n",
      "21/21 [==============================] - 49s 2s/step - loss: 0.5326 - categorical_accuracy: 0.8024 - val_loss: nan - val_categorical_accuracy: 0.2200 - lr: 2.0000e-04\n",
      "Epoch 3/30\n",
      "21/21 [==============================] - ETA: 0s - loss: 0.3228 - categorical_accuracy: 0.8929\n",
      "Epoch 00003: val_loss did not improve from inf\n",
      "21/21 [==============================] - 50s 3s/step - loss: 0.3228 - categorical_accuracy: 0.8929 - val_loss: nan - val_categorical_accuracy: 0.2300 - lr: 1.0000e-04\n",
      "Epoch 4/30\n",
      "21/21 [==============================] - ETA: 0s - loss: 0.2900 - categorical_accuracy: 0.9125\n",
      "Epoch 00004: val_loss did not improve from inf\n",
      "\n",
      "Epoch 00004: ReduceLROnPlateau reducing learning rate to 4.999999873689376e-05.\n",
      "21/21 [==============================] - 48s 2s/step - loss: 0.2900 - categorical_accuracy: 0.9125 - val_loss: nan - val_categorical_accuracy: 0.1700 - lr: 1.0000e-04\n",
      "Epoch 5/30\n",
      "21/21 [==============================] - ETA: 0s - loss: 0.2031 - categorical_accuracy: 0.9487\n",
      "Epoch 00005: val_loss did not improve from inf\n",
      "21/21 [==============================] - 50s 2s/step - loss: 0.2031 - categorical_accuracy: 0.9487 - val_loss: nan - val_categorical_accuracy: 0.1800 - lr: 5.0000e-05\n",
      "Epoch 6/30\n",
      "21/21 [==============================] - ETA: 0s - loss: 0.2057 - categorical_accuracy: 0.9472\n",
      "Epoch 00006: val_loss did not improve from inf\n",
      "\n",
      "Epoch 00006: ReduceLROnPlateau reducing learning rate to 2.499999936844688e-05.\n",
      "21/21 [==============================] - 50s 3s/step - loss: 0.2057 - categorical_accuracy: 0.9472 - val_loss: nan - val_categorical_accuracy: 0.1500 - lr: 5.0000e-05\n",
      "Epoch 7/30\n",
      "21/21 [==============================] - ETA: 0s - loss: 0.1864 - categorical_accuracy: 0.9517\n",
      "Epoch 00007: val_loss did not improve from inf\n",
      "21/21 [==============================] - 50s 2s/step - loss: 0.1864 - categorical_accuracy: 0.9517 - val_loss: nan - val_categorical_accuracy: 0.1700 - lr: 2.5000e-05\n",
      "Epoch 8/30\n",
      "21/21 [==============================] - ETA: 0s - loss: 0.1538 - categorical_accuracy: 0.9668\n",
      "Epoch 00008: val_loss did not improve from inf\n",
      "\n",
      "Epoch 00008: ReduceLROnPlateau reducing learning rate to 1.249999968422344e-05.\n",
      "21/21 [==============================] - 48s 2s/step - loss: 0.1538 - categorical_accuracy: 0.9668 - val_loss: nan - val_categorical_accuracy: 0.1700 - lr: 2.5000e-05\n",
      "Epoch 9/30\n",
      "21/21 [==============================] - ETA: 0s - loss: 0.1342 - categorical_accuracy: 0.9713\n",
      "Epoch 00009: val_loss did not improve from inf\n",
      "21/21 [==============================] - 50s 2s/step - loss: 0.1342 - categorical_accuracy: 0.9713 - val_loss: nan - val_categorical_accuracy: 0.1800 - lr: 1.2500e-05\n",
      "Epoch 10/30\n",
      "21/21 [==============================] - ETA: 0s - loss: 0.1388 - categorical_accuracy: 0.9744\n",
      "Epoch 00010: val_loss did not improve from inf\n",
      "\n",
      "Epoch 00010: ReduceLROnPlateau reducing learning rate to 1e-05.\n",
      "21/21 [==============================] - 50s 2s/step - loss: 0.1388 - categorical_accuracy: 0.9744 - val_loss: nan - val_categorical_accuracy: 0.1900 - lr: 1.2500e-05\n",
      "Epoch 11/30\n",
      "21/21 [==============================] - ETA: 0s - loss: 0.1362 - categorical_accuracy: 0.9789\n",
      "Epoch 00011: val_loss did not improve from inf\n",
      "21/21 [==============================] - 50s 2s/step - loss: 0.1362 - categorical_accuracy: 0.9789 - val_loss: nan - val_categorical_accuracy: 0.1300 - lr: 1.0000e-05\n",
      "Epoch 12/30\n",
      "21/21 [==============================] - ETA: 0s - loss: 0.1362 - categorical_accuracy: 0.9744\n",
      "Epoch 00012: val_loss did not improve from inf\n",
      "21/21 [==============================] - 48s 2s/step - loss: 0.1362 - categorical_accuracy: 0.9744 - val_loss: nan - val_categorical_accuracy: 0.1800 - lr: 1.0000e-05\n",
      "Epoch 13/30\n",
      "21/21 [==============================] - ETA: 0s - loss: 0.1130 - categorical_accuracy: 0.9804\n",
      "Epoch 00013: val_loss did not improve from inf\n",
      "21/21 [==============================] - 50s 2s/step - loss: 0.1130 - categorical_accuracy: 0.9804 - val_loss: nan - val_categorical_accuracy: 0.1800 - lr: 1.0000e-05\n",
      "Epoch 14/30\n",
      "21/21 [==============================] - ETA: 0s - loss: 0.1370 - categorical_accuracy: 0.9729\n",
      "Epoch 00014: val_loss did not improve from inf\n",
      "21/21 [==============================] - 47s 2s/step - loss: 0.1370 - categorical_accuracy: 0.9729 - val_loss: nan - val_categorical_accuracy: 0.1800 - lr: 1.0000e-05\n",
      "Epoch 15/30\n",
      "21/21 [==============================] - ETA: 0s - loss: 0.1273 - categorical_accuracy: 0.9759\n",
      "Epoch 00015: val_loss did not improve from inf\n",
      "21/21 [==============================] - 46s 2s/step - loss: 0.1273 - categorical_accuracy: 0.9759 - val_loss: nan - val_categorical_accuracy: 0.2200 - lr: 1.0000e-05\n",
      "Epoch 16/30\n",
      "21/21 [==============================] - ETA: 0s - loss: 0.1188 - categorical_accuracy: 0.9744\n",
      "Epoch 00016: val_loss did not improve from inf\n",
      "21/21 [==============================] - 45s 2s/step - loss: 0.1188 - categorical_accuracy: 0.9744 - val_loss: nan - val_categorical_accuracy: 0.1800 - lr: 1.0000e-05\n",
      "Epoch 17/30\n",
      "21/21 [==============================] - ETA: 0s - loss: 0.1239 - categorical_accuracy: 0.9729\n",
      "Epoch 00017: val_loss did not improve from inf\n",
      "21/21 [==============================] - 47s 2s/step - loss: 0.1239 - categorical_accuracy: 0.9729 - val_loss: nan - val_categorical_accuracy: 0.1800 - lr: 1.0000e-05\n",
      "Epoch 18/30\n",
      "21/21 [==============================] - ETA: 0s - loss: 0.0962 - categorical_accuracy: 0.9894\n",
      "Epoch 00018: val_loss did not improve from inf\n",
      "21/21 [==============================] - 47s 2s/step - loss: 0.0962 - categorical_accuracy: 0.9894 - val_loss: nan - val_categorical_accuracy: 0.1700 - lr: 1.0000e-05\n",
      "Epoch 19/30\n",
      "21/21 [==============================] - ETA: 0s - loss: 0.1132 - categorical_accuracy: 0.9789\n",
      "Epoch 00019: val_loss did not improve from inf\n",
      "21/21 [==============================] - 48s 2s/step - loss: 0.1132 - categorical_accuracy: 0.9789 - val_loss: nan - val_categorical_accuracy: 0.1800 - lr: 1.0000e-05\n",
      "Epoch 20/30\n",
      "21/21 [==============================] - ETA: 0s - loss: 0.1095 - categorical_accuracy: 0.9834\n",
      "Epoch 00020: val_loss did not improve from inf\n",
      "21/21 [==============================] - 48s 2s/step - loss: 0.1095 - categorical_accuracy: 0.9834 - val_loss: nan - val_categorical_accuracy: 0.1700 - lr: 1.0000e-05\n",
      "Epoch 21/30\n",
      "21/21 [==============================] - ETA: 0s - loss: 0.0922 - categorical_accuracy: 0.9834\n",
      "Epoch 00021: val_loss did not improve from inf\n",
      "21/21 [==============================] - 48s 2s/step - loss: 0.0922 - categorical_accuracy: 0.9834 - val_loss: nan - val_categorical_accuracy: 0.1800 - lr: 1.0000e-05\n",
      "Epoch 22/30\n",
      "21/21 [==============================] - ETA: 0s - loss: 0.0885 - categorical_accuracy: 0.9879\n",
      "Epoch 00022: val_loss did not improve from inf\n",
      "21/21 [==============================] - 46s 2s/step - loss: 0.0885 - categorical_accuracy: 0.9879 - val_loss: nan - val_categorical_accuracy: 0.1700 - lr: 1.0000e-05\n",
      "Epoch 23/30\n",
      "21/21 [==============================] - ETA: 0s - loss: 0.1058 - categorical_accuracy: 0.9759\n",
      "Epoch 00023: val_loss did not improve from inf\n",
      "21/21 [==============================] - 47s 2s/step - loss: 0.1058 - categorical_accuracy: 0.9759 - val_loss: nan - val_categorical_accuracy: 0.2100 - lr: 1.0000e-05\n",
      "Epoch 24/30\n",
      "21/21 [==============================] - ETA: 0s - loss: 0.0999 - categorical_accuracy: 0.9819\n",
      "Epoch 00024: val_loss did not improve from inf\n",
      "21/21 [==============================] - 45s 2s/step - loss: 0.0999 - categorical_accuracy: 0.9819 - val_loss: nan - val_categorical_accuracy: 0.1800 - lr: 1.0000e-05\n",
      "Epoch 25/30\n",
      "21/21 [==============================] - ETA: 0s - loss: 0.0818 - categorical_accuracy: 0.9925\n",
      "Epoch 00025: val_loss did not improve from inf\n",
      "21/21 [==============================] - 47s 2s/step - loss: 0.0818 - categorical_accuracy: 0.9925 - val_loss: nan - val_categorical_accuracy: 0.1800 - lr: 1.0000e-05\n",
      "Epoch 26/30\n",
      "21/21 [==============================] - ETA: 0s - loss: 0.0934 - categorical_accuracy: 0.9804\n",
      "Epoch 00026: val_loss did not improve from inf\n",
      "21/21 [==============================] - 47s 2s/step - loss: 0.0934 - categorical_accuracy: 0.9804 - val_loss: nan - val_categorical_accuracy: 0.1900 - lr: 1.0000e-05\n",
      "Epoch 27/30\n",
      "21/21 [==============================] - ETA: 0s - loss: 0.0986 - categorical_accuracy: 0.9819\n",
      "Epoch 00027: val_loss did not improve from inf\n",
      "21/21 [==============================] - 48s 2s/step - loss: 0.0986 - categorical_accuracy: 0.9819 - val_loss: nan - val_categorical_accuracy: 0.1800 - lr: 1.0000e-05\n",
      "Epoch 28/30\n",
      "21/21 [==============================] - ETA: 0s - loss: 0.0771 - categorical_accuracy: 0.9910\n",
      "Epoch 00028: val_loss did not improve from inf\n",
      "21/21 [==============================] - 45s 2s/step - loss: 0.0771 - categorical_accuracy: 0.9910 - val_loss: nan - val_categorical_accuracy: 0.1700 - lr: 1.0000e-05\n",
      "Epoch 29/30\n",
      "21/21 [==============================] - ETA: 0s - loss: 0.0819 - categorical_accuracy: 0.9894\n",
      "Epoch 00029: val_loss did not improve from inf\n",
      "21/21 [==============================] - 46s 2s/step - loss: 0.0819 - categorical_accuracy: 0.9894 - val_loss: nan - val_categorical_accuracy: 0.1800 - lr: 1.0000e-05\n",
      "Epoch 30/30\n",
      "21/21 [==============================] - ETA: 0s - loss: 0.0834 - categorical_accuracy: 0.9834\n",
      "Epoch 00030: val_loss did not improve from inf\n",
      "21/21 [==============================] - 47s 2s/step - loss: 0.0834 - categorical_accuracy: 0.9834 - val_loss: nan - val_categorical_accuracy: 0.2200 - lr: 1.0000e-05\n"
     ]
    }
   ],
   "source": [
    "model11 = model.fit(train_generator, steps_per_epoch=steps_per_epoch, epochs=num_epochs, verbose=1, \n",
    "                    callbacks=callbacks_list, validation_data=val_generator, \n",
    "                    validation_steps=validation_steps, class_weight=None, workers=1, initial_epoch=0)"
   ]
  },
  {
   "cell_type": "code",
   "execution_count": 84,
   "metadata": {},
   "outputs": [
    {
     "name": "stdout",
     "output_type": "stream",
     "text": [
      "dict_keys(['loss', 'categorical_accuracy', 'val_loss', 'val_categorical_accuracy', 'lr'])\n"
     ]
    },
    {
     "data": {
      "image/png": "[encoded data removed]",
      "text/plain": [
       "<Figure size 432x288 with 1 Axes>"
      ]
     },
     "metadata": {
      "needs_background": "light"
     },
     "output_type": "display_data"
    },
    {
     "data": {
      "image/png": "[encoded data removed]",
      "text/plain": [
       "<Figure size 432x288 with 1 Axes>"
      ]
     },
     "metadata": {
      "needs_background": "light"
     },
     "output_type": "display_data"
    }
   ],
   "source": [
    "plot_loss_accuracy(model11)"
   ]
  },
  {
   "cell_type": "code",
   "execution_count": 31,
   "metadata": {},
   "outputs": [],
   "source": [
    "### Reducing model Complexity, decreasing GRU units and increasing initial learning rate to 0.001"
   ]
  },
  {
   "cell_type": "code",
   "execution_count": 9,
   "metadata": {},
   "outputs": [],
   "source": [
    "from keras.models import Sequential, Model\n",
    "from keras.layers import Dense, Dropout, GRU, LSTM, Flatten, TimeDistributed, Flatten, BatchNormalization, Activation\n",
    "from keras.layers.convolutional import Conv3D, MaxPooling3D, Conv2D, MaxPooling2D\n",
    "from keras.callbacks import ModelCheckpoint, ReduceLROnPlateau\n",
    "from keras.regularizers import l2\n",
    "from keras import optimizers"
   ]
  },
  {
   "cell_type": "code",
   "execution_count": 16,
   "metadata": {},
   "outputs": [],
   "source": [
    "from keras.applications import mobilenet\n",
    "def mobilenet_RNN(fine_tune=False, gru=False, lstm_gru_cells=128, dense_nodes=128, dropout=0.5, num_images=18, height=120, width=120):\n",
    "\n",
    "    mobilenet_transfer = mobilenet.MobileNet(weights='imagenet', include_top=False)\n",
    "    print(\"Number of layers in the pretrained mobilenet model: \", len(mobilenet_transfer.layers))\n",
    "\n",
    "    if (fine_tune):\n",
    "        # Fine-tune from this layer onwards\n",
    "        fine_tune_at = 50\n",
    "        # Freeze all the layers before the `fine_tune_at` layer\n",
    "        for layer in mobilenet_transfer.layers[:fine_tune_at]:\n",
    "            layer.trainable = False\n",
    "\n",
    "    model = Sequential()\n",
    "    model.add(TimeDistributed(mobilenet_transfer,input_shape=(num_images, height, width, 3)))\n",
    "    model.add(TimeDistributed(BatchNormalization()))\n",
    "    model.add(TimeDistributed(MaxPooling2D((2, 2))))\n",
    "    model.add(TimeDistributed(Flatten()))\n",
    "    if (gru):\n",
    "        model.add(GRU(lstm_gru_cells))\n",
    "    else:\n",
    "        model.add(LSTM(lstm_gru_cells))\n",
    "    model.add(Dropout(dropout))\n",
    "    model.add(Dense(dense_nodes, activation='relu'))\n",
    "    model.add(Dropout(dropout))\n",
    "    model.add(Dense(5, activation='softmax'))\n",
    "\n",
    "    opt = tf.optimizers.Adam(lr=0.001) #write your optimizer\n",
    "    model.compile(opt, loss='categorical_crossentropy', metrics=['categorical_accuracy'])    \n",
    "    return model\n",
    "\n"
   ]
  },
  {
   "cell_type": "code",
   "execution_count": null,
   "metadata": {},
   "outputs": [],
   "source": [
    "\n"
   ]
  },
  {
   "cell_type": "code",
   "execution_count": 24,
   "metadata": {},
   "outputs": [
    {
     "name": "stdout",
     "output_type": "stream",
     "text": [
      "# training sequences = 663\n",
      "# validation sequences = 100\n",
      "# epochs = 25\n",
      "#batch size 32\n",
      "steps_per_epoch 21\n",
      "validation_steps 4\n",
      "25\n"
     ]
    }
   ],
   "source": [
    "#Defining batch size and number of epochs, getting steps per epochs for training and validation\n",
    "train_path = 'datasets/Project_data/train'\n",
    "val_path = 'datasets/Project_data/val'\n",
    "batch_size = 32\n",
    "number_epochs = 25\n",
    "d = sequence(number_epochs,batch_size)\n",
    "steps_per_epoch = d[0]\n",
    "validation_steps = d[1]\n",
    "num_epochs = d[2]\n",
    "num_frames = 18\n",
    "\n",
    "print('steps_per_epoch', steps_per_epoch)\n",
    "print('validation_steps', validation_steps)\n",
    "print(num_epochs)"
   ]
  },
  {
   "cell_type": "code",
   "execution_count": 25,
   "metadata": {},
   "outputs": [],
   "source": [
    "train_generator = generator2(train_path, train_doc, batch_size)\n",
    "val_generator = generator2(val_path, val_doc, batch_size)"
   ]
  },
  {
   "cell_type": "code",
   "execution_count": 26,
   "metadata": {},
   "outputs": [
    {
     "name": "stdout",
     "output_type": "stream",
     "text": [
      "WARNING:tensorflow:`input_shape` is undefined or non-square, or `rows` is not in [128, 160, 192, 224]. Weights for input shape (224, 224) will be loaded as the default.\n",
      "Number of layers in the pretrained mobilenet model:  86\n",
      "Model: \"sequential_1\"\n",
      "_________________________________________________________________\n",
      " Layer (type)                Output Shape              Param #   \n",
      "=================================================================\n",
      " time_distributed_4 (TimeDis  (None, 18, 3, 3, 1024)   3228864   \n",
      " tributed)                                                       \n",
      "                                                                 \n",
      " time_distributed_5 (TimeDis  (None, 18, 3, 3, 1024)   4096      \n",
      " tributed)                                                       \n",
      "                                                                 \n",
      " time_distributed_6 (TimeDis  (None, 18, 1, 1, 1024)   0         \n",
      " tributed)                                                       \n",
      "                                                                 \n",
      " time_distributed_7 (TimeDis  (None, 18, 1024)         0         \n",
      " tributed)                                                       \n",
      "                                                                 \n",
      " gru_1 (GRU)                 (None, 128)               443136    \n",
      "                                                                 \n",
      " dropout_2 (Dropout)         (None, 128)               0         \n",
      "                                                                 \n",
      " dense_2 (Dense)             (None, 128)               16512     \n",
      "                                                                 \n",
      " dropout_3 (Dropout)         (None, 128)               0         \n",
      "                                                                 \n",
      " dense_3 (Dense)             (None, 5)                 645       \n",
      "                                                                 \n",
      "=================================================================\n",
      "Total params: 3,693,253\n",
      "Trainable params: 3,669,317\n",
      "Non-trainable params: 23,936\n",
      "_________________________________________________________________\n",
      "None\n"
     ]
    },
    {
     "name": "stderr",
     "output_type": "stream",
     "text": [
      "/usr/local/lib/python3.8/dist-packages/keras/optimizer_v2/adam.py:105: UserWarning: The `lr` argument is deprecated, use `learning_rate` instead.\n",
      "  super(Adam, self).__init__(name, **kwargs)\n"
     ]
    }
   ],
   "source": [
    "model12 = mobilenet_RNN(gru=True, num_images=num_frames)\n",
    "print(model12.summary())"
   ]
  },
  {
   "cell_type": "code",
   "execution_count": 26,
   "metadata": {},
   "outputs": [],
   "source": []
  },
  {
   "cell_type": "code",
   "execution_count": 27,
   "metadata": {},
   "outputs": [
    {
     "name": "stdout",
     "output_type": "stream",
     "text": [
      "WARNING:tensorflow:`period` argument is deprecated. Please use `save_freq` to specify the frequency in number of batches seen.\n"
     ]
    }
   ],
   "source": [
    "curr_dt_time = datetime.datetime.now()\n",
    "model_name = 'model_mobilenet_GRU' + '_' + str(curr_dt_time).replace(' ','').replace(':','_') + '/'\n",
    "    \n",
    "if not os.path.exists(model_name):\n",
    "    os.mkdir(model_name)\n",
    "        \n",
    "filepath = model_name +'GesRegV1' + 'model-{epoch:05d}-{loss:.5f}-{categorical_accuracy:.5f}-{val_loss:.5f}-{val_categorical_accuracy:.5f}.h5'\n",
    "\n",
    "checkpoint = ModelCheckpoint(filepath, monitor='val_loss', verbose=1, save_best_only=True, save_weights_only=True, mode='auto', period=1)\n",
    "\n",
    "LR = ReduceLROnPlateau(monitor='val_loss', factor=.5, patience=2, verbose=1, mode='min', min_delta=0.0001, cooldown=0, min_lr=0.00001) # write the REducelronplateau code here\n",
    "callbacks_list = [checkpoint, LR]"
   ]
  },
  {
   "cell_type": "code",
   "execution_count": 28,
   "metadata": {},
   "outputs": [
    {
     "name": "stdout",
     "output_type": "stream",
     "text": [
      "Source path =  datasets/Project_data/train ; batch size = 32\n",
      "Epoch 1/25\n",
      "21/21 [==============================] - ETA: 0s - loss: 1.6063 - categorical_accuracy: 0.3439Source path =  datasets/Project_data/val ; batch size = 32\n",
      "\n",
      "Epoch 00001: val_loss improved from inf to 1.89694, saving model to model_mobilenet_GRU_2023-10-0213_18_24.304293/GesRegV1model-00001-1.60634-0.34389-1.89694-0.21000.h5\n",
      "21/21 [==============================] - 55s 2s/step - loss: 1.6063 - categorical_accuracy: 0.3439 - val_loss: 1.8969 - val_categorical_accuracy: 0.2100 - lr: 0.0010\n",
      "Epoch 2/25\n",
      "21/21 [==============================] - ETA: 0s - loss: 0.8258 - categorical_accuracy: 0.6682\n",
      "Epoch 00002: val_loss did not improve from 1.89694\n",
      "21/21 [==============================] - 50s 2s/step - loss: 0.8258 - categorical_accuracy: 0.6682 - val_loss: 2.0328 - val_categorical_accuracy: 0.2100 - lr: 0.0010\n",
      "Epoch 3/25\n",
      "21/21 [==============================] - ETA: 0s - loss: 0.3906 - categorical_accuracy: 0.8643\n",
      "Epoch 00003: val_loss improved from 1.89694 to 1.85691, saving model to model_mobilenet_GRU_2023-10-0213_18_24.304293/GesRegV1model-00003-0.39058-0.86425-1.85691-0.40000.h5\n",
      "21/21 [==============================] - 49s 2s/step - loss: 0.3906 - categorical_accuracy: 0.8643 - val_loss: 1.8569 - val_categorical_accuracy: 0.4000 - lr: 0.0010\n",
      "Epoch 4/25\n",
      "21/21 [==============================] - ETA: 0s - loss: 0.1929 - categorical_accuracy: 0.9397\n",
      "Epoch 00004: val_loss improved from 1.85691 to 1.43134, saving model to model_mobilenet_GRU_2023-10-0213_18_24.304293/GesRegV1model-00004-0.19288-0.93967-1.43134-0.52000.h5\n",
      "21/21 [==============================] - 48s 2s/step - loss: 0.1929 - categorical_accuracy: 0.9397 - val_loss: 1.4313 - val_categorical_accuracy: 0.5200 - lr: 0.0010\n",
      "Epoch 5/25\n",
      "21/21 [==============================] - ETA: 0s - loss: 0.1061 - categorical_accuracy: 0.9698\n",
      "Epoch 00005: val_loss improved from 1.43134 to 1.19809, saving model to model_mobilenet_GRU_2023-10-0213_18_24.304293/GesRegV1model-00005-0.10607-0.96983-1.19809-0.62000.h5\n",
      "21/21 [==============================] - 49s 2s/step - loss: 0.1061 - categorical_accuracy: 0.9698 - val_loss: 1.1981 - val_categorical_accuracy: 0.6200 - lr: 0.0010\n",
      "Epoch 6/25\n",
      "21/21 [==============================] - ETA: 0s - loss: 0.0573 - categorical_accuracy: 0.9879\n",
      "Epoch 00006: val_loss improved from 1.19809 to 0.97082, saving model to model_mobilenet_GRU_2023-10-0213_18_24.304293/GesRegV1model-00006-0.05734-0.98793-0.97082-0.74000.h5\n",
      "21/21 [==============================] - 50s 2s/step - loss: 0.0573 - categorical_accuracy: 0.9879 - val_loss: 0.9708 - val_categorical_accuracy: 0.7400 - lr: 0.0010\n",
      "Epoch 7/25\n",
      "21/21 [==============================] - ETA: 0s - loss: 0.0492 - categorical_accuracy: 0.9894\n",
      "Epoch 00007: val_loss improved from 0.97082 to 0.62088, saving model to model_mobilenet_GRU_2023-10-0213_18_24.304293/GesRegV1model-00007-0.04919-0.98944-0.62088-0.84000.h5\n",
      "21/21 [==============================] - 52s 3s/step - loss: 0.0492 - categorical_accuracy: 0.9894 - val_loss: 0.6209 - val_categorical_accuracy: 0.8400 - lr: 0.0010\n",
      "Epoch 8/25\n",
      "21/21 [==============================] - ETA: 0s - loss: 0.0320 - categorical_accuracy: 0.9940\n",
      "Epoch 00008: val_loss did not improve from 0.62088\n",
      "21/21 [==============================] - 48s 2s/step - loss: 0.0320 - categorical_accuracy: 0.9940 - val_loss: 0.6295 - val_categorical_accuracy: 0.8700 - lr: 0.0010\n",
      "Epoch 9/25\n",
      "21/21 [==============================] - ETA: 0s - loss: 0.0259 - categorical_accuracy: 0.9925\n",
      "Epoch 00009: val_loss improved from 0.62088 to 0.59926, saving model to model_mobilenet_GRU_2023-10-0213_18_24.304293/GesRegV1model-00009-0.02586-0.99246-0.59926-0.84000.h5\n",
      "21/21 [==============================] - 50s 2s/step - loss: 0.0259 - categorical_accuracy: 0.9925 - val_loss: 0.5993 - val_categorical_accuracy: 0.8400 - lr: 0.0010\n",
      "Epoch 10/25\n",
      "21/21 [==============================] - ETA: 0s - loss: 0.0191 - categorical_accuracy: 0.9985\n",
      "Epoch 00010: val_loss improved from 0.59926 to 0.51325, saving model to model_mobilenet_GRU_2023-10-0213_18_24.304293/GesRegV1model-00010-0.01909-0.99849-0.51325-0.86000.h5\n",
      "21/21 [==============================] - 50s 2s/step - loss: 0.0191 - categorical_accuracy: 0.9985 - val_loss: 0.5133 - val_categorical_accuracy: 0.8600 - lr: 0.0010\n",
      "Epoch 11/25\n",
      "21/21 [==============================] - ETA: 0s - loss: 0.0369 - categorical_accuracy: 0.9894\n",
      "Epoch 00011: val_loss did not improve from 0.51325\n",
      "21/21 [==============================] - 50s 2s/step - loss: 0.0369 - categorical_accuracy: 0.9894 - val_loss: 0.8249 - val_categorical_accuracy: 0.7700 - lr: 0.0010\n",
      "Epoch 12/25\n",
      "21/21 [==============================] - ETA: 0s - loss: 0.0322 - categorical_accuracy: 0.9864\n",
      "Epoch 00012: val_loss improved from 0.51325 to 0.34092, saving model to model_mobilenet_GRU_2023-10-0213_18_24.304293/GesRegV1model-00012-0.03216-0.98643-0.34092-0.92000.h5\n",
      "21/21 [==============================] - 48s 2s/step - loss: 0.0322 - categorical_accuracy: 0.9864 - val_loss: 0.3409 - val_categorical_accuracy: 0.9200 - lr: 0.0010\n",
      "Epoch 13/25\n",
      "21/21 [==============================] - ETA: 0s - loss: 0.1440 - categorical_accuracy: 0.9668\n",
      "Epoch 00013: val_loss did not improve from 0.34092\n",
      "21/21 [==============================] - 50s 2s/step - loss: 0.1440 - categorical_accuracy: 0.9668 - val_loss: 0.5104 - val_categorical_accuracy: 0.8600 - lr: 0.0010\n",
      "Epoch 14/25\n",
      "21/21 [==============================] - ETA: 0s - loss: 0.1463 - categorical_accuracy: 0.9623\n",
      "Epoch 00014: val_loss improved from 0.34092 to 0.11413, saving model to model_mobilenet_GRU_2023-10-0213_18_24.304293/GesRegV1model-00014-0.14629-0.96229-0.11413-0.96000.h5\n",
      "21/21 [==============================] - 50s 2s/step - loss: 0.1463 - categorical_accuracy: 0.9623 - val_loss: 0.1141 - val_categorical_accuracy: 0.9600 - lr: 0.0010\n",
      "Epoch 15/25\n",
      "21/21 [==============================] - ETA: 0s - loss: 0.1404 - categorical_accuracy: 0.9502\n",
      "Epoch 00015: val_loss did not improve from 0.11413\n",
      "21/21 [==============================] - 50s 2s/step - loss: 0.1404 - categorical_accuracy: 0.9502 - val_loss: 0.2444 - val_categorical_accuracy: 0.9000 - lr: 0.0010\n",
      "Epoch 16/25\n",
      "21/21 [==============================] - ETA: 0s - loss: 0.1164 - categorical_accuracy: 0.9698\n",
      "Epoch 00016: val_loss did not improve from 0.11413\n",
      "\n",
      "Epoch 00016: ReduceLROnPlateau reducing learning rate to 0.0005000000237487257.\n",
      "21/21 [==============================] - 48s 2s/step - loss: 0.1164 - categorical_accuracy: 0.9698 - val_loss: 0.3370 - val_categorical_accuracy: 0.9100 - lr: 0.0010\n",
      "Epoch 17/25\n",
      "21/21 [==============================] - ETA: 0s - loss: 0.0649 - categorical_accuracy: 0.9819\n",
      "Epoch 00017: val_loss did not improve from 0.11413\n",
      "21/21 [==============================] - 50s 2s/step - loss: 0.0649 - categorical_accuracy: 0.9819 - val_loss: 0.3649 - val_categorical_accuracy: 0.9200 - lr: 5.0000e-04\n",
      "Epoch 18/25\n",
      "21/21 [==============================] - ETA: 0s - loss: 0.0393 - categorical_accuracy: 0.9925\n",
      "Epoch 00018: val_loss did not improve from 0.11413\n",
      "\n",
      "Epoch 00018: ReduceLROnPlateau reducing learning rate to 0.0002500000118743628.\n",
      "21/21 [==============================] - 50s 2s/step - loss: 0.0393 - categorical_accuracy: 0.9925 - val_loss: 0.3620 - val_categorical_accuracy: 0.9200 - lr: 5.0000e-04\n",
      "Epoch 19/25\n",
      "21/21 [==============================] - ETA: 0s - loss: 0.0347 - categorical_accuracy: 0.9894\n",
      "Epoch 00019: val_loss did not improve from 0.11413\n",
      "21/21 [==============================] - 50s 2s/step - loss: 0.0347 - categorical_accuracy: 0.9894 - val_loss: 0.1460 - val_categorical_accuracy: 0.9400 - lr: 2.5000e-04\n",
      "Epoch 20/25\n",
      "21/21 [==============================] - ETA: 0s - loss: 0.0131 - categorical_accuracy: 0.9970\n",
      "Epoch 00020: val_loss did not improve from 0.11413\n",
      "\n",
      "Epoch 00020: ReduceLROnPlateau reducing learning rate to 0.0001250000059371814.\n",
      "21/21 [==============================] - 48s 2s/step - loss: 0.0131 - categorical_accuracy: 0.9970 - val_loss: 0.1624 - val_categorical_accuracy: 0.9400 - lr: 2.5000e-04\n",
      "Epoch 21/25\n",
      "21/21 [==============================] - ETA: 0s - loss: 0.0229 - categorical_accuracy: 0.9955\n",
      "Epoch 00021: val_loss did not improve from 0.11413\n",
      "21/21 [==============================] - 50s 2s/step - loss: 0.0229 - categorical_accuracy: 0.9955 - val_loss: 0.1315 - val_categorical_accuracy: 0.9500 - lr: 1.2500e-04\n",
      "Epoch 22/25\n",
      "21/21 [==============================] - ETA: 0s - loss: 0.0132 - categorical_accuracy: 0.9970\n",
      "Epoch 00022: val_loss did not improve from 0.11413\n",
      "\n",
      "Epoch 00022: ReduceLROnPlateau reducing learning rate to 6.25000029685907e-05.\n",
      "21/21 [==============================] - 50s 2s/step - loss: 0.0132 - categorical_accuracy: 0.9970 - val_loss: 0.1520 - val_categorical_accuracy: 0.9500 - lr: 1.2500e-04\n",
      "Epoch 23/25\n",
      "21/21 [==============================] - ETA: 0s - loss: 0.0090 - categorical_accuracy: 1.0000\n",
      "Epoch 00023: val_loss improved from 0.11413 to 0.07122, saving model to model_mobilenet_GRU_2023-10-0213_18_24.304293/GesRegV1model-00023-0.00904-1.00000-0.07122-0.97000.h5\n",
      "21/21 [==============================] - 50s 2s/step - loss: 0.0090 - categorical_accuracy: 1.0000 - val_loss: 0.0712 - val_categorical_accuracy: 0.9700 - lr: 6.2500e-05\n",
      "Epoch 24/25\n",
      "21/21 [==============================] - ETA: 0s - loss: 0.0103 - categorical_accuracy: 0.9955\n",
      "Epoch 00024: val_loss did not improve from 0.07122\n",
      "21/21 [==============================] - 48s 2s/step - loss: 0.0103 - categorical_accuracy: 0.9955 - val_loss: 0.0923 - val_categorical_accuracy: 0.9800 - lr: 6.2500e-05\n",
      "Epoch 25/25\n",
      "21/21 [==============================] - ETA: 0s - loss: 0.0089 - categorical_accuracy: 0.9985\n",
      "Epoch 00025: val_loss did not improve from 0.07122\n",
      "\n",
      "Epoch 00025: ReduceLROnPlateau reducing learning rate to 3.125000148429535e-05.\n",
      "21/21 [==============================] - 49s 2s/step - loss: 0.0089 - categorical_accuracy: 0.9985 - val_loss: 0.0887 - val_categorical_accuracy: 0.9700 - lr: 6.2500e-05\n"
     ]
    }
   ],
   "source": [
    "model12 = model12.fit(train_generator, steps_per_epoch=steps_per_epoch, epochs=num_epochs, verbose=1, \n",
    "                    callbacks=callbacks_list, validation_data=val_generator, \n",
    "                    validation_steps=validation_steps, class_weight=None, workers=1, initial_epoch=0)"
   ]
  },
  {
   "cell_type": "code",
   "execution_count": 29,
   "metadata": {},
   "outputs": [],
   "source": [
    "import matplotlib.pyplot as plt\n",
    "def plot_loss_accuracy(history):\n",
    "    # list all data in history\n",
    "    print(history.history.keys())\n",
    "    # summarize history for accuracy\n",
    "    plt.plot(history.history['categorical_accuracy'])\n",
    "    plt.plot(history.history['val_categorical_accuracy'])\n",
    "    plt.title('model accuracy')\n",
    "    plt.ylabel('accuracy')\n",
    "    plt.xlabel('epoch')\n",
    "    plt.legend(['train', 'test'], loc='upper left')\n",
    "    plt.show()\n",
    "    # summarize history for loss\n",
    "    plt.plot(history.history['loss'])\n",
    "    plt.plot(history.history['val_loss'])\n",
    "    plt.title('model loss')\n",
    "    plt.ylabel('loss')\n",
    "    plt.xlabel('epoch')\n",
    "    plt.legend(['train', 'test'], loc='upper left')\n",
    "    plt.show()"
   ]
  },
  {
   "cell_type": "code",
   "execution_count": 30,
   "metadata": {},
   "outputs": [
    {
     "name": "stdout",
     "output_type": "stream",
     "text": [
      "dict_keys(['loss', 'categorical_accuracy', 'val_loss', 'val_categorical_accuracy', 'lr'])\n"
     ]
    },
    {
     "data": {
      "image/png": "[encoded data removed]",
      "text/plain": [
       "<Figure size 432x288 with 1 Axes>"
      ]
     },
     "metadata": {
      "needs_background": "light"
     },
     "output_type": "display_data"
    },
    {
     "data": {
      "image/png": "[encoded data removed]",
      "text/plain": [
       "<Figure size 432x288 with 1 Axes>"
      ]
     },
     "metadata": {
      "needs_background": "light"
     },
     "output_type": "display_data"
    }
   ],
   "source": [
    "plot_loss_accuracy(model12)"
   ]
  },
  {
   "cell_type": "code",
   "execution_count": null,
   "metadata": {},
   "outputs": [],
   "source": []
  }
 ],
 "metadata": {
  "kernelspec": {
   "display_name": "Python 3 (ipykernel)",
   "language": "python",
   "name": "python3"
  },
  "language_info": {
   "codemirror_mode": {
    "name": "ipython",
    "version": 3
   },
   "file_extension": ".py",
   "mimetype": "text/x-python",
   "name": "python",
   "nbconvert_exporter": "python",
   "pygments_lexer": "ipython3",
   "version": "3.8.10"
  }
 },
 "nbformat": 4,
 "nbformat_minor": 4
}
